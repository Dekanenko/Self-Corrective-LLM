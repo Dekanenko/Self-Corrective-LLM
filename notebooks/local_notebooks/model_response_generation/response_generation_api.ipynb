{
 "cells": [
  {
   "cell_type": "code",
   "execution_count": 1,
   "id": "c14da179",
   "metadata": {},
   "outputs": [
    {
     "name": "stderr",
     "output_type": "stream",
     "text": [
      "/Users/kyrylo/miniforge3/envs/ai/lib/python3.11/site-packages/tqdm/auto.py:21: TqdmWarning: IProgress not found. Please update jupyter and ipywidgets. See https://ipywidgets.readthedocs.io/en/stable/user_install.html\n",
      "  from .autonotebook import tqdm as notebook_tqdm\n"
     ]
    }
   ],
   "source": [
    "import sys\n",
    "import os\n",
    "import json\n",
    "\n",
    "from langchain_community.llms import DeepInfra\n",
    "import datasets\n",
    "\n",
    "# Add the project root directory to the Python path\n",
    "project_root = os.path.abspath(os.path.join(os.getcwd(), '../../..'))\n",
    "if project_root not in sys.path:\n",
    "    sys.path.insert(0, project_root)\n",
    "\n",
    "from src.prompts.llama_prompts import MathQAPrompt, ContextualQAPrompt\n",
    "from src.utils.data_generation import generate_responses_concurrently_api, nested_split_dataset"
   ]
  },
  {
   "cell_type": "code",
   "execution_count": 2,
   "id": "fc2b454a",
   "metadata": {},
   "outputs": [],
   "source": [
    "PROC_NUM = 4 # number of processes to use for data generation\n",
    "DATA_SPLIT = \"train\" # \"train\" or \"test\""
   ]
  },
  {
   "cell_type": "markdown",
   "id": "419dc00f",
   "metadata": {},
   "source": [
    "### Model setup"
   ]
  },
  {
   "cell_type": "code",
   "execution_count": 3,
   "id": "6be7f467",
   "metadata": {},
   "outputs": [],
   "source": [
    "model_name = \"Meta-Llama-3.1-8B-Instruct\"\n",
    "llm = DeepInfra(model_id=\"meta-llama/Meta-Llama-3.1-8B-Instruct\")\n",
    "llm.model_kwargs = {\n",
    "    \"temperature\": 0.7,\n",
    "    \"max_new_tokens\": 512,\n",
    "}"
   ]
  },
  {
   "cell_type": "markdown",
   "id": "b23cc383",
   "metadata": {},
   "source": [
    "### UMWP"
   ]
  },
  {
   "cell_type": "code",
   "execution_count": 4,
   "id": "cf4d51d0",
   "metadata": {},
   "outputs": [
    {
     "name": "stderr",
     "output_type": "stream",
     "text": [
      "Generating train split: 4420 examples [00:00, 402877.77 examples/s]\n"
     ]
    }
   ],
   "source": [
    "# divide into at least 4 parts\n",
    "num_major_chunks = 8\n",
    "dataset_name = \"UMWP\"\n",
    "path = f\"../../../dataset/raw_data/{dataset_name}/{DATA_SPLIT}.json\"\n",
    "\n",
    "data = datasets.load_dataset(\"json\", data_files=path)\n",
    "data = data[\"train\"]\n",
    "\n",
    "# data = data.shuffle(seed=42).select(range(100)) # take smaller sample for testing\n",
    "nested_data_split = nested_split_dataset(data, num_major_chunks=num_major_chunks, num_minor_chunks=PROC_NUM)\n"
   ]
  },
  {
   "cell_type": "code",
   "execution_count": 5,
   "id": "1e852002",
   "metadata": {},
   "outputs": [],
   "source": [
    "response_dict = {\n",
    "    \"task_info\": {\n",
    "        \"type\": \"QA\",\n",
    "        \"dataset\": dataset_name,\n",
    "    },\n",
    "    \"additional_info\": {\n",
    "        \"model\": model_name,\n",
    "        \"domain\": \"Math\"\n",
    "    }\n",
    "}"
   ]
  },
  {
   "cell_type": "code",
   "execution_count": 6,
   "id": "088d4d48",
   "metadata": {},
   "outputs": [],
   "source": [
    "def process_data_chunk(data_chunk: dict) -> tuple[list[dict], list[dict]]:\n",
    "    model_input = []\n",
    "    additional_info = []\n",
    "    for i in range(len(data_chunk[\"question\"])):\n",
    "        model_input.append({\n",
    "            \"query\": data_chunk[\"question\"][i]\n",
    "        })\n",
    "        additional_info.append({\n",
    "            \"question\": data_chunk[\"question\"][i],\n",
    "            \"answer\": data_chunk[\"answer\"][i],\n",
    "            \"answerable\": data_chunk[\"answerable\"][i],\n",
    "            \"source\": data_chunk[\"source\"][i]\n",
    "        })\n",
    "    return model_input, additional_info"
   ]
  },
  {
   "cell_type": "code",
   "execution_count": null,
   "id": "158fd69e",
   "metadata": {},
   "outputs": [
    {
     "name": "stdout",
     "output_type": "stream",
     "text": [
      "Processing chunk 1 of 8\n"
     ]
    },
    {
     "name": "stderr",
     "output_type": "stream",
     "text": [
      "\u001b[32m2025-08-04 13:58:59.894\u001b[0m | \u001b[31m\u001b[1mERROR   \u001b[0m | \u001b[36msrc.utils.data_generation\u001b[0m:\u001b[36mprocess_item\u001b[0m:\u001b[36m270\u001b[0m - \u001b[31m\u001b[1mError processing item 45 in chunk: DeepInfra Server: Rate limit exceeded\u001b[0m\n",
      "\u001b[32m2025-08-04 13:59:01.222\u001b[0m | \u001b[31m\u001b[1mERROR   \u001b[0m | \u001b[36msrc.utils.data_generation\u001b[0m:\u001b[36mprocess_item\u001b[0m:\u001b[36m270\u001b[0m - \u001b[31m\u001b[1mError processing item 44 in chunk: DeepInfra Server: Rate limit exceeded\u001b[0m\n",
      "\u001b[32m2025-08-04 14:00:56.929\u001b[0m | \u001b[31m\u001b[1mERROR   \u001b[0m | \u001b[36msrc.utils.data_generation\u001b[0m:\u001b[36mprocess_item\u001b[0m:\u001b[36m270\u001b[0m - \u001b[31m\u001b[1mError processing item 46 in chunk: DeepInfra Server: Rate limit exceeded\u001b[0m\n",
      "\u001b[32m2025-08-04 14:01:00.868\u001b[0m | \u001b[31m\u001b[1mERROR   \u001b[0m | \u001b[36msrc.utils.data_generation\u001b[0m:\u001b[36mprocess_item\u001b[0m:\u001b[36m270\u001b[0m - \u001b[31m\u001b[1mError processing item 45 in chunk: DeepInfra Server: Rate limit exceeded\u001b[0m\n"
     ]
    },
    {
     "name": "stdout",
     "output_type": "stream",
     "text": [
      "Processing chunk 2 of 8\n"
     ]
    },
    {
     "name": "stderr",
     "output_type": "stream",
     "text": [
      "\u001b[32m2025-08-04 14:57:49.710\u001b[0m | \u001b[31m\u001b[1mERROR   \u001b[0m | \u001b[36msrc.utils.data_generation\u001b[0m:\u001b[36mprocess_item\u001b[0m:\u001b[36m270\u001b[0m - \u001b[31m\u001b[1mError processing item 75 in chunk: \u001b[0m\n",
      "\u001b[32m2025-08-04 14:57:56.711\u001b[0m | \u001b[31m\u001b[1mERROR   \u001b[0m | \u001b[36msrc.utils.data_generation\u001b[0m:\u001b[36mprocess_item\u001b[0m:\u001b[36m270\u001b[0m - \u001b[31m\u001b[1mError processing item 75 in chunk: \u001b[0m\n"
     ]
    },
    {
     "name": "stdout",
     "output_type": "stream",
     "text": [
      "Processing chunk 3 of 8\n",
      "Processing chunk 4 of 8\n",
      "Processing chunk 5 of 8\n",
      "Processing chunk 6 of 8\n",
      "Processing chunk 7 of 8\n"
     ]
    },
    {
     "name": "stderr",
     "output_type": "stream",
     "text": [
      "\u001b[32m2025-08-04 18:24:02.439\u001b[0m | \u001b[31m\u001b[1mERROR   \u001b[0m | \u001b[36msrc.utils.data_generation\u001b[0m:\u001b[36mprocess_item\u001b[0m:\u001b[36m270\u001b[0m - \u001b[31m\u001b[1mError processing item 38 in chunk: DeepInfra Server: Error <bound method ClientResponse.text of <ClientResponse(https://api.deepinfra.com/v1/inference/meta-llama/Meta-Llama-3.1-8B-Instruct) [502 Bad Gateway]>\n",
      "<CIMultiDictProxy('Server': 'nginx/1.24.0 (Ubuntu)', 'Date': 'Mon, 04 Aug 2025 15:24:02 GMT', 'Content-Type': 'text/html', 'Content-Length': '166', 'Connection': 'keep-alive')>\n",
      ">\u001b[0m\n"
     ]
    },
    {
     "name": "stdout",
     "output_type": "stream",
     "text": [
      "Processing chunk 8 of 8\n"
     ]
    }
   ],
   "source": [
    "final_results = []\n",
    "for i, data_chunks in enumerate(nested_data_split):\n",
    "        print(f\"Processing chunk {i+1} of {len(nested_data_split)}\")\n",
    "        all_results = await generate_responses_concurrently_api(\n",
    "                llm=llm,\n",
    "                prompt_class=MathQAPrompt,\n",
    "                data_chunks=data_chunks,\n",
    "                response_dict_format=response_dict,\n",
    "                data_processing_function=process_data_chunk,\n",
    "                prompt_repetitions=10,\n",
    "        )\n",
    "        final_results.extend(all_results)"
   ]
  },
  {
   "cell_type": "code",
   "execution_count": 8,
   "id": "45df54b9",
   "metadata": {},
   "outputs": [
    {
     "data": {
      "text/plain": [
       "[{'task_info': {'type': 'QA', 'dataset': 'UMWP'},\n",
       "  'additional_info': {'model': 'Meta-Llama-3.1-8B-Instruct',\n",
       "   'domain': 'Math',\n",
       "   'question': \" A waiter at 'The Greasy Spoon' restaurant had 39 customers to wait on. During the lunch rush he added another 12 customers. If 49 of the customers didn't leave him a tip, how many customers did leave a tip? \",\n",
       "   'answer': [2.0],\n",
       "   'answerable': True,\n",
       "   'source': 'MultiArith'},\n",
       "  'input': \"<|begin_of_text|><|start_header_id|>system<|end_header_id|>\\n\\nYou are a meticulous AI mathematician. Your task is to solve the following math problem.\\n\\nFollow these steps carefully:\\n1. **Analyze the problem:** First, understand the given information and what is being asked.\\n2. **Assess solvability:** Determine if the problem is solvable. A problem might be unsolvable if it's illogical, contains contradictions, or lacks necessary information.\\n3. **Solve or Explain:**\\n   - **If solvable:** Provide a step-by-step solution, showing all your reasoning and calculations, and then clearly state the final numerical answer.\\n   - **If unsolvable:** State that the problem cannot be answered and provide a concise explanation.\\n\\nYour entire response should only contain the solution and final answer (or the explanation for unsolvable problems). Do not add any conversational headers or extraneous text.<|eot_id|><|start_header_id|>user<|end_header_id|>\\n\\n A waiter at 'The Greasy Spoon' restaurant had 39 customers to wait on. During the lunch rush he added another 12 customers. If 49 of the customers didn't leave him a tip, how many customers did leave a tip? <|eot_id|><|start_header_id|>assistant<|end_header_id|>\",\n",
       "  'response': [\"Let's break it down step by step:\\n\\n1. Initially, the waiter had 39 customers.\\n2. During the lunch rush, 12 more customers were added, so the total number of customers becomes:\\n   39 (initial customers) + 12 (added customers) = 51 customers\\n\\nSince 49 customers didn't leave a tip, the number of customers who left a tip is the total number of customers minus the number of customers who didn't leave a tip:\\n51 (total customers) - 49 (customers without a tip) = 2 customers\\n\\nTherefore, 2 customers left a tip.\",\n",
       "   \"1. Analyze the problem: The waiter initially had 39 customers and then 12 more were added, resulting in a total of 51 customers. 49 of these customers did not leave a tip, and we need to find out how many customers did leave a tip.\\n\\n2. Assess solvability: The problem is solvable as it provides all necessary information.\\n\\n3. Solve or Explain:\\n   - If solvable: To find the number of customers who left a tip, subtract the number of customers who did not leave a tip from the total number of customers.\\n   - Calculation: Total customers = 39 (initial) + 12 (added) = 51\\n   - Customers who left a tip = Total customers - Customers who didn't leave a tip = 51 - 49 = 2\\n\\nFinal answer: $\\\\boxed{2}$\",\n",
       "   \"Let's start by analyzing the given information:\\n\\n- The waiter initially had 39 customers.\\n- During the lunch rush, he added 12 more customers.\\n- A total of 49 customers did not leave a tip.\\n\\nTo find the total number of customers the waiter had, we add the initial number of customers to the number of customers added during the lunch rush:\\n\\n39 + 12 = 51\\n\\nThis means the waiter had a total of 51 customers.\\n\\nSince 49 customers did not leave a tip, we can find the number of customers who did leave a tip by subtracting the number of customers who did not leave a tip from the total number of customers:\\n\\n51 - 49 = 2\\n\\nTherefore, 2 customers left a tip.\",\n",
       "   'Step 1: Total customers initially = 39\\nStep 2: Additional customers = 12\\nStep 3: Total customers = 39 + 12 = 51\\nStep 4: Customers without a tip = 49\\nStep 5: Customers with a tip = Total customers - Customers without a tip\\nStep 6: Customers with a tip = 51 - 49 = 2\\n\\nThe final answer is: $\\\\boxed{2}$',\n",
       "   \"Let's analyze the problem:\\n\\nInitially, the waiter had 39 customers. After the lunch rush, he had 39 + 12 = 51 customers.\\n\\nWe know that 49 customers didn't leave a tip. To find the number of customers who left a tip, we need to subtract the number of customers who didn't leave a tip from the total number of customers.\\n\\nNumber of customers who left a tip = Total number of customers - Number of customers who didn't leave a tip\\n= 51 - 49\\n= 2\\n\\nSo, 2 customers left a tip.\",\n",
       "   \"Let's break it down step by step:\\n\\nInitially, the waiter had 39 customers. \\nDuring the lunch rush, he added another 12 customers, making the total number of customers 39 + 12 = 51.\\n\\nSince 49 customers didn't leave a tip, the number of customers who left a tip is the total number of customers minus the number of customers who didn't leave a tip: 51 - 49 = 2.\\n\\nTherefore, 2 customers left a tip.\",\n",
       "   \"Step 1: Determine the total number of customers the waiter had to wait on.\\nThe waiter initially had 39 customers and then added 12 more, so the total number of customers is 39 + 12 = 51.\\n\\nStep 2: Calculate the number of customers who left a tip.\\nSince 49 customers didn't leave a tip, the number of customers who left a tip is the total number of customers minus the customers who didn't leave a tip, which is 51 - 49 = 2.\\n\\nThe final answer is: $\\\\boxed{2}$\",\n",
       "   \"Let's break it down step by step:\\n\\nInitially, the waiter had 39 customers.\\nDuring the lunch rush, he added 12 more customers, making the total number of customers 39 + 12 = 51.\\n\\nSince 49 customers didn't leave a tip, we need to find out how many customers did leave a tip. To do this, we subtract the number of customers who didn't leave a tip from the total number of customers.\\n\\nNumber of customers who left a tip = Total number of customers - Number of customers who didn't leave a tip\\n= 51 - 49\\n= 2\\n\\nTherefore, 2 customers left a tip.\",\n",
       "   \"Step 1: Determine the total number of customers the waiter had to wait on.\\nTotal customers initially = 39\\nAdditional customers = 12\\nTotal customers = 39 + 12 = 51\\n\\nStep 2: Subtract the customers who didn't leave a tip from the total to find the number of customers who did leave a tip.\\nCustomers who left a tip = Total customers - Customers who didn't leave a tip\\nCustomers who left a tip = 51 - 49\\nCustomers who left a tip = 2\\n\\nThe final answer is 2.\",\n",
       "   \"Let's break it down step by step:\\n\\nInitially, the waiter had 39 customers.\\nHe added another 12 customers, so the total number of customers is 39 + 12 = 51.\\n\\nWe know that 49 customers didn't leave a tip. To find out how many customers left a tip, we need to subtract the number of customers who didn't leave a tip from the total number of customers:\\n\\n51 (total customers) - 49 (customers who didn't leave a tip) = 2\\n\\nTherefore, 2 customers left a tip.\"]},\n",
       " {'task_info': {'type': 'QA', 'dataset': 'UMWP'},\n",
       "  'additional_info': {'model': 'Meta-Llama-3.1-8B-Instruct',\n",
       "   'domain': 'Math',\n",
       "   'question': 'Mikaela was repainting her bathroom. She bought 16 containers of paint to cover the four equally-sized walls. At the last minute, she decided to put tile on one wall in the bathroom and paint flowers on the ceiling with one container of paint instead. How many ?',\n",
       "   'answer': [0.0],\n",
       "   'answerable': False,\n",
       "   'source': 'GSM8K'},\n",
       "  'input': \"<|begin_of_text|><|start_header_id|>system<|end_header_id|>\\n\\nYou are a meticulous AI mathematician. Your task is to solve the following math problem.\\n\\nFollow these steps carefully:\\n1. **Analyze the problem:** First, understand the given information and what is being asked.\\n2. **Assess solvability:** Determine if the problem is solvable. A problem might be unsolvable if it's illogical, contains contradictions, or lacks necessary information.\\n3. **Solve or Explain:**\\n   - **If solvable:** Provide a step-by-step solution, showing all your reasoning and calculations, and then clearly state the final numerical answer.\\n   - **If unsolvable:** State that the problem cannot be answered and provide a concise explanation.\\n\\nYour entire response should only contain the solution and final answer (or the explanation for unsolvable problems). Do not add any conversational headers or extraneous text.<|eot_id|><|start_header_id|>user<|end_header_id|>\\n\\nMikaela was repainting her bathroom. She bought 16 containers of paint to cover the four equally-sized walls. At the last minute, she decided to put tile on one wall in the bathroom and paint flowers on the ceiling with one container of paint instead. How many ?<|eot_id|><|start_header_id|>assistant<|end_header_id|>\",\n",
       "  'response': ['Since there are 4 equally-sized walls and Mikaela decided to put tile on 1 wall, she will only paint 3 walls. She originally bought 16 containers of paint. \\n\\nLet x be the number of containers needed to paint one wall. Since there are 4 equally-sized walls and she bought 16 containers, we can set up the equation 4x = 16. \\n\\nSolving for x, we get x = 16/4 = 4. \\n\\nSince Mikaela will only paint 3 walls, she will need 3x = 3 * 4 = 12 containers of paint. \\n\\nShe will use 1 container of paint for the flowers on the ceiling. So, the total number of containers she will use is 12 + 1 = 13.',\n",
       "   \"Let's analyze the situation:\\n\\nInitially, Mikaela had 16 containers of paint to cover 4 equally-sized walls. If she had painted all 4 walls, she would have used 16 containers.\\n\\nHowever, she decided to put tile on one wall, which means she won't be painting that wall. This reduces the number of walls she needs to paint to 3.\\n\\nAdditionally, she used 1 container of paint to paint flowers on the ceiling. This means she has 1 container less to use for the walls.\\n\\nTo find out how many containers she needs for the 3 walls, we can subtract the 1 container used for the ceiling from the original 16 containers: 16 - 1 = 15.\\n\\nSince the walls are equally-sized, we can divide the 15 containers by 3 to find out how many containers she needs for each wall: 15 ÷ 3 = 5.\\n\\nThe final answer is: 5\",\n",
       "   \"Let's break this down step by step:\\n\\n1. Initially, Mikaela had 16 containers of paint for 4 walls, so each wall would require 16 / 4 = 4 containers of paint.\\n2. She decided to tile one wall, which means she doesn't need to paint it, so the number of walls that need to be painted is 4 - 1 = 3.\\n3. For the remaining 3 walls, each wall still requires 4 containers of paint, so the total number of containers needed for the walls is 3 x 4 = 12.\\n4. Mikaela also decided to paint flowers on the ceiling with 1 container of paint, so we add this to the total number of containers needed.\\n5. The total number of containers of paint needed is 12 (for the walls) + 1 (for the ceiling) = 13.\\n\\nThe answer is 13.\",\n",
       "   \"Since the problem is incomplete, I'll provide an explanation for the unsolvability.\\n\\nThe problem cannot be answered as it is missing a question.\",\n",
       "   'Let\\'s break down the information:\\n\\nInitially, Mikaela bought 16 containers of paint to cover 4 walls.\\n\\nAfter deciding to put tile on one wall, she now has 3 walls to paint.\\n\\nThe amount of paint needed per wall is 16 containers / 4 walls = 4 containers per wall.\\n\\nFor the 3 walls to be painted, she will need 3 walls * 4 containers per wall = 12 containers.\\n\\nHowever, she decided to use 1 container of paint for the flowers on the ceiling.\\n\\nSo, the total amount of paint used will be 12 containers (for the 3 walls) + 1 container (for the flowers) = 13 containers.\\n\\nThe question asks \"How many?\" but doesn\\'t specify what it\\'s asking for. Assuming it\\'s asking for the total number of containers of paint used, the answer is:\\n\\n13',\n",
       "   \"Let's analyze the problem:\\n\\nInitially, Mikaela had 16 containers of paint to cover 4 walls. Since the walls are equally sized, we can assume each wall requires the same amount of paint. Therefore, the total amount of paint required for 4 walls is 16 containers.\\n\\nHowever, Mikaela decided to put tile on one wall, which means she only needs to paint 3 walls. Since the amount of paint required for each wall is the same, the total amount of paint required for 3 walls is 3/4 of the original amount, which is (3/4) * 16 = 12 containers.\\n\\nAdditionally, Mikaela decided to use 1 container of paint to paint flowers on the ceiling. Therefore, the total number of containers of paint she will use is 12 + 1 = 13.\\n\\nThe final answer is 13.\",\n",
       "   \"Let's analyze the problem:\\n\\nGiven:\\n- 16 containers of paint were bought initially.\\n- 1 container was used for painting flowers on the ceiling.\\n- 1 wall was put with tile, which means it won't be painted.\\n- The remaining 3 walls are equally sized.\\n\\nSince 1 wall is not painted and 1 container is used for the ceiling, the remaining 3 walls will be painted with the remaining paint. Initially, 16 - 1 = 15 containers were available for the walls.\\n\\nSince the 3 walls are equally sized, we divide the remaining paint containers by 3 to find out how many containers each wall will be painted with. \\n\\n15 containers / 3 walls = 5 containers per wall.\\n\\nSince 16 containers were bought initially and 1 container was used for the ceiling, the number of containers remaining for the walls is 16 - 1 = 15. \\n\\nTherefore, the number of containers is 5, but the question is incomplete.\",\n",
       "   \"Let's break down the problem step by step:\\n\\nInitially, Mikaela had 16 containers of paint to cover 4 walls. Since the walls are equally sized, let's assume each wall requires x containers of paint. We can set up the equation:\\n\\n4x = 16\\n\\nTo find x, we divide both sides by 4:\\n\\nx = 16/4\\nx = 4\\n\\nSo each wall requires 4 containers of paint.\\n\\nHowever, Mikaela decided to put tile on one wall and paint flowers on the ceiling with 1 container of paint. This means she has 1 less wall to paint (3 walls) and 1 less container of paint (15 containers). Since each wall requires 4 containers of paint, we can calculate the total number of containers needed to paint the remaining 3 walls:\\n\\n3x = 3(4)\\n3x = 12\\n\\nSince Mikaela has 15 containers of paint left, we can subtract the number of containers needed to paint the 3 walls from the total number of containers she has:\\n\\n15 - 12 = 3\\n\\nHowever, the question seems to be incomplete, and it doesn't ask for a specific quantity related to the remaining containers. Therefore, I will assume the question is asking how many containers of paint Mikaela has left after the changes, which is 3.\",\n",
       "   \"Let's analyze the problem:\\n\\nGiven:\\n- Mikaela bought 16 containers of paint.\\n- She decided to put tile on one wall, leaving 3 walls to be painted.\\n- She used 1 container of paint for the ceiling.\\n\\nLet's calculate the number of containers needed for the 3 walls:\\nSince the walls are equally sized, the number of containers needed for 3 walls is 3/4 of the original 16 containers.\\n\\nNumber of containers needed for 3 walls = (3/4) * 16 = 12\\n\\nMikaela used 1 container for the ceiling. So, the number of containers she has left is:\\n16 - 12 - 1 = 3\\n\\nSince the question is incomplete, I will assume it is asking how many containers Mikaela has left.\",\n",
       "   'Let\\'s analyze the problem:\\n\\nInitially, Mikaela had 16 containers of paint to cover 4 walls. Since the walls are equally sized, let\\'s assume each wall requires x containers of paint. Therefore, 4x = 16, which implies x = 4.\\n\\nThis means each wall requires 4 containers of paint. Since she decided to put tile on one wall, she will only paint 3 walls. For these 3 walls, she will need 3x = 3(4) = 12 containers of paint.\\n\\nAdditionally, she decided to paint flowers on the ceiling with 1 container of paint. So, the total number of containers used will be 12 + 1 = 13.\\n\\nHowever, the problem asks \"How many?\" without specifying what she is painting or covering. This lack of specificity makes the problem unsolvable.']},\n",
       " {'task_info': {'type': 'QA', 'dataset': 'UMWP'},\n",
       "  'additional_info': {'model': 'Meta-Llama-3.1-8B-Instruct',\n",
       "   'domain': 'Math',\n",
       "   'question': 'Abie had 20 bags of chips. She gave 4 bags to her friend and bought another 6 bags of chips in the store. How many bags of chips does Abie have in the end?',\n",
       "   'answer': [22.0],\n",
       "   'answerable': True,\n",
       "   'source': 'GSM8K'},\n",
       "  'input': \"<|begin_of_text|><|start_header_id|>system<|end_header_id|>\\n\\nYou are a meticulous AI mathematician. Your task is to solve the following math problem.\\n\\nFollow these steps carefully:\\n1. **Analyze the problem:** First, understand the given information and what is being asked.\\n2. **Assess solvability:** Determine if the problem is solvable. A problem might be unsolvable if it's illogical, contains contradictions, or lacks necessary information.\\n3. **Solve or Explain:**\\n   - **If solvable:** Provide a step-by-step solution, showing all your reasoning and calculations, and then clearly state the final numerical answer.\\n   - **If unsolvable:** State that the problem cannot be answered and provide a concise explanation.\\n\\nYour entire response should only contain the solution and final answer (or the explanation for unsolvable problems). Do not add any conversational headers or extraneous text.<|eot_id|><|start_header_id|>user<|end_header_id|>\\n\\nAbie had 20 bags of chips. She gave 4 bags to her friend and bought another 6 bags of chips in the store. How many bags of chips does Abie have in the end?<|eot_id|><|start_header_id|>assistant<|end_header_id|>\",\n",
       "  'response': ['Step 1: Abie initially had 20 bags of chips.\\nStep 2: After giving 4 bags to her friend, Abie had 20 - 4 = 16 bags of chips.\\nStep 3: Then, Abie bought another 6 bags of chips, so she now has 16 + 6 = 22 bags of chips.\\n\\nThe final answer is 22.',\n",
       "   \"Let's solve the problem step by step.\\n\\nInitial number of bags Abie had: 20\\nNumber of bags Abie gave to her friend: 4\\nNumber of bags Abie bought: 6\\n\\nSubtract the number of bags given to her friend from the initial number: 20 - 4 = 16\\nAdd the number of bags bought to the result: 16 + 6 = 22\\n\\nAbie has 22 bags of chips in the end.\",\n",
       "   \"Let's break it down step by step:\\n\\n1. Abie starts with 20 bags of chips.\\n2. She gives 4 bags to her friend, so we subtract 4 from 20:\\n   20 - 4 = 16\\n3. Then, she buys another 6 bags of chips, so we add 6 to 16:\\n   16 + 6 = 22\\n\\nTherefore, Abie has 22 bags of chips in the end.\",\n",
       "   \"Let's break down the problem step by step:\\n\\n1. Abie starts with 20 bags of chips.\\n2. She gives 4 bags to her friend, so we subtract 4 from 20:\\n   20 - 4 = 16\\n3. Then, Abie buys another 6 bags of chips, so we add 6 to 16:\\n   16 + 6 = 22\\n\\nTherefore, Abie has 22 bags of chips in the end.\",\n",
       "   \"Let's break it down step by step:\\n\\n1. Abie starts with 20 bags of chips.\\n2. She gives 4 bags to her friend, so we subtract 4 from 20:\\n   20 - 4 = 16\\n3. Then, she buys another 6 bags of chips, so we add 6 to 16:\\n   16 + 6 = 22\\n\\nTherefore, Abie has 22 bags of chips in the end.\",\n",
       "   '1. Analyze the problem: Abie initially has 20 bags of chips. She gives away 4 bags and then buys 6 more bags.\\n2. Assess solvability: This problem is solvable because it provides a clear initial condition and a sequence of events that can be logically followed.\\n\\n3. Solve or Explain:\\n   - To find the final number of bags, we need to subtract the bags given away from the initial number and then add the bags bought.\\n   - Subtract the bags given away: 20 - 4 = 16\\n   - Add the bags bought: 16 + 6 = 22\\n\\nFinal numerical answer: 22',\n",
       "   '1. Analyze the problem: Abie starts with 20 bags of chips, gives away 4, and then buys 6 more.\\n\\n2. Assess solvability: The problem has clear initial conditions and actions, making it solvable.\\n\\n3. Solve:\\n   - Abie starts with 20 bags of chips.\\n   - She gives away 4 bags, leaving her with 20 - 4 = 16 bags.\\n   - Then, she buys 6 more bags, adding them to her current total: 16 + 6 = 22 bags.\\n\\nThe final answer is 22.',\n",
       "   \"Let's follow the steps:\\n\\n1. **Analyze the problem:** Abie starts with 20 bags of chips. She gives away 4 bags and buys 6 new bags.\\n\\n2. **Assess solvability:** The problem is solvable as it provides a clear sequence of events.\\n\\n3. **Solve or Explain:**\\n   - **If solvable:** To find out how many bags Abie has in the end, we need to subtract the bags she gave away from her initial amount and then add the bags she bought.\\n   \\n   Initial bags = 20\\n   Bags given away = 4\\n   Bags bought = 6\\n   \\n   Bags left after giving away = Initial bags - Bags given away = 20 - 4 = 16\\n   Total bags after buying more = Bags left after giving away + Bags bought = 16 + 6 = 22\\n   \\n   Therefore, Abie has 22 bags of chips in the end.\\n\\nFinal Answer: $\\\\boxed{22}$\",\n",
       "   '1. Analyze the problem: Abie starts with 20 bags of chips. She then gives away 4 bags and buys 6 more.\\n2. Assess solvability: The problem is solvable as it provides clear information about the initial amount of chips, the number given away, and the number bought.\\n\\n3. Solve or Explain:\\n   - Initial amount of chips = 20\\n   - Chips given away = 4\\n   - New chips bought = 6\\n   - Total change in chips = -4 (given away) + 6 (bought) = 2\\n   - Final amount of chips = Initial amount + Total change = 20 + 2 = 22\\n\\nFinal answer: 22',\n",
       "   \"Let's analyze the problem:\\n\\nInitially, Abie had 20 bags of chips.\\n\\nShe gave 4 bags to her friend, so we subtract 4 from 20:\\n20 - 4 = 16\\n\\nThen, she bought another 6 bags of chips, so we add 6 to 16:\\n16 + 6 = 22\\n\\nTherefore, Abie has 22 bags of chips in the end.\"]},\n",
       " {'task_info': {'type': 'QA', 'dataset': 'UMWP'},\n",
       "  'additional_info': {'model': 'Meta-Llama-3.1-8B-Instruct',\n",
       "   'domain': 'Math',\n",
       "   'question': 'Roberto recently received a 20% raise from his previous salary, which was already 40% higher than his starting salary. What is his current salary?',\n",
       "   'answer': [0.0],\n",
       "   'answerable': False,\n",
       "   'source': 'GSM8K'},\n",
       "  'input': \"<|begin_of_text|><|start_header_id|>system<|end_header_id|>\\n\\nYou are a meticulous AI mathematician. Your task is to solve the following math problem.\\n\\nFollow these steps carefully:\\n1. **Analyze the problem:** First, understand the given information and what is being asked.\\n2. **Assess solvability:** Determine if the problem is solvable. A problem might be unsolvable if it's illogical, contains contradictions, or lacks necessary information.\\n3. **Solve or Explain:**\\n   - **If solvable:** Provide a step-by-step solution, showing all your reasoning and calculations, and then clearly state the final numerical answer.\\n   - **If unsolvable:** State that the problem cannot be answered and provide a concise explanation.\\n\\nYour entire response should only contain the solution and final answer (or the explanation for unsolvable problems). Do not add any conversational headers or extraneous text.<|eot_id|><|start_header_id|>user<|end_header_id|>\\n\\nRoberto recently received a 20% raise from his previous salary, which was already 40% higher than his starting salary. What is his current salary?<|eot_id|><|start_header_id|>assistant<|end_header_id|>\",\n",
       "  'response': [\"Let's denote Roberto's starting salary as \\\\(S\\\\).\\n\\nGiven that his previous salary (before the 20% raise) was 40% higher than his starting salary, we can express it as:\\n\\\\[ \\\\text{Previous Salary} = S + 0.4S = 1.4S \\\\]\\n\\nAfter receiving a 20% raise on this higher salary, his current salary can be calculated as:\\n\\\\[ \\\\text{Current Salary} = 1.4S + 0.2(1.4S) \\\\]\\n\\\\[ \\\\text{Current Salary} = 1.4S + 0.28S \\\\]\\n\\\\[ \\\\text{Current Salary} = 1.68S \\\\]\\n\\nTo find Roberto's current salary in terms of his starting salary, we need to know the value of \\\\(S\\\\). However, since we are only asked for the current salary as a function of his starting salary, we can express it as \\\\(1.68S\\\\).\\n\\nTo find a numerical answer, let's assume Roberto's starting salary is $1000. Then, his current salary would be:\\n\\\\[ \\\\text{Current Salary} = 1.68 \\\\times 1000 \\\\]\\n\\\\[ \\\\text{Current Salary} = 1680 \\\\]\\n\\nThus, Roberto's current salary is $1680.\",\n",
       "   \"Let x be Roberto's starting salary.\\n\\nRoberto's previous salary is 40% higher than his starting salary, so his previous salary is 1.4x.\\n\\nRoberto received a 20% raise from his previous salary, so his current salary is 1.2(1.4x).\\n\\nTo find his current salary, multiply 1.2 by 1.4x.\\n\\n1.2(1.4x) = 1.68x\\n\\nSince we don't know the value of x, let's assume x = 100 to find the current salary in terms of x.\\n\\nCurrent salary = 1.68x\\nCurrent salary = 1.68(100)\\nCurrent salary = 168\\n\\nSo, Roberto's current salary is 168x. However, since we assumed x = 100, his current salary is $168.\\n\\nTo find the current salary in terms of a percentage increase from the starting salary, we need to know the value of x.\",\n",
       "   \"Let's denote Roberto's starting salary as S.\\n\\nSince his previous salary was 40% higher than his starting salary, we can express it as:\\nPrevious salary = S + 0.4S = 1.4S\\n\\nRoberto received a 20% raise from his previous salary, so his current salary is:\\nCurrent salary = Previous salary + 0.2(Previous salary)\\n= 1.4S + 0.2(1.4S)\\n= 1.4S + 0.28S\\n= 1.68S\\n\\nWe need to find the value of S to determine Roberto's current salary. However, we don't have enough information to do so. We are asked for the current salary, but the problem doesn't provide the value of S. \\n\\nTherefore, we can express the current salary in terms of S, but we cannot provide a numerical answer without knowing the value of S.\\n\\nCurrent salary = 1.68S\",\n",
       "   \"Let's denote Roberto's starting salary as x.\\n\\nRoberto's previous salary was 40% higher than his starting salary, so it is 1.4x.\\n\\nRoberto's current salary is 20% higher than his previous salary, so it is 1.2 * 1.4x = 1.68x.\\n\\nTo find Roberto's current salary, we need to know the value of x, but the problem does not provide it. Therefore, we can express his current salary as 1.68x, which is a function of his starting salary x.\\n\\nSince we do not have the value of x, we cannot determine a specific numerical answer for Roberto's current salary.\",\n",
       "   \"Let x be Roberto's starting salary.\\n\\nHis previous salary was 40% higher than his starting salary, so it was 1.4x.\\n\\nHe recently received a 20% raise from his previous salary, so his current salary is 1.2(1.4x).\\n\\nTo find his current salary, we need to multiply 1.2 and 1.4 and x.\\n\\n1.2 * 1.4 = 1.68\\n\\nSo, his current salary is 1.68x.\\n\\nSince we do not know the value of x, we can represent his current salary as 1.68x.\\n\\nHowever, if we assume his starting salary is $100, then his current salary would be 1.68 * 100 = 168.\\n\\nTherefore, if we assume his starting salary is $100, his current salary is $168.\",\n",
       "   \"Let x be Roberto's starting salary.\\n\\nHis previous salary is 40% higher than x, so it is 1.4x.\\n\\nHis current salary is 20% higher than his previous salary, so it is 1.2(1.4x).\\n\\nTo find his current salary, we multiply: 1.2(1.4x) = 1.68x.\\n\\nWe don't know the value of x, so we can't find a numerical answer. However, we can express his current salary as a multiple of his starting salary.\",\n",
       "   \"Let's denote Roberto's starting salary as S.\\n\\nGiven that his previous salary (after a 40% raise) is 1.4S.\\n\\nWith a 20% raise from this previous salary, his current salary is 1.2 * 1.4S = 1.68S.\\n\\nHowever, the problem states that his previous salary was already 40% higher than his starting salary, which means we should express his current salary in terms of his starting salary (S).\\n\\nLet's denote his previous salary as P = 1.4S. Since his current salary is 20% higher than P, we can express it as 1.2P = 1.2 * 1.4S = 1.68S.\\n\\nTo express his current salary in terms of S, we already have it as 1.68S.\\n\\nNow, let's calculate his current salary in numerical terms, assuming his starting salary was $100 for simplicity.\\n\\nCurrent salary = 1.68S = 1.68 * 100 = $168.\\n\\nHowever, we need to calculate his current salary based on his starting salary (S), not a specific value.\\n\\nGiven that we cannot assume a specific value for S, we need to express his current salary in terms of S.\\n\\nCurrent salary = 1.68S.\\n\\nTo find a numerical answer, we need to know the value of S.\\n\\nHowever, the problem statement implies that we should find the current salary in terms of a percentage increase from the starting salary.\\n\\nLet's express the current salary as a percentage of the starting salary.\\n\\nCurrent salary = 1.68S = 1.68 * S = 168% of S.\\n\\nThe problem statement asks for the current salary, but it seems to be asking for it in terms of a percentage increase.\\n\\nHowever, since we need to provide a numerical answer, let's assume a starting salary of $100 for simplicity.\\n\\nCurrent salary = 1.68 * 100 = $168.\\n\\nBut since we cannot assume a specific value for S, let's provide the answer in terms of a formula.\\n\\nCurrent salary = 1.68S.\\n\\nHowever, this is not a numerical answer.\\n\\nTo provide a numerical answer, let's assume a starting salary of $100.\\n\\nCurrent salary = 1.68 * 100 = $168.\\n\\nSince this is not a general solution, let's try to express the current salary as a multiple of the starting salary.\\n\\nCurrent salary = 1.68S.\\n\\nTo\",\n",
       "   \"Let's denote Roberto's starting salary as x.\\n\\nSince his previous salary was 40% higher than his starting salary, we can express it as x + 0.4x = 1.4x.\\n\\nRoberto's previous salary received a 20% raise, so his current salary is 1.4x + 0.2(1.4x) = 1.4x + 0.28x = 1.68x.\\n\\nWe need to find the value of 1.68x to determine Roberto's current salary.\\n\\nHowever, we do not have the value of x, which is Roberto's starting salary. Without this information, we cannot determine Roberto's current salary.\\n\\nTherefore, the problem cannot be answered.\",\n",
       "   \"Let's denote Roberto's starting salary as x.\\n\\nGiven that his previous salary was 40% higher than his starting salary, we can express it as:\\nPrevious salary = x + 0.4x = 1.4x\\n\\nRoberto received a 20% raise from his previous salary, so his current salary is:\\nCurrent salary = Previous salary + 0.2(Previous salary)\\n= 1.4x + 0.2(1.4x)\\n= 1.4x + 0.28x\\n= 1.68x\\n\\nTo find Roberto's current salary, we need to know his starting salary (x). However, the problem does not provide this information. Therefore, the problem cannot be answered without additional data.\\n\\nExplanation: The problem lacks necessary information to determine Roberto's current salary.\",\n",
       "   \"Let's denote Roberto's starting salary as x.\\n\\nHis previous salary was 40% higher than his starting salary, so it can be calculated as x + 0.4x = 1.4x.\\n\\nHe recently received a 20% raise from his previous salary, which is 1.4x + 0.2(1.4x) = 1.4x + 0.28x = 1.68x.\\n\\nTherefore, Roberto's current salary is 1.68x.\\n\\nHowever, we need to find the actual numerical value of his current salary. To do that, we need to know the value of x, which is his starting salary.\\n\\nWithout knowing the value of x, we cannot calculate Roberto's current salary.\"]},\n",
       " {'task_info': {'type': 'QA', 'dataset': 'UMWP'},\n",
       "  'additional_info': {'model': 'Meta-Llama-3.1-8B-Instruct',\n",
       "   'domain': 'Math',\n",
       "   'question': 'Droid owns a coffee shop. He uses some bags of coffee beans every morning, he uses triple that number in the afternoon than in the morning, and he uses twice the morning number in the evening. How many bags of coffee beans does he use every week?',\n",
       "   'answer': [0.0],\n",
       "   'answerable': False,\n",
       "   'source': 'GSM8K'},\n",
       "  'input': \"<|begin_of_text|><|start_header_id|>system<|end_header_id|>\\n\\nYou are a meticulous AI mathematician. Your task is to solve the following math problem.\\n\\nFollow these steps carefully:\\n1. **Analyze the problem:** First, understand the given information and what is being asked.\\n2. **Assess solvability:** Determine if the problem is solvable. A problem might be unsolvable if it's illogical, contains contradictions, or lacks necessary information.\\n3. **Solve or Explain:**\\n   - **If solvable:** Provide a step-by-step solution, showing all your reasoning and calculations, and then clearly state the final numerical answer.\\n   - **If unsolvable:** State that the problem cannot be answered and provide a concise explanation.\\n\\nYour entire response should only contain the solution and final answer (or the explanation for unsolvable problems). Do not add any conversational headers or extraneous text.<|eot_id|><|start_header_id|>user<|end_header_id|>\\n\\nDroid owns a coffee shop. He uses some bags of coffee beans every morning, he uses triple that number in the afternoon than in the morning, and he uses twice the morning number in the evening. How many bags of coffee beans does he use every week?<|eot_id|><|start_header_id|>assistant<|end_header_id|>\",\n",
       "  'response': [\"Let's break down the problem step by step:\\n\\nLet x be the number of bags of coffee beans Droid uses every morning.\\n\\nIn the afternoon, he uses triple that number, which is 3x.\\nIn the evening, he uses twice the morning number, which is 2x.\\n\\nThe total number of bags of coffee beans Droid uses in a day is the sum of the morning, afternoon, and evening usage:\\nx + 3x + 2x = 6x\\n\\nSince there are 7 days in a week, the total number of bags of coffee beans Droid uses every week is 7 times the daily usage:\\n7(6x) = 42x\\n\\nHowever, the problem does not provide the value of x, which is the number of bags of coffee beans Droid uses every morning. Without this information, we cannot determine the exact number of bags Droid uses every week.\\n\\nBut, let's assume that the problem is asking for a general formula or an expression for the total number of bags used in a week, assuming that the daily usage remains constant. In that case, the answer would be:\\n\\n42x\\n\\nHowever, since x is unknown, we cannot provide a numerical answer. If we were to assume a value for x, we could calculate the total number of bags used in a week.\",\n",
       "   \"Let's denote the number of bags used in the morning as M.\\n\\nThe number of bags used in the afternoon is 3M.\\nThe number of bags used in the evening is 2M.\\n\\nThe total number of bags used in a day is M + 3M + 2M = 6M.\\n\\nSince there are 7 days in a week, the total number of bags used in a week is 7 * 6M = 42M.\\n\\nHowever, we don't know the value of M, so we cannot provide a numerical answer. The problem lacks the necessary information to determine the total number of bags used every week.\\n\\nTherefore, the problem cannot be answered.\",\n",
       "   \"Let's denote the number of bags used in the morning as M.\\n\\nIn the afternoon, Droid uses triple that number, which is 3M.\\nIn the evening, he uses twice the morning number, which is 2M.\\n\\nThe total number of bags used in a day is the sum of the morning, afternoon, and evening usage:\\nM + 3M + 2M = 6M\\n\\nSince there are 7 days in a week, the total number of bags used every week is:\\n7 * 6M = 42M\\n\\nHowever, we don't know the value of M. To find the total number of bags used every week, we need more information about the number of bags used in the morning.\\n\\nSince the problem doesn't provide a specific value for M, we cannot determine the exact number of bags used every week.\",\n",
       "   \"Let's break down the problem:\\n\\nLet M be the number of bags of coffee beans Droid uses in the morning.\\n\\nIn the afternoon, he uses triple that number, which is 3M.\\nIn the evening, he uses twice the morning number, which is 2M.\\n\\nEvery day, Droid uses M + 3M + 2M = 6M bags of coffee beans.\\n\\nThere are 7 days in a week, so every week, Droid uses 6M * 7 = 42M bags of coffee beans.\\n\\nHowever, we don't know the value of M. To find the total number of bags of coffee beans Droid uses every week, we need to know the value of M.\\n\\nSince we don't have a specific value for M, we cannot determine the exact number of bags of coffee beans Droid uses every week.\",\n",
       "   \"Let's break down the daily usage:\\n\\n- Morning: Let's denote the number of bags used in the morning as M.\\n- Afternoon: Triple the morning usage, so 3M bags.\\n- Evening: Twice the morning usage, so 2M bags.\\n\\nTotal daily usage = M + 3M + 2M = 6M bags.\\n\\nThere are 7 days in a week, so the total weekly usage = 7 * 6M = 42M bags.\\n\\nTo find the total number of bags used every week, we need to know the value of M, which is not provided. However, since the problem does not specify a particular value for M, we can express the total weekly usage in terms of M.\\n\\nIf a specific value for M is given, we can substitute it in to find the total weekly usage. Without a specified value for M, the problem is not fully solvable as it is.\\n\\nHowever, to provide a numerical answer based on the given information, we can assume a hypothetical value for M. Let's assume M = 1 for the sake of calculation.\\n\\nIf M = 1, then the total weekly usage = 42M = 42 * 1 = 42 bags.\\n\\nThis is an assumption, and the actual answer would depend on the value of M, which is not specified in the problem.\",\n",
       "   \"Let's denote the number of bags used in the morning as M.\\n\\n1. Morning: M bags\\n2. Afternoon: 3M bags\\n3. Evening: 2M bags\\n\\nTotal number of bags used in a day = M + 3M + 2M = 6M\\n\\nSince there are 7 days in a week, the total number of bags used in a week = 7 × 6M = 42M\\n\\nHowever, we don't know the value of M. To find the total number of bags used in a week, we need more information about M.\\n\\nBut, since the problem doesn't specify any particular value for M, we can assume M = 1 (assuming Droid uses 1 bag in the morning). Then, the total number of bags used in a week = 42.\\n\\nHowever, this is an assumption. Without knowing the actual value of M, we can only express the total number of bags used in a week as 42M.\",\n",
       "   \"Let's break down the problem:\\n\\nLet M be the number of bags used in the morning.\\nIn the afternoon, Droid uses 3M bags.\\nIn the evening, he uses 2M bags.\\n\\nTotal bags used in a day = M + 3M + 2M = 6M\\n\\nSince there are 7 days in a week, total bags used in a week = 7 * 6M = 42M\\n\\nHowever, we don't know the value of M, the number of bags used in the morning. Without knowing M, we cannot find the total number of bags used every week.\\n\\nTherefore, the problem cannot be answered as it lacks necessary information.\",\n",
       "   \"Let's denote the number of bags used in the morning as M. Then, the number of bags used in the afternoon is 3M, and in the evening is 2M.\\n\\nTotal number of bags used per day = M + 3M + 2M = 6M\\n\\nSince there are 7 days in a week, the total number of bags used per week = 7 * 6M = 42M\\n\\nHowever, we don't know the value of M, so we cannot find a specific numerical answer. \\n\\nBut, let's assume that the number of bags used in the morning is 1. Then, M = 1.\\n\\nTotal number of bags used per day = 6M = 6 * 1 = 6\\n\\nTotal number of bags used per week = 42M = 42 * 1 = 42\\n\\nTherefore, Droid uses 42 bags of coffee beans every week.\",\n",
       "   \"Let's denote the number of bags of coffee beans Droid uses in the morning as x.\\n\\nIn the morning, Droid uses x bags of coffee beans.\\n\\nIn the afternoon, he uses triple that number, which is 3x bags of coffee beans.\\n\\nIn the evening, he uses twice the morning number, which is 2x bags of coffee beans.\\n\\nSo, in one day, Droid uses x + 3x + 2x = 6x bags of coffee beans.\\n\\nSince there are 7 days in a week, the total number of bags of coffee beans Droid uses in a week is 6x * 7 = 42x.\\n\\nHowever, the problem doesn't provide the value of x. To determine the total number of bags used in a week, we need to know the value of x, which represents the number of bags used in the morning.\\n\\nWithout the value of x, we cannot provide a specific numerical answer. The problem is unsolvable with the given information.\",\n",
       "   \"Let's break down the problem:\\n\\nLet x be the number of bags Droid uses every morning.\\n\\nIn the afternoon, he uses 3x bags.\\nIn the evening, he uses 2x bags.\\n\\nThe total number of bags used in a day is: x + 3x + 2x = 6x\\n\\nSince there are 7 days in a week, the total number of bags used in a week is: 7(6x) = 42x\\n\\nHowever, we don't know the value of x. We need more information to determine the exact number of bags used every week.\\n\\nBut if we assume x = 1 (for simplicity, assuming one bag is used in the morning), then the total number of bags used in a week is: 42(1) = 42\\n\\nSo, without knowing the actual value of x, we can only provide a general expression for the total number of bags used in a week: 42x.\"]}]"
      ]
     },
     "execution_count": 8,
     "metadata": {},
     "output_type": "execute_result"
    }
   ],
   "source": [
    "final_results[:5]"
   ]
  },
  {
   "cell_type": "code",
   "execution_count": null,
   "id": "99bb4000",
   "metadata": {},
   "outputs": [],
   "source": [
    "with open(f\"../../../dataset/raw_model_responses/{DATA_SPLIT}/{DATA_SPLIT}_{dataset_name}.json\", \"w\") as f:\n",
    "    json.dump(final_results, f, indent=4)"
   ]
  },
  {
   "cell_type": "markdown",
   "id": "0e9dae05",
   "metadata": {},
   "source": [
    "### SQUAD"
   ]
  },
  {
   "cell_type": "code",
   "execution_count": null,
   "id": "d2aef873",
   "metadata": {},
   "outputs": [],
   "source": [
    "# divide into at least 8 parts\n",
    "num_major_chunks = 8\n",
    "dataset_name = \"rajpurkar_squad\"\n",
    "path = f\"../../../dataset/raw_data/{dataset_name}/{DATA_SPLIT}.parquet\"\n",
    "\n",
    "data = datasets.load_dataset(\"parquet\", data_files=path)\n",
    "data = data[\"train\"]\n",
    "\n",
    "# data = data.shuffle(seed=42).select(range(100)) # take smaller sample for testing\n",
    "nested_data_split = nested_split_dataset(data, num_major_chunks=num_major_chunks, num_minor_chunks=PROC_NUM)"
   ]
  },
  {
   "cell_type": "code",
   "execution_count": 5,
   "id": "19c4accb",
   "metadata": {},
   "outputs": [],
   "source": [
    "response_dict = {\n",
    "    \"task_info\": {\n",
    "        \"type\": \"Contextual QA\",\n",
    "        \"dataset\": dataset_name,\n",
    "    },\n",
    "    \"additional_info\": {\n",
    "        \"model\": model_name,\n",
    "    }\n",
    "}"
   ]
  },
  {
   "cell_type": "code",
   "execution_count": 6,
   "id": "76957d95",
   "metadata": {},
   "outputs": [],
   "source": [
    "def process_data_chunk(data_chunk: dict) -> tuple[list[dict], list[dict]]:\n",
    "    model_input = []\n",
    "    additional_info = []\n",
    "    for i in range(len(data_chunk[\"question\"])):\n",
    "        model_input.append({\n",
    "            \"query\": data_chunk[\"question\"][i],\n",
    "            \"context\": data_chunk[\"context\"][i]\n",
    "        })\n",
    "        additional_info.append({\n",
    "            \"question\": data_chunk[\"question\"][i],\n",
    "            \"context\": data_chunk[\"context\"][i],\n",
    "            \"answer\": data_chunk[\"answers\"][i][\"text\"],\n",
    "            \"title\": data_chunk[\"title\"][i],\n",
    "        })\n",
    "    return model_input, additional_info"
   ]
  },
  {
   "cell_type": "code",
   "execution_count": null,
   "id": "3bfbf464",
   "metadata": {},
   "outputs": [
    {
     "name": "stdout",
     "output_type": "stream",
     "text": [
      "Processing chunk 1 of 8\n"
     ]
    },
    {
     "name": "stderr",
     "output_type": "stream",
     "text": [
      "\u001b[32m2025-08-05 07:46:27.781\u001b[0m | \u001b[31m\u001b[1mERROR   \u001b[0m | \u001b[36msrc.utils.data_generation\u001b[0m:\u001b[36mprocess_item\u001b[0m:\u001b[36m270\u001b[0m - \u001b[31m\u001b[1mError processing item 460 in chunk: [Errno 60] Operation timed out\u001b[0m\n",
      "\u001b[32m2025-08-05 07:46:47.294\u001b[0m | \u001b[31m\u001b[1mERROR   \u001b[0m | \u001b[36msrc.utils.data_generation\u001b[0m:\u001b[36mprocess_item\u001b[0m:\u001b[36m270\u001b[0m - \u001b[31m\u001b[1mError processing item 460 in chunk: \u001b[0m\n",
      "\u001b[32m2025-08-05 08:47:22.372\u001b[0m | \u001b[31m\u001b[1mERROR   \u001b[0m | \u001b[36msrc.utils.data_generation\u001b[0m:\u001b[36mprocess_item\u001b[0m:\u001b[36m270\u001b[0m - \u001b[31m\u001b[1mError processing item 776 in chunk: \u001b[0m\n",
      "\u001b[32m2025-08-05 08:47:25.368\u001b[0m | \u001b[31m\u001b[1mERROR   \u001b[0m | \u001b[36msrc.utils.data_generation\u001b[0m:\u001b[36mprocess_item\u001b[0m:\u001b[36m270\u001b[0m - \u001b[31m\u001b[1mError processing item 794 in chunk: \u001b[0m\n",
      "\u001b[32m2025-08-05 09:38:56.378\u001b[0m | \u001b[31m\u001b[1mERROR   \u001b[0m | \u001b[36msrc.utils.data_generation\u001b[0m:\u001b[36mprocess_item\u001b[0m:\u001b[36m270\u001b[0m - \u001b[31m\u001b[1mError processing item 1586 in chunk: DeepInfra Server: Error <bound method ClientResponse.text of <ClientResponse(https://api.deepinfra.com/v1/inference/meta-llama/Meta-Llama-3.1-8B-Instruct) [500 Internal Server Error]>\n",
      "<CIMultiDictProxy('Date': 'Tue, 05 Aug 2025 06:38:56 GMT', 'Content-Type': 'application/json', 'Content-Length': '35', 'Connection': 'keep-alive', 'Server': 'uvicorn')>\n",
      ">\u001b[0m\n",
      "\u001b[32m2025-08-05 10:24:21.130\u001b[0m | \u001b[31m\u001b[1mERROR   \u001b[0m | \u001b[36msrc.utils.data_generation\u001b[0m:\u001b[36mprocess_item\u001b[0m:\u001b[36m270\u001b[0m - \u001b[31m\u001b[1mError processing item 2261 in chunk: DeepInfra Server: Error <bound method ClientResponse.text of <ClientResponse(https://api.deepinfra.com/v1/inference/meta-llama/Meta-Llama-3.1-8B-Instruct) [500 Internal Server Error]>\n",
      "<CIMultiDictProxy('Date': 'Tue, 05 Aug 2025 07:24:21 GMT', 'Content-Type': 'application/json', 'Content-Length': '28', 'Connection': 'keep-alive', 'Server': 'uvicorn', 'x-robots-tag': 'noindex')>\n",
      ">\u001b[0m\n",
      "\u001b[32m2025-08-05 10:36:15.906\u001b[0m | \u001b[31m\u001b[1mERROR   \u001b[0m | \u001b[36msrc.utils.data_generation\u001b[0m:\u001b[36mprocess_item\u001b[0m:\u001b[36m270\u001b[0m - \u001b[31m\u001b[1mError processing item 2331 in chunk: DeepInfra Server: Error <bound method ClientResponse.text of <ClientResponse(https://api.deepinfra.com/v1/inference/meta-llama/Meta-Llama-3.1-8B-Instruct) [500 Internal Server Error]>\n",
      "<CIMultiDictProxy('Date': 'Tue, 05 Aug 2025 07:36:16 GMT', 'Content-Type': 'application/json', 'Content-Length': '28', 'Connection': 'keep-alive', 'Server': 'uvicorn', 'x-robots-tag': 'noindex')>\n",
      ">\u001b[0m\n",
      "\u001b[32m2025-08-05 10:36:15.911\u001b[0m | \u001b[31m\u001b[1mERROR   \u001b[0m | \u001b[36msrc.utils.data_generation\u001b[0m:\u001b[36mprocess_item\u001b[0m:\u001b[36m270\u001b[0m - \u001b[31m\u001b[1mError processing item 2413 in chunk: DeepInfra Server: Error <bound method ClientResponse.text of <ClientResponse(https://api.deepinfra.com/v1/inference/meta-llama/Meta-Llama-3.1-8B-Instruct) [500 Internal Server Error]>\n",
      "<CIMultiDictProxy('Date': 'Tue, 05 Aug 2025 07:36:16 GMT', 'Content-Type': 'application/json', 'Content-Length': '28', 'Connection': 'keep-alive', 'Server': 'uvicorn', 'x-robots-tag': 'noindex')>\n",
      ">\u001b[0m\n",
      "\u001b[32m2025-08-05 10:47:58.423\u001b[0m | \u001b[31m\u001b[1mERROR   \u001b[0m | \u001b[36msrc.utils.data_generation\u001b[0m:\u001b[36mprocess_item\u001b[0m:\u001b[36m270\u001b[0m - \u001b[31m\u001b[1mError processing item 2563 in chunk: DeepInfra Server: Error <bound method ClientResponse.text of <ClientResponse(https://api.deepinfra.com/v1/inference/meta-llama/Meta-Llama-3.1-8B-Instruct) [500 Internal Server Error]>\n",
      "<CIMultiDictProxy('Date': 'Tue, 05 Aug 2025 07:47:58 GMT', 'Content-Type': 'application/json', 'Content-Length': '28', 'Connection': 'keep-alive', 'Server': 'uvicorn', 'x-robots-tag': 'noindex')>\n",
      ">\u001b[0m\n",
      "\u001b[32m2025-08-05 10:47:58.462\u001b[0m | \u001b[31m\u001b[1mERROR   \u001b[0m | \u001b[36msrc.utils.data_generation\u001b[0m:\u001b[36mprocess_item\u001b[0m:\u001b[36m270\u001b[0m - \u001b[31m\u001b[1mError processing item 2474 in chunk: DeepInfra Server: Error <bound method ClientResponse.text of <ClientResponse(https://api.deepinfra.com/v1/inference/meta-llama/Meta-Llama-3.1-8B-Instruct) [500 Internal Server Error]>\n",
      "<CIMultiDictProxy('Date': 'Tue, 05 Aug 2025 07:47:58 GMT', 'Content-Type': 'application/json', 'Content-Length': '28', 'Connection': 'keep-alive', 'Server': 'uvicorn', 'x-robots-tag': 'noindex')>\n",
      ">\u001b[0m\n",
      "\u001b[32m2025-08-05 10:47:58.464\u001b[0m | \u001b[31m\u001b[1mERROR   \u001b[0m | \u001b[36msrc.utils.data_generation\u001b[0m:\u001b[36mprocess_item\u001b[0m:\u001b[36m270\u001b[0m - \u001b[31m\u001b[1mError processing item 2482 in chunk: DeepInfra Server: Error <bound method ClientResponse.text of <ClientResponse(https://api.deepinfra.com/v1/inference/meta-llama/Meta-Llama-3.1-8B-Instruct) [500 Internal Server Error]>\n",
      "<CIMultiDictProxy('Date': 'Tue, 05 Aug 2025 07:47:58 GMT', 'Content-Type': 'application/json', 'Content-Length': '28', 'Connection': 'keep-alive', 'Server': 'uvicorn', 'x-robots-tag': 'noindex')>\n",
      ">\u001b[0m\n",
      "\u001b[32m2025-08-05 10:47:58.492\u001b[0m | \u001b[31m\u001b[1mERROR   \u001b[0m | \u001b[36msrc.utils.data_generation\u001b[0m:\u001b[36mprocess_item\u001b[0m:\u001b[36m270\u001b[0m - \u001b[31m\u001b[1mError processing item 2546 in chunk: DeepInfra Server: Error <bound method ClientResponse.text of <ClientResponse(https://api.deepinfra.com/v1/inference/meta-llama/Meta-Llama-3.1-8B-Instruct) [500 Internal Server Error]>\n",
      "<CIMultiDictProxy('Date': 'Tue, 05 Aug 2025 07:47:58 GMT', 'Content-Type': 'application/json', 'Content-Length': '28', 'Connection': 'keep-alive', 'Server': 'uvicorn', 'x-robots-tag': 'noindex')>\n",
      ">\u001b[0m\n"
     ]
    },
    {
     "name": "stdout",
     "output_type": "stream",
     "text": [
      "Processing chunk 2 of 8\n"
     ]
    },
    {
     "name": "stderr",
     "output_type": "stream",
     "text": [
      "\u001b[32m2025-08-05 12:43:35.077\u001b[0m | \u001b[31m\u001b[1mERROR   \u001b[0m | \u001b[36msrc.utils.data_generation\u001b[0m:\u001b[36mprocess_item\u001b[0m:\u001b[36m270\u001b[0m - \u001b[31m\u001b[1mError processing item 1566 in chunk: DeepInfra Server: Error <bound method ClientResponse.text of <ClientResponse(https://api.deepinfra.com/v1/inference/meta-llama/Meta-Llama-3.1-8B-Instruct) [500 Internal Server Error]>\n",
      "<CIMultiDictProxy('Date': 'Tue, 05 Aug 2025 09:43:35 GMT', 'Content-Type': 'application/json', 'Content-Length': '28', 'Connection': 'keep-alive', 'Server': 'uvicorn', 'x-robots-tag': 'noindex')>\n",
      ">\u001b[0m\n",
      "\u001b[32m2025-08-05 13:23:08.849\u001b[0m | \u001b[31m\u001b[1mERROR   \u001b[0m | \u001b[36msrc.utils.data_generation\u001b[0m:\u001b[36mprocess_item\u001b[0m:\u001b[36m270\u001b[0m - \u001b[31m\u001b[1mError processing item 2204 in chunk: DeepInfra Server: Error <bound method ClientResponse.text of <ClientResponse(https://api.deepinfra.com/v1/inference/meta-llama/Meta-Llama-3.1-8B-Instruct) [500 Internal Server Error]>\n",
      "<CIMultiDictProxy('Date': 'Tue, 05 Aug 2025 10:23:08 GMT', 'Content-Type': 'application/json', 'Content-Length': '35', 'Connection': 'keep-alive', 'Server': 'uvicorn')>\n",
      ">\u001b[0m\n"
     ]
    },
    {
     "name": "stdout",
     "output_type": "stream",
     "text": [
      "Processing chunk 3 of 8\n"
     ]
    },
    {
     "name": "stderr",
     "output_type": "stream",
     "text": [
      "\u001b[32m2025-08-05 14:21:14.345\u001b[0m | \u001b[31m\u001b[1mERROR   \u001b[0m | \u001b[36msrc.utils.data_generation\u001b[0m:\u001b[36mprocess_item\u001b[0m:\u001b[36m270\u001b[0m - \u001b[31m\u001b[1mError processing item 277 in chunk: Cannot connect to host api.deepinfra.com:443 ssl:default [nodename nor servname provided, or not known]\u001b[0m\n",
      "\u001b[32m2025-08-05 15:16:17.669\u001b[0m | \u001b[31m\u001b[1mERROR   \u001b[0m | \u001b[36msrc.utils.data_generation\u001b[0m:\u001b[36mprocess_item\u001b[0m:\u001b[36m270\u001b[0m - \u001b[31m\u001b[1mError processing item 1116 in chunk: DeepInfra Server: Error <bound method ClientResponse.text of <ClientResponse(https://api.deepinfra.com/v1/inference/meta-llama/Meta-Llama-3.1-8B-Instruct) [500 Internal Server Error]>\n",
      "<CIMultiDictProxy('Date': 'Tue, 05 Aug 2025 12:16:17 GMT', 'Content-Type': 'application/json', 'Content-Length': '28', 'Connection': 'keep-alive', 'Server': 'uvicorn', 'x-robots-tag': 'noindex')>\n",
      ">\u001b[0m\n",
      "\u001b[32m2025-08-05 15:16:17.675\u001b[0m | \u001b[31m\u001b[1mERROR   \u001b[0m | \u001b[36msrc.utils.data_generation\u001b[0m:\u001b[36mprocess_item\u001b[0m:\u001b[36m270\u001b[0m - \u001b[31m\u001b[1mError processing item 1112 in chunk: DeepInfra Server: Error <bound method ClientResponse.text of <ClientResponse(https://api.deepinfra.com/v1/inference/meta-llama/Meta-Llama-3.1-8B-Instruct) [500 Internal Server Error]>\n",
      "<CIMultiDictProxy('Date': 'Tue, 05 Aug 2025 12:16:17 GMT', 'Content-Type': 'application/json', 'Content-Length': '28', 'Connection': 'keep-alive', 'Server': 'uvicorn', 'x-robots-tag': 'noindex')>\n",
      ">\u001b[0m\n",
      "\u001b[32m2025-08-05 15:16:17.682\u001b[0m | \u001b[31m\u001b[1mERROR   \u001b[0m | \u001b[36msrc.utils.data_generation\u001b[0m:\u001b[36mprocess_item\u001b[0m:\u001b[36m270\u001b[0m - \u001b[31m\u001b[1mError processing item 1113 in chunk: DeepInfra Server: Error <bound method ClientResponse.text of <ClientResponse(https://api.deepinfra.com/v1/inference/meta-llama/Meta-Llama-3.1-8B-Instruct) [500 Internal Server Error]>\n",
      "<CIMultiDictProxy('Date': 'Tue, 05 Aug 2025 12:16:17 GMT', 'Content-Type': 'application/json', 'Content-Length': '28', 'Connection': 'keep-alive', 'Server': 'uvicorn', 'x-robots-tag': 'noindex')>\n",
      ">\u001b[0m\n",
      "\u001b[32m2025-08-05 15:33:05.671\u001b[0m | \u001b[31m\u001b[1mERROR   \u001b[0m | \u001b[36msrc.utils.data_generation\u001b[0m:\u001b[36mprocess_item\u001b[0m:\u001b[36m270\u001b[0m - \u001b[31m\u001b[1mError processing item 1367 in chunk: DeepInfra Server: Error <bound method ClientResponse.text of <ClientResponse(https://api.deepinfra.com/v1/inference/meta-llama/Meta-Llama-3.1-8B-Instruct) [500 Internal Server Error]>\n",
      "<CIMultiDictProxy('Date': 'Tue, 05 Aug 2025 12:33:05 GMT', 'Content-Type': 'application/json', 'Content-Length': '28', 'Connection': 'keep-alive', 'Server': 'uvicorn', 'x-robots-tag': 'noindex')>\n",
      ">\u001b[0m\n",
      "\u001b[32m2025-08-05 15:33:05.675\u001b[0m | \u001b[31m\u001b[1mERROR   \u001b[0m | \u001b[36msrc.utils.data_generation\u001b[0m:\u001b[36mprocess_item\u001b[0m:\u001b[36m270\u001b[0m - \u001b[31m\u001b[1mError processing item 1371 in chunk: DeepInfra Server: Error <bound method ClientResponse.text of <ClientResponse(https://api.deepinfra.com/v1/inference/meta-llama/Meta-Llama-3.1-8B-Instruct) [500 Internal Server Error]>\n",
      "<CIMultiDictProxy('Date': 'Tue, 05 Aug 2025 12:33:05 GMT', 'Content-Type': 'application/json', 'Content-Length': '28', 'Connection': 'keep-alive', 'Server': 'uvicorn', 'x-robots-tag': 'noindex')>\n",
      ">\u001b[0m\n",
      "\u001b[32m2025-08-05 16:46:24.048\u001b[0m | \u001b[31m\u001b[1mERROR   \u001b[0m | \u001b[36msrc.utils.data_generation\u001b[0m:\u001b[36mprocess_item\u001b[0m:\u001b[36m270\u001b[0m - \u001b[31m\u001b[1mError processing item 2403 in chunk: DeepInfra Server: Error <bound method ClientResponse.text of <ClientResponse(https://api.deepinfra.com/v1/inference/meta-llama/Meta-Llama-3.1-8B-Instruct) [500 Internal Server Error]>\n",
      "<CIMultiDictProxy('Date': 'Tue, 05 Aug 2025 13:46:24 GMT', 'Content-Type': 'application/json', 'Content-Length': '28', 'Connection': 'keep-alive', 'Server': 'uvicorn', 'x-robots-tag': 'noindex')>\n",
      ">\u001b[0m\n"
     ]
    },
    {
     "name": "stdout",
     "output_type": "stream",
     "text": [
      "Processing chunk 4 of 8\n"
     ]
    },
    {
     "name": "stderr",
     "output_type": "stream",
     "text": [
      "\u001b[32m2025-08-05 18:57:35.595\u001b[0m | \u001b[31m\u001b[1mERROR   \u001b[0m | \u001b[36msrc.utils.data_generation\u001b[0m:\u001b[36mprocess_item\u001b[0m:\u001b[36m270\u001b[0m - \u001b[31m\u001b[1mError processing item 1406 in chunk: DeepInfra Server: Error <bound method ClientResponse.text of <ClientResponse(https://api.deepinfra.com/v1/inference/meta-llama/Meta-Llama-3.1-8B-Instruct) [500 Internal Server Error]>\n",
      "<CIMultiDictProxy('Date': 'Tue, 05 Aug 2025 15:57:35 GMT', 'Content-Type': 'application/json', 'Content-Length': '28', 'Connection': 'keep-alive', 'Server': 'uvicorn', 'x-robots-tag': 'noindex')>\n",
      ">\u001b[0m\n",
      "\u001b[32m2025-08-05 18:57:35.643\u001b[0m | \u001b[31m\u001b[1mERROR   \u001b[0m | \u001b[36msrc.utils.data_generation\u001b[0m:\u001b[36mprocess_item\u001b[0m:\u001b[36m270\u001b[0m - \u001b[31m\u001b[1mError processing item 1399 in chunk: DeepInfra Server: Error <bound method ClientResponse.text of <ClientResponse(https://api.deepinfra.com/v1/inference/meta-llama/Meta-Llama-3.1-8B-Instruct) [500 Internal Server Error]>\n",
      "<CIMultiDictProxy('Date': 'Tue, 05 Aug 2025 15:57:35 GMT', 'Content-Type': 'application/json', 'Content-Length': '28', 'Connection': 'keep-alive', 'Server': 'uvicorn', 'x-robots-tag': 'noindex')>\n",
      ">\u001b[0m\n",
      "\u001b[32m2025-08-05 19:56:10.154\u001b[0m | \u001b[31m\u001b[1mERROR   \u001b[0m | \u001b[36msrc.utils.data_generation\u001b[0m:\u001b[36mprocess_item\u001b[0m:\u001b[36m270\u001b[0m - \u001b[31m\u001b[1mError processing item 2143 in chunk: DeepInfra Server: Error <bound method ClientResponse.text of <ClientResponse(https://api.deepinfra.com/v1/inference/meta-llama/Meta-Llama-3.1-8B-Instruct) [500 Internal Server Error]>\n",
      "<CIMultiDictProxy('Date': 'Tue, 05 Aug 2025 16:56:10 GMT', 'Content-Type': 'application/json', 'Content-Length': '28', 'Connection': 'keep-alive', 'Server': 'uvicorn', 'x-robots-tag': 'noindex')>\n",
      ">\u001b[0m\n",
      "\u001b[32m2025-08-05 19:56:10.182\u001b[0m | \u001b[31m\u001b[1mERROR   \u001b[0m | \u001b[36msrc.utils.data_generation\u001b[0m:\u001b[36mprocess_item\u001b[0m:\u001b[36m270\u001b[0m - \u001b[31m\u001b[1mError processing item 2132 in chunk: DeepInfra Server: Error <bound method ClientResponse.text of <ClientResponse(https://api.deepinfra.com/v1/inference/meta-llama/Meta-Llama-3.1-8B-Instruct) [500 Internal Server Error]>\n",
      "<CIMultiDictProxy('Date': 'Tue, 05 Aug 2025 16:56:10 GMT', 'Content-Type': 'application/json', 'Content-Length': '28', 'Connection': 'keep-alive', 'Server': 'uvicorn', 'x-robots-tag': 'noindex')>\n",
      ">\u001b[0m\n"
     ]
    },
    {
     "name": "stdout",
     "output_type": "stream",
     "text": [
      "Processing chunk 5 of 8\n",
      "Processing chunk 6 of 8\n"
     ]
    },
    {
     "name": "stderr",
     "output_type": "stream",
     "text": [
      "\u001b[32m2025-08-06 00:14:43.325\u001b[0m | \u001b[31m\u001b[1mERROR   \u001b[0m | \u001b[36msrc.utils.data_generation\u001b[0m:\u001b[36mprocess_item\u001b[0m:\u001b[36m270\u001b[0m - \u001b[31m\u001b[1mError processing item 160 in chunk: DeepInfra Server: Error <bound method ClientResponse.text of <ClientResponse(https://api.deepinfra.com/v1/inference/meta-llama/Meta-Llama-3.1-8B-Instruct) [500 Internal Server Error]>\n",
      "<CIMultiDictProxy('Date': 'Tue, 05 Aug 2025 21:14:43 GMT', 'Content-Type': 'application/json', 'Content-Length': '28', 'Connection': 'keep-alive', 'Server': 'uvicorn', 'x-robots-tag': 'noindex')>\n",
      ">\u001b[0m\n",
      "\u001b[32m2025-08-06 00:14:43.347\u001b[0m | \u001b[31m\u001b[1mERROR   \u001b[0m | \u001b[36msrc.utils.data_generation\u001b[0m:\u001b[36mprocess_item\u001b[0m:\u001b[36m270\u001b[0m - \u001b[31m\u001b[1mError processing item 160 in chunk: DeepInfra Server: Error <bound method ClientResponse.text of <ClientResponse(https://api.deepinfra.com/v1/inference/meta-llama/Meta-Llama-3.1-8B-Instruct) [500 Internal Server Error]>\n",
      "<CIMultiDictProxy('Date': 'Tue, 05 Aug 2025 21:14:43 GMT', 'Content-Type': 'application/json', 'Content-Length': '28', 'Connection': 'keep-alive', 'Server': 'uvicorn', 'x-robots-tag': 'noindex')>\n",
      ">\u001b[0m\n",
      "\u001b[32m2025-08-06 00:14:43.360\u001b[0m | \u001b[31m\u001b[1mERROR   \u001b[0m | \u001b[36msrc.utils.data_generation\u001b[0m:\u001b[36mprocess_item\u001b[0m:\u001b[36m270\u001b[0m - \u001b[31m\u001b[1mError processing item 160 in chunk: DeepInfra Server: Error <bound method ClientResponse.text of <ClientResponse(https://api.deepinfra.com/v1/inference/meta-llama/Meta-Llama-3.1-8B-Instruct) [500 Internal Server Error]>\n",
      "<CIMultiDictProxy('Date': 'Tue, 05 Aug 2025 21:14:43 GMT', 'Content-Type': 'application/json', 'Content-Length': '28', 'Connection': 'keep-alive', 'Server': 'uvicorn', 'x-robots-tag': 'noindex')>\n",
      ">\u001b[0m\n",
      "\u001b[32m2025-08-06 00:31:28.007\u001b[0m | \u001b[31m\u001b[1mERROR   \u001b[0m | \u001b[36msrc.utils.data_generation\u001b[0m:\u001b[36mprocess_item\u001b[0m:\u001b[36m270\u001b[0m - \u001b[31m\u001b[1mError processing item 353 in chunk: DeepInfra Server: Error <bound method ClientResponse.text of <ClientResponse(https://api.deepinfra.com/v1/inference/meta-llama/Meta-Llama-3.1-8B-Instruct) [502 Bad Gateway]>\n",
      "<CIMultiDictProxy('Server': 'nginx/1.18.0 (Ubuntu)', 'Date': 'Tue, 05 Aug 2025 21:31:27 GMT', 'Content-Type': 'text/html', 'Content-Length': '166', 'Connection': 'keep-alive')>\n",
      ">\u001b[0m\n",
      "\u001b[32m2025-08-06 00:31:28.013\u001b[0m | \u001b[31m\u001b[1mERROR   \u001b[0m | \u001b[36msrc.utils.data_generation\u001b[0m:\u001b[36mprocess_item\u001b[0m:\u001b[36m270\u001b[0m - \u001b[31m\u001b[1mError processing item 358 in chunk: DeepInfra Server: Error <bound method ClientResponse.text of <ClientResponse(https://api.deepinfra.com/v1/inference/meta-llama/Meta-Llama-3.1-8B-Instruct) [502 Bad Gateway]>\n",
      "<CIMultiDictProxy('Server': 'nginx/1.24.0 (Ubuntu)', 'Date': 'Tue, 05 Aug 2025 21:31:27 GMT', 'Content-Type': 'text/html', 'Content-Length': '166', 'Connection': 'keep-alive')>\n",
      ">\u001b[0m\n",
      "\u001b[32m2025-08-06 01:23:21.216\u001b[0m | \u001b[31m\u001b[1mERROR   \u001b[0m | \u001b[36msrc.utils.data_generation\u001b[0m:\u001b[36mprocess_item\u001b[0m:\u001b[36m270\u001b[0m - \u001b[31m\u001b[1mError processing item 1068 in chunk: DeepInfra Server: Error <bound method ClientResponse.text of <ClientResponse(https://api.deepinfra.com/v1/inference/meta-llama/Meta-Llama-3.1-8B-Instruct) [500 Internal Server Error]>\n",
      "<CIMultiDictProxy('Date': 'Tue, 05 Aug 2025 22:23:21 GMT', 'Content-Type': 'application/json', 'Content-Length': '35', 'Connection': 'keep-alive', 'Server': 'uvicorn')>\n",
      ">\u001b[0m\n",
      "\u001b[32m2025-08-06 02:12:25.485\u001b[0m | \u001b[31m\u001b[1mERROR   \u001b[0m | \u001b[36msrc.utils.data_generation\u001b[0m:\u001b[36mprocess_item\u001b[0m:\u001b[36m270\u001b[0m - \u001b[31m\u001b[1mError processing item 1724 in chunk: DeepInfra Server: Error <bound method ClientResponse.text of <ClientResponse(https://api.deepinfra.com/v1/inference/meta-llama/Meta-Llama-3.1-8B-Instruct) [500 Internal Server Error]>\n",
      "<CIMultiDictProxy('Date': 'Tue, 05 Aug 2025 23:12:25 GMT', 'Content-Type': 'application/json', 'Content-Length': '28', 'Connection': 'keep-alive', 'Server': 'uvicorn', 'x-robots-tag': 'noindex')>\n",
      ">\u001b[0m\n"
     ]
    },
    {
     "name": "stdout",
     "output_type": "stream",
     "text": [
      "Processing chunk 7 of 8\n"
     ]
    },
    {
     "name": "stderr",
     "output_type": "stream",
     "text": [
      "\u001b[32m2025-08-06 03:43:28.147\u001b[0m | \u001b[31m\u001b[1mERROR   \u001b[0m | \u001b[36msrc.utils.data_generation\u001b[0m:\u001b[36mprocess_item\u001b[0m:\u001b[36m270\u001b[0m - \u001b[31m\u001b[1mError processing item 410 in chunk: DeepInfra Server: Error <bound method ClientResponse.text of <ClientResponse(https://api.deepinfra.com/v1/inference/meta-llama/Meta-Llama-3.1-8B-Instruct) [500 Internal Server Error]>\n",
      "<CIMultiDictProxy('Date': 'Wed, 06 Aug 2025 00:43:28 GMT', 'Content-Type': 'application/json', 'Content-Length': '35', 'Connection': 'keep-alive', 'Server': 'uvicorn')>\n",
      ">\u001b[0m\n",
      "\u001b[32m2025-08-06 05:42:05.748\u001b[0m | \u001b[31m\u001b[1mERROR   \u001b[0m | \u001b[36msrc.utils.data_generation\u001b[0m:\u001b[36mprocess_item\u001b[0m:\u001b[36m270\u001b[0m - \u001b[31m\u001b[1mError processing item 2192 in chunk: DeepInfra Server: Error <bound method ClientResponse.text of <ClientResponse(https://api.deepinfra.com/v1/inference/meta-llama/Meta-Llama-3.1-8B-Instruct) [500 Internal Server Error]>\n",
      "<CIMultiDictProxy('Date': 'Wed, 06 Aug 2025 02:42:05 GMT', 'Content-Type': 'application/json', 'Content-Length': '28', 'Connection': 'keep-alive', 'Server': 'uvicorn', 'x-robots-tag': 'noindex')>\n",
      ">\u001b[0m\n",
      "\u001b[32m2025-08-06 05:42:05.760\u001b[0m | \u001b[31m\u001b[1mERROR   \u001b[0m | \u001b[36msrc.utils.data_generation\u001b[0m:\u001b[36mprocess_item\u001b[0m:\u001b[36m270\u001b[0m - \u001b[31m\u001b[1mError processing item 2181 in chunk: DeepInfra Server: Error <bound method ClientResponse.text of <ClientResponse(https://api.deepinfra.com/v1/inference/meta-llama/Meta-Llama-3.1-8B-Instruct) [500 Internal Server Error]>\n",
      "<CIMultiDictProxy('Date': 'Wed, 06 Aug 2025 02:42:05 GMT', 'Content-Type': 'application/json', 'Content-Length': '28', 'Connection': 'keep-alive', 'Server': 'uvicorn', 'x-robots-tag': 'noindex')>\n",
      ">\u001b[0m\n",
      "\u001b[32m2025-08-06 06:13:52.608\u001b[0m | \u001b[31m\u001b[1mERROR   \u001b[0m | \u001b[36msrc.utils.data_generation\u001b[0m:\u001b[36mprocess_item\u001b[0m:\u001b[36m270\u001b[0m - \u001b[31m\u001b[1mError processing item 2639 in chunk: DeepInfra Server: Rate limit exceeded\u001b[0m\n",
      "\u001b[32m2025-08-06 06:13:55.583\u001b[0m | \u001b[31m\u001b[1mERROR   \u001b[0m | \u001b[36msrc.utils.data_generation\u001b[0m:\u001b[36mprocess_item\u001b[0m:\u001b[36m270\u001b[0m - \u001b[31m\u001b[1mError processing item 2660 in chunk: DeepInfra Server: Rate limit exceeded\u001b[0m\n"
     ]
    },
    {
     "name": "stdout",
     "output_type": "stream",
     "text": [
      "Processing chunk 8 of 8\n"
     ]
    },
    {
     "name": "stderr",
     "output_type": "stream",
     "text": [
      "\u001b[32m2025-08-06 06:42:07.748\u001b[0m | \u001b[31m\u001b[1mERROR   \u001b[0m | \u001b[36msrc.utils.data_generation\u001b[0m:\u001b[36mprocess_item\u001b[0m:\u001b[36m270\u001b[0m - \u001b[31m\u001b[1mError processing item 238 in chunk: DeepInfra Server: Error <bound method ClientResponse.text of <ClientResponse(https://api.deepinfra.com/v1/inference/meta-llama/Meta-Llama-3.1-8B-Instruct) [500 Internal Server Error]>\n",
      "<CIMultiDictProxy('Date': 'Wed, 06 Aug 2025 03:42:07 GMT', 'Content-Type': 'application/json', 'Content-Length': '28', 'Connection': 'keep-alive', 'Server': 'uvicorn', 'x-robots-tag': 'noindex')>\n",
      ">\u001b[0m\n",
      "\u001b[32m2025-08-06 06:42:08.095\u001b[0m | \u001b[31m\u001b[1mERROR   \u001b[0m | \u001b[36msrc.utils.data_generation\u001b[0m:\u001b[36mprocess_item\u001b[0m:\u001b[36m270\u001b[0m - \u001b[31m\u001b[1mError processing item 242 in chunk: DeepInfra Server: Error <bound method ClientResponse.text of <ClientResponse(https://api.deepinfra.com/v1/inference/meta-llama/Meta-Llama-3.1-8B-Instruct) [500 Internal Server Error]>\n",
      "<CIMultiDictProxy('Date': 'Wed, 06 Aug 2025 03:42:08 GMT', 'Content-Type': 'application/json', 'Content-Length': '28', 'Connection': 'keep-alive', 'Server': 'uvicorn', 'x-robots-tag': 'noindex')>\n",
      ">\u001b[0m\n",
      "\u001b[32m2025-08-06 07:58:42.426\u001b[0m | \u001b[31m\u001b[1mERROR   \u001b[0m | \u001b[36msrc.utils.data_generation\u001b[0m:\u001b[36mprocess_item\u001b[0m:\u001b[36m270\u001b[0m - \u001b[31m\u001b[1mError processing item 1420 in chunk: DeepInfra Server: Error <bound method ClientResponse.text of <ClientResponse(https://api.deepinfra.com/v1/inference/meta-llama/Meta-Llama-3.1-8B-Instruct) [500 Internal Server Error]>\n",
      "<CIMultiDictProxy('Date': 'Wed, 06 Aug 2025 04:58:42 GMT', 'Content-Type': 'application/json', 'Content-Length': '28', 'Connection': 'keep-alive', 'Server': 'uvicorn', 'x-robots-tag': 'noindex')>\n",
      ">\u001b[0m\n",
      "\u001b[32m2025-08-06 07:58:42.488\u001b[0m | \u001b[31m\u001b[1mERROR   \u001b[0m | \u001b[36msrc.utils.data_generation\u001b[0m:\u001b[36mprocess_item\u001b[0m:\u001b[36m270\u001b[0m - \u001b[31m\u001b[1mError processing item 1396 in chunk: DeepInfra Server: Error <bound method ClientResponse.text of <ClientResponse(https://api.deepinfra.com/v1/inference/meta-llama/Meta-Llama-3.1-8B-Instruct) [500 Internal Server Error]>\n",
      "<CIMultiDictProxy('Date': 'Wed, 06 Aug 2025 04:58:42 GMT', 'Content-Type': 'application/json', 'Content-Length': '28', 'Connection': 'keep-alive', 'Server': 'uvicorn', 'x-robots-tag': 'noindex')>\n",
      ">\u001b[0m\n",
      "\u001b[32m2025-08-06 07:58:42.489\u001b[0m | \u001b[31m\u001b[1mERROR   \u001b[0m | \u001b[36msrc.utils.data_generation\u001b[0m:\u001b[36mprocess_item\u001b[0m:\u001b[36m270\u001b[0m - \u001b[31m\u001b[1mError processing item 1403 in chunk: DeepInfra Server: Error <bound method ClientResponse.text of <ClientResponse(https://api.deepinfra.com/v1/inference/meta-llama/Meta-Llama-3.1-8B-Instruct) [500 Internal Server Error]>\n",
      "<CIMultiDictProxy('Date': 'Wed, 06 Aug 2025 04:58:42 GMT', 'Content-Type': 'application/json', 'Content-Length': '28', 'Connection': 'keep-alive', 'Server': 'uvicorn', 'x-robots-tag': 'noindex')>\n",
      ">\u001b[0m\n"
     ]
    }
   ],
   "source": [
    "final_results = []\n",
    "for i, data_chunks in enumerate(nested_data_split):\n",
    "        print(f\"Processing chunk {i+1} of {len(nested_data_split)}\")\n",
    "        all_results = await generate_responses_concurrently_api(\n",
    "                llm=llm,\n",
    "                prompt_class=ContextualQAPrompt,\n",
    "                data_chunks=data_chunks,\n",
    "                response_dict_format=response_dict,\n",
    "                data_processing_function=process_data_chunk,\n",
    "                prompt_repetitions=10,\n",
    "        )\n",
    "\n",
    "        final_results.extend(all_results)"
   ]
  },
  {
   "cell_type": "code",
   "execution_count": 8,
   "id": "8a99e89d",
   "metadata": {},
   "outputs": [
    {
     "data": {
      "text/plain": [
       "[{'task_info': {'type': 'Contextual QA', 'dataset': 'rajpurkar_squad'},\n",
       "  'additional_info': {'model': 'Meta-Llama-3.1-8B-Instruct',\n",
       "   'question': 'To whom did the Virgin Mary allegedly appear in 1858 in Lourdes France?',\n",
       "   'context': 'Architecturally, the school has a Catholic character. Atop the Main Building\\'s gold dome is a golden statue of the Virgin Mary. Immediately in front of the Main Building and facing it, is a copper statue of Christ with arms upraised with the legend \"Venite Ad Me Omnes\". Next to the Main Building is the Basilica of the Sacred Heart. Immediately behind the basilica is the Grotto, a Marian place of prayer and reflection. It is a replica of the grotto at Lourdes, France where the Virgin Mary reputedly appeared to Saint Bernadette Soubirous in 1858. At the end of the main drive (and in a direct line that connects through 3 statues and the Gold Dome), is a simple, modern stone statue of Mary.',\n",
       "   'answer': ['Saint Bernadette Soubirous'],\n",
       "   'title': 'University_of_Notre_Dame'},\n",
       "  'input': '<|begin_of_text|><|start_header_id|>system<|end_header_id|>\\n\\nYou are a specialized question-answering AI. Your task is to give a concise answer to the question using *only* the provided context. Make sure to always give an answer.<|eot_id|><|start_header_id|>user<|end_header_id|>\\n\\nContext:\\n\\'\\'\\'\\nArchitecturally, the school has a Catholic character. Atop the Main Building\\'s gold dome is a golden statue of the Virgin Mary. Immediately in front of the Main Building and facing it, is a copper statue of Christ with arms upraised with the legend \"Venite Ad Me Omnes\". Next to the Main Building is the Basilica of the Sacred Heart. Immediately behind the basilica is the Grotto, a Marian place of prayer and reflection. It is a replica of the grotto at Lourdes, France where the Virgin Mary reputedly appeared to Saint Bernadette Soubirous in 1858. At the end of the main drive (and in a direct line that connects through 3 statues and the Gold Dome), is a simple, modern stone statue of Mary.\\n\\'\\'\\'\\n\\nQuestion: To whom did the Virgin Mary allegedly appear in 1858 in Lourdes France?<|eot_id|><|start_header_id|>assistant<|end_header_id|>',\n",
       "  'response': ['Saint Bernadette Soubirous.',\n",
       "   'Saint Bernadette Soubirous.',\n",
       "   'Saint Bernadette Soubirous.',\n",
       "   'Saint Bernadette Soubirous.',\n",
       "   'Saint Bernadette Soubirous.',\n",
       "   'Saint Bernadette Soubirous.',\n",
       "   'Saint Bernadette Soubirous.',\n",
       "   'Saint Bernadette Soubirous.',\n",
       "   'Saint Bernadette Soubirous.',\n",
       "   'Saint Bernadette Soubirous.']},\n",
       " {'task_info': {'type': 'Contextual QA', 'dataset': 'rajpurkar_squad'},\n",
       "  'additional_info': {'model': 'Meta-Llama-3.1-8B-Instruct',\n",
       "   'question': 'What is in front of the Notre Dame Main Building?',\n",
       "   'context': 'Architecturally, the school has a Catholic character. Atop the Main Building\\'s gold dome is a golden statue of the Virgin Mary. Immediately in front of the Main Building and facing it, is a copper statue of Christ with arms upraised with the legend \"Venite Ad Me Omnes\". Next to the Main Building is the Basilica of the Sacred Heart. Immediately behind the basilica is the Grotto, a Marian place of prayer and reflection. It is a replica of the grotto at Lourdes, France where the Virgin Mary reputedly appeared to Saint Bernadette Soubirous in 1858. At the end of the main drive (and in a direct line that connects through 3 statues and the Gold Dome), is a simple, modern stone statue of Mary.',\n",
       "   'answer': ['a copper statue of Christ'],\n",
       "   'title': 'University_of_Notre_Dame'},\n",
       "  'input': '<|begin_of_text|><|start_header_id|>system<|end_header_id|>\\n\\nYou are a specialized question-answering AI. Your task is to give a concise answer to the question using *only* the provided context. Make sure to always give an answer.<|eot_id|><|start_header_id|>user<|end_header_id|>\\n\\nContext:\\n\\'\\'\\'\\nArchitecturally, the school has a Catholic character. Atop the Main Building\\'s gold dome is a golden statue of the Virgin Mary. Immediately in front of the Main Building and facing it, is a copper statue of Christ with arms upraised with the legend \"Venite Ad Me Omnes\". Next to the Main Building is the Basilica of the Sacred Heart. Immediately behind the basilica is the Grotto, a Marian place of prayer and reflection. It is a replica of the grotto at Lourdes, France where the Virgin Mary reputedly appeared to Saint Bernadette Soubirous in 1858. At the end of the main drive (and in a direct line that connects through 3 statues and the Gold Dome), is a simple, modern stone statue of Mary.\\n\\'\\'\\'\\n\\nQuestion: What is in front of the Notre Dame Main Building?<|eot_id|><|start_header_id|>assistant<|end_header_id|>',\n",
       "  'response': ['A copper statue of Christ with arms upraised and the legend \"Venite Ad Me Omnes\".',\n",
       "   'A copper statue of Christ with arms upraised and the legend \"Venite Ad Me Omnes\".',\n",
       "   'A copper statue of Christ with arms upraised and the legend \"Venite Ad Me Omnes\".',\n",
       "   'A copper statue of Christ with arms upraised, with the legend \"Venite Ad Me Omnes\".',\n",
       "   'A copper statue of Christ with arms upraised, and the legend \"Venite Ad Me Omnes\".',\n",
       "   'A copper statue of Christ with the legend \"Venite Ad Me Omnes\".',\n",
       "   'A copper statue of Christ with arms upraised and the legend \"Venite Ad Me Omnes\".',\n",
       "   'A copper statue of Christ with arms upraised, with the legend \"Venite Ad Me Omnes\".',\n",
       "   'A copper statue of Christ with arms upraised, along with the legend \"Venite Ad Me Omnes\".',\n",
       "   'A copper statue of Christ with arms upraised, with the legend \"Venite Ad Me Omnes\".']},\n",
       " {'task_info': {'type': 'Contextual QA', 'dataset': 'rajpurkar_squad'},\n",
       "  'additional_info': {'model': 'Meta-Llama-3.1-8B-Instruct',\n",
       "   'question': 'The Basilica of the Sacred heart at Notre Dame is beside to which structure?',\n",
       "   'context': 'Architecturally, the school has a Catholic character. Atop the Main Building\\'s gold dome is a golden statue of the Virgin Mary. Immediately in front of the Main Building and facing it, is a copper statue of Christ with arms upraised with the legend \"Venite Ad Me Omnes\". Next to the Main Building is the Basilica of the Sacred Heart. Immediately behind the basilica is the Grotto, a Marian place of prayer and reflection. It is a replica of the grotto at Lourdes, France where the Virgin Mary reputedly appeared to Saint Bernadette Soubirous in 1858. At the end of the main drive (and in a direct line that connects through 3 statues and the Gold Dome), is a simple, modern stone statue of Mary.',\n",
       "   'answer': ['the Main Building'],\n",
       "   'title': 'University_of_Notre_Dame'},\n",
       "  'input': '<|begin_of_text|><|start_header_id|>system<|end_header_id|>\\n\\nYou are a specialized question-answering AI. Your task is to give a concise answer to the question using *only* the provided context. Make sure to always give an answer.<|eot_id|><|start_header_id|>user<|end_header_id|>\\n\\nContext:\\n\\'\\'\\'\\nArchitecturally, the school has a Catholic character. Atop the Main Building\\'s gold dome is a golden statue of the Virgin Mary. Immediately in front of the Main Building and facing it, is a copper statue of Christ with arms upraised with the legend \"Venite Ad Me Omnes\". Next to the Main Building is the Basilica of the Sacred Heart. Immediately behind the basilica is the Grotto, a Marian place of prayer and reflection. It is a replica of the grotto at Lourdes, France where the Virgin Mary reputedly appeared to Saint Bernadette Soubirous in 1858. At the end of the main drive (and in a direct line that connects through 3 statues and the Gold Dome), is a simple, modern stone statue of Mary.\\n\\'\\'\\'\\n\\nQuestion: The Basilica of the Sacred heart at Notre Dame is beside to which structure?<|eot_id|><|start_header_id|>assistant<|end_header_id|>',\n",
       "  'response': ['The Main Building.',\n",
       "   'The Basilica of the Sacred Heart is beside the Main Building.',\n",
       "   'The Main Building.',\n",
       "   'The Main Building.',\n",
       "   'The Basilica of the Sacred Heart is beside the Main Building.',\n",
       "   'The Main Building.',\n",
       "   'The Main Building.',\n",
       "   'The Grotto.',\n",
       "   'The Basilica of the Sacred Heart is beside the Grotto.',\n",
       "   'The Main Building.']},\n",
       " {'task_info': {'type': 'Contextual QA', 'dataset': 'rajpurkar_squad'},\n",
       "  'additional_info': {'model': 'Meta-Llama-3.1-8B-Instruct',\n",
       "   'question': 'What is the Grotto at Notre Dame?',\n",
       "   'context': 'Architecturally, the school has a Catholic character. Atop the Main Building\\'s gold dome is a golden statue of the Virgin Mary. Immediately in front of the Main Building and facing it, is a copper statue of Christ with arms upraised with the legend \"Venite Ad Me Omnes\". Next to the Main Building is the Basilica of the Sacred Heart. Immediately behind the basilica is the Grotto, a Marian place of prayer and reflection. It is a replica of the grotto at Lourdes, France where the Virgin Mary reputedly appeared to Saint Bernadette Soubirous in 1858. At the end of the main drive (and in a direct line that connects through 3 statues and the Gold Dome), is a simple, modern stone statue of Mary.',\n",
       "   'answer': ['a Marian place of prayer and reflection'],\n",
       "   'title': 'University_of_Notre_Dame'},\n",
       "  'input': '<|begin_of_text|><|start_header_id|>system<|end_header_id|>\\n\\nYou are a specialized question-answering AI. Your task is to give a concise answer to the question using *only* the provided context. Make sure to always give an answer.<|eot_id|><|start_header_id|>user<|end_header_id|>\\n\\nContext:\\n\\'\\'\\'\\nArchitecturally, the school has a Catholic character. Atop the Main Building\\'s gold dome is a golden statue of the Virgin Mary. Immediately in front of the Main Building and facing it, is a copper statue of Christ with arms upraised with the legend \"Venite Ad Me Omnes\". Next to the Main Building is the Basilica of the Sacred Heart. Immediately behind the basilica is the Grotto, a Marian place of prayer and reflection. It is a replica of the grotto at Lourdes, France where the Virgin Mary reputedly appeared to Saint Bernadette Soubirous in 1858. At the end of the main drive (and in a direct line that connects through 3 statues and the Gold Dome), is a simple, modern stone statue of Mary.\\n\\'\\'\\'\\n\\nQuestion: What is the Grotto at Notre Dame?<|eot_id|><|start_header_id|>assistant<|end_header_id|>',\n",
       "  'response': ['The Grotto at Notre Dame is a Marian place of prayer and reflection, which is a replica of the grotto at Lourdes, France.',\n",
       "   'The Grotto at Notre Dame is a Marian place of prayer and reflection, a replica of the grotto at Lourdes, France where the Virgin Mary reputedly appeared to Saint Bernadette Soubirous in 1858.',\n",
       "   'The Grotto at Notre Dame is a Marian place of prayer and reflection, a replica of the grotto at Lourdes, France.',\n",
       "   'A Marian place of prayer and reflection, and a replica of the grotto at Lourdes, France.',\n",
       "   'The Grotto at Notre Dame is a Marian place of prayer and reflection, which is a replica of the grotto at Lourdes, France.',\n",
       "   'The Grotto at Notre Dame is a Marian place of prayer and reflection, a replica of the grotto at Lourdes, France.',\n",
       "   'The Grotto at Notre Dame is a Marian place of prayer and reflection, which is a replica of the grotto at Lourdes, France.',\n",
       "   'A Marian place of prayer and reflection, a replica of the grotto at Lourdes, France.',\n",
       "   'The Grotto at Notre Dame is a Marian place of prayer and reflection, which is a replica of the grotto at Lourdes, France.',\n",
       "   'The Grotto at Notre Dame is a Marian place of prayer and reflection, which is a replica of the grotto at Lourdes, France where the Virgin Mary reputedly appeared to Saint Bernadette Soubirous in 1858.']},\n",
       " {'task_info': {'type': 'Contextual QA', 'dataset': 'rajpurkar_squad'},\n",
       "  'additional_info': {'model': 'Meta-Llama-3.1-8B-Instruct',\n",
       "   'question': 'What sits on top of the Main Building at Notre Dame?',\n",
       "   'context': 'Architecturally, the school has a Catholic character. Atop the Main Building\\'s gold dome is a golden statue of the Virgin Mary. Immediately in front of the Main Building and facing it, is a copper statue of Christ with arms upraised with the legend \"Venite Ad Me Omnes\". Next to the Main Building is the Basilica of the Sacred Heart. Immediately behind the basilica is the Grotto, a Marian place of prayer and reflection. It is a replica of the grotto at Lourdes, France where the Virgin Mary reputedly appeared to Saint Bernadette Soubirous in 1858. At the end of the main drive (and in a direct line that connects through 3 statues and the Gold Dome), is a simple, modern stone statue of Mary.',\n",
       "   'answer': ['a golden statue of the Virgin Mary'],\n",
       "   'title': 'University_of_Notre_Dame'},\n",
       "  'input': '<|begin_of_text|><|start_header_id|>system<|end_header_id|>\\n\\nYou are a specialized question-answering AI. Your task is to give a concise answer to the question using *only* the provided context. Make sure to always give an answer.<|eot_id|><|start_header_id|>user<|end_header_id|>\\n\\nContext:\\n\\'\\'\\'\\nArchitecturally, the school has a Catholic character. Atop the Main Building\\'s gold dome is a golden statue of the Virgin Mary. Immediately in front of the Main Building and facing it, is a copper statue of Christ with arms upraised with the legend \"Venite Ad Me Omnes\". Next to the Main Building is the Basilica of the Sacred Heart. Immediately behind the basilica is the Grotto, a Marian place of prayer and reflection. It is a replica of the grotto at Lourdes, France where the Virgin Mary reputedly appeared to Saint Bernadette Soubirous in 1858. At the end of the main drive (and in a direct line that connects through 3 statues and the Gold Dome), is a simple, modern stone statue of Mary.\\n\\'\\'\\'\\n\\nQuestion: What sits on top of the Main Building at Notre Dame?<|eot_id|><|start_header_id|>assistant<|end_header_id|>',\n",
       "  'response': ['A golden statue of the Virgin Mary.',\n",
       "   'A golden statue of the Virgin Mary.',\n",
       "   'A golden statue of the Virgin Mary.',\n",
       "   'A golden statue of the Virgin Mary.',\n",
       "   'A golden statue of the Virgin Mary.',\n",
       "   'A golden statue of the Virgin Mary.',\n",
       "   'A golden statue of the Virgin Mary.',\n",
       "   'A golden statue of the Virgin Mary.',\n",
       "   'A golden statue of the Virgin Mary.',\n",
       "   'A golden statue of the Virgin Mary.']}]"
      ]
     },
     "execution_count": 8,
     "metadata": {},
     "output_type": "execute_result"
    }
   ],
   "source": [
    "final_results[:5]"
   ]
  },
  {
   "cell_type": "code",
   "execution_count": null,
   "id": "ce6f8026",
   "metadata": {},
   "outputs": [],
   "source": [
    "with open(f\"../../../dataset/raw_model_responses/{DATA_SPLIT}/{DATA_SPLIT}_{dataset_name}.json\", \"w\") as f:\n",
    "    json.dump(final_results, f, indent=4)"
   ]
  },
  {
   "cell_type": "code",
   "execution_count": null,
   "id": "fecf50b1",
   "metadata": {},
   "outputs": [],
   "source": []
  }
 ],
 "metadata": {
  "kernelspec": {
   "display_name": "ai",
   "language": "python",
   "name": "python3"
  },
  "language_info": {
   "codemirror_mode": {
    "name": "ipython",
    "version": 3
   },
   "file_extension": ".py",
   "mimetype": "text/x-python",
   "name": "python",
   "nbconvert_exporter": "python",
   "pygments_lexer": "ipython3",
   "version": "3.11.9"
  }
 },
 "nbformat": 4,
 "nbformat_minor": 5
}
