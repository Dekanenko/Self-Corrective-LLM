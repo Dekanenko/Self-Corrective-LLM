{
 "cells": [
  {
   "cell_type": "code",
   "execution_count": 1,
   "id": "c14da179",
   "metadata": {},
   "outputs": [],
   "source": [
    "import json\n",
    "import random\n",
    "import sys\n",
    "import os\n",
    "\n",
    "# Add the project root directory to the Python path\n",
    "project_root = os.path.abspath(os.path.join(os.getcwd(), '..'))\n",
    "if project_root not in sys.path:\n",
    "    sys.path.insert(0, project_root)\n",
    "\n",
    "random.seed(2)"
   ]
  },
  {
   "cell_type": "markdown",
   "id": "e2eb4d9e",
   "metadata": {},
   "source": [
    "### UMWP"
   ]
  },
  {
   "cell_type": "code",
   "execution_count": 3,
   "id": "b84fde7d",
   "metadata": {},
   "outputs": [
    {
     "name": "stdout",
     "output_type": "stream",
     "text": [
      "Answerable: 2600\n",
      "Unanswerable: 2600\n",
      "Test data Answerable: 386\n",
      "Test data Unanswerable: 394\n",
      "Train data Answerable: 2214\n",
      "Train data Unanswerable: 2206\n",
      "Train data size: 4420\n",
      "Test data size: 780\n"
     ]
    }
   ],
   "source": [
    "train_data = []\n",
    "test_data = []\n",
    "json_data = []\n",
    "\n",
    "with open(f\"../dataset/raw_data/UMWP/StandardDataset.jsonl\", \"r\") as f:\n",
    "    for line in f:\n",
    "        # json.loads() parses a string, not a file object\n",
    "        sample = json.loads(line)\n",
    "        sample.pop(\"category\")\n",
    "        sample.pop(\"relevant_ids\")\n",
    "        sample.pop(\"id\")\n",
    "\n",
    "        sample[\"answer\"] = sample[\"answer\"] if sample[\"answerable\"] else [0.0]\n",
    "        json_data.append(sample)\n",
    "\n",
    "random.shuffle(json_data)\n",
    "\n",
    "answerable_counter = 0\n",
    "unanswerable_counter = 0\n",
    "for data in json_data:\n",
    "    if data[\"answerable\"]:\n",
    "        answerable_counter += 1\n",
    "    else:\n",
    "        unanswerable_counter += 1\n",
    "\n",
    "print(f\"Answerable: {answerable_counter}\")\n",
    "print(f\"Unanswerable: {unanswerable_counter}\")\n",
    "\n",
    "test_data_size = int(len(json_data) * 0.15)\n",
    "\n",
    "test_data.extend(json_data[:test_data_size])\n",
    "train_data.extend(json_data[test_data_size:])\n",
    "\n",
    "answerable_counter = 0\n",
    "unanswerable_counter = 0\n",
    "for data in test_data:\n",
    "    if data[\"answerable\"]:\n",
    "        answerable_counter += 1\n",
    "    else:\n",
    "        unanswerable_counter += 1\n",
    "\n",
    "print(f\"Test data Answerable: {answerable_counter}\")\n",
    "print(f\"Test data Unanswerable: {unanswerable_counter}\")\n",
    "\n",
    "\n",
    "answerable_counter = 0\n",
    "unanswerable_counter = 0\n",
    "for data in train_data:\n",
    "    if data[\"answerable\"]:\n",
    "        answerable_counter += 1\n",
    "    else:\n",
    "        unanswerable_counter += 1\n",
    "\n",
    "print(f\"Train data Answerable: {answerable_counter}\")\n",
    "print(f\"Train data Unanswerable: {unanswerable_counter}\")\n",
    "\n",
    "\n",
    "# save train and test data to separate files\n",
    "with open(\"../dataset/raw_data/UMWP/train.json\", \"w\") as f:\n",
    "    json.dump(train_data, f, indent=4)\n",
    "\n",
    "with open(\"../dataset/raw_data/UMWP/test.json\", \"w\") as f:\n",
    "    json.dump(test_data, f, indent=4)\n",
    "\n",
    "print(f\"Train data size: {len(train_data)}\")\n",
    "print(f\"Test data size: {len(test_data)}\")"
   ]
  }
 ],
 "metadata": {
  "kernelspec": {
   "display_name": "ai",
   "language": "python",
   "name": "python3"
  },
  "language_info": {
   "codemirror_mode": {
    "name": "ipython",
    "version": 3
   },
   "file_extension": ".py",
   "mimetype": "text/x-python",
   "name": "python",
   "nbconvert_exporter": "python",
   "pygments_lexer": "ipython3",
   "version": "3.11.9"
  }
 },
 "nbformat": 4,
 "nbformat_minor": 5
}
