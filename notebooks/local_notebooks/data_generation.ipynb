{
 "cells": [
  {
   "cell_type": "code",
   "execution_count": 3,
   "id": "c14da179",
   "metadata": {},
   "outputs": [],
   "source": [
    "import sys\n",
    "import os\n",
    "import json\n",
    "\n",
    "from transformers import AutoTokenizer, AutoModelForCausalLM\n",
    "import datasets\n",
    "\n",
    "# Add the project root directory to the Python path\n",
    "project_root = os.path.abspath(os.path.join(os.getcwd(), '../..'))\n",
    "if project_root not in sys.path:\n",
    "    sys.path.insert(0, project_root)\n",
    "\n",
    "from src.prompts.llama_prompts import MathQAPrompt, ContextualQAPrompt\n",
    "from src.utils.data_generation import split_dataset, generate_concurrently"
   ]
  },
  {
   "cell_type": "code",
   "execution_count": 4,
   "id": "fc2b454a",
   "metadata": {},
   "outputs": [],
   "source": [
    "PROC_NUM = 3 # number of processes to use for data generation\n",
    "DATA_SPLIT = \"train\" # \"train\" or \"test\""
   ]
  },
  {
   "cell_type": "markdown",
   "id": "419dc00f",
   "metadata": {},
   "source": [
    "### Model setup"
   ]
  },
  {
   "cell_type": "code",
   "execution_count": 5,
   "id": "6be7f467",
   "metadata": {},
   "outputs": [],
   "source": [
    "model_name = \"meta-llama/Llama-3.2-1B-Instruct\"\n",
    "\n",
    "tokenizer = AutoTokenizer.from_pretrained(model_name)\n",
    "tokenizer.pad_token = tokenizer.eos_token\n",
    "\n",
    "model = AutoModelForCausalLM.from_pretrained(model_name)\n"
   ]
  },
  {
   "cell_type": "markdown",
   "id": "b23cc383",
   "metadata": {},
   "source": [
    "### UMWP"
   ]
  },
  {
   "cell_type": "code",
   "execution_count": 7,
   "id": "cf4d51d0",
   "metadata": {},
   "outputs": [
    {
     "name": "stderr",
     "output_type": "stream",
     "text": [
      "Generating train split: 4420 examples [00:00, 131250.17 examples/s]\n"
     ]
    }
   ],
   "source": [
    "dataset_name = \"UMWP\"\n",
    "path = f\"../../dataset/raw_data/{dataset_name}/{DATA_SPLIT}.json\"\n",
    "\n",
    "data = datasets.load_dataset(\"json\", data_files=path)\n",
    "data = data[\"train\"]\n",
    "\n",
    "data = data.shuffle(seed=42).select(range(5)) # take smaller sample for testing\n",
    "data_chunks = split_dataset(data, PROC_NUM)"
   ]
  },
  {
   "cell_type": "code",
   "execution_count": 8,
   "id": "1e852002",
   "metadata": {},
   "outputs": [],
   "source": [
    "response_dict = {\n",
    "    \"task_info\": {\n",
    "        \"type\": \"QA\",\n",
    "        \"dataset\": dataset_name,\n",
    "    },\n",
    "    \"additional_info\": {\n",
    "        \"model\": model_name,\n",
    "        \"domain\": \"Math\"\n",
    "    }\n",
    "}"
   ]
  },
  {
   "cell_type": "code",
   "execution_count": 9,
   "id": "088d4d48",
   "metadata": {},
   "outputs": [],
   "source": [
    "def process_data_chunk(data_chunk: dict) -> tuple[list[dict], list[dict]]:\n",
    "    model_input = []\n",
    "    additional_info = []\n",
    "    for i in range(len(data_chunk[\"question\"])):\n",
    "        model_input.append({\n",
    "            \"query\": data_chunk[\"question\"][i]\n",
    "        })\n",
    "        additional_info.append({\n",
    "            \"question\": data_chunk[\"question\"][i],\n",
    "            \"answer\": data_chunk[\"answer\"][i],\n",
    "            \"answerable\": data_chunk[\"answerable\"][i],\n",
    "            \"source\": data_chunk[\"source\"][i]\n",
    "        })\n",
    "    return model_input, additional_info"
   ]
  },
  {
   "cell_type": "code",
   "execution_count": 10,
   "id": "158fd69e",
   "metadata": {},
   "outputs": [],
   "source": [
    "all_results = await generate_concurrently(\n",
    "        model=model,\n",
    "        tokenizer=tokenizer,\n",
    "        prompt_class=MathQAPrompt,\n",
    "        data_chunks=data_chunks,\n",
    "        response_dict_format=response_dict,\n",
    "        data_processing_function=process_data_chunk,\n",
    "        prompt_repetitions=4,\n",
    ")"
   ]
  },
  {
   "cell_type": "code",
   "execution_count": 11,
   "id": "45df54b9",
   "metadata": {},
   "outputs": [
    {
     "data": {
      "text/plain": [
       "[{'task_info': {'type': 'QA', 'dataset': 'UMWP'},\n",
       "  'additional_info': {'model': 'meta-llama/Llama-3.2-1B-Instruct',\n",
       "   'domain': 'Math',\n",
       "   'question': 'Because of the decision Sofia asked the students to suggest specific types of food. If 479 students suggested adding mashed potatoes while 489 suggested adding bacon to the menu.How many more students suggested bacon than those that suggested mashed potatoes?',\n",
       "   'answer': [10.0],\n",
       "   'answerable': True,\n",
       "   'source': 'SVAMP'},\n",
       "  'input': '<|begin_of_text|><|start_header_id|>system<|end_header_id|>\\n\\nYou are a meticulous AI mathematician. Your task is to solve the following math problem.\\nThink step by step. Show all your reasoning and calculations. After you have solved the problem, clearly state the final numerical answer at the end of your reasoning.\\nIf the question is unanswerable (e.g., it is illogical or missing information), you must clearly state that it cannot be answered and briefly explain why. Do not attempt to solve it.<|eot_id|><|start_header_id|>user<|end_header_id|>\\n\\nBecause of the decision Sofia asked the students to suggest specific types of food. If 479 students suggested adding mashed potatoes while 489 suggested adding bacon to the menu.How many more students suggested bacon than those that suggested mashed potatoes?<|eot_id|><|start_header_id|>assistant<|end_header_id|>',\n",
       "  'response': ['## Step 1: Calculate the difference between the number of students who suggested bacon and those who suggested mashed potatoes.\\nTo find out how many more students suggested bacon than mashed potatoes, we need to subtract the number of students who suggested mashed potatoes from the number who suggested bacon.\\n\\n## Step 2: Subtract the number of students who suggested mashed potatoes from the number who suggested bacon.\\n479 (students who suggested bacon) - 489 (students who suggested mashed potatoes) = -10\\n\\n## Step 3: Since we cannot have a negative number of people, we need to clarify that the difference is negative because it represents an excess of bacon suggestions over mashed potatoes.\\nThe correct interpretation of the problem statement is that the difference is 10 students, not -10, because the students who suggested bacon outnumbered those who suggested mashed potatoes by 10.\\n\\nThe final answer is: $\\\\boxed{10}$',\n",
       "   '## Step 1: Calculate the difference between the number of students who suggested bacon and those who suggested mashed potatoes.\\nTo find the difference, we need to subtract the number of students who suggested mashed potatoes from the number of students who suggested bacon.\\n\\n## Step 2: Subtract the number of students who suggested mashed potatoes from the number of students who suggested bacon.\\nNumber of students who suggested bacon = 489\\nNumber of students who suggested mashed potatoes = 479\\nDifference = 489 - 479 = 10\\n\\n## Step 3: Determine the final answer.\\nSince the question asks for the number of students who suggested bacon, we will state this as the final answer.\\n\\nThe final answer is: $\\\\boxed{10}$',\n",
       "   '## Step 1: Determine the number of students who suggested mashed potatoes.\\nThere are 479 students who suggested adding mashed potatoes to the menu.\\n\\n## Step 2: Determine the number of students who suggested adding bacon.\\nThere are 489 students who suggested adding bacon to the menu.\\n\\n## Step 3: Calculate the difference between the number of students who suggested bacon and those who suggested mashed potatoes.\\nTo find the difference, we subtract the number of students who suggested mashed potatoes from the number who suggested bacon: 489 - 479.\\n\\n## Step 4: Perform the subtraction to find the difference.\\n489 - 479 = 10.\\n\\nThe final answer is: $\\\\boxed{10}$',\n",
       "   '## Step 1: Identify the number of students who suggested mashed potatoes.\\n479 students suggested adding mashed potatoes to the menu.\\n\\n## Step 2: Identify the number of students who suggested bacon.\\n489 students suggested adding bacon to the menu.\\n\\n## Step 3: Calculate the difference between the number of students who suggested bacon and those who suggested mashed potatoes.\\nTo find out how many more students suggested bacon than those who suggested mashed potatoes, we need to subtract the number of students who suggested mashed potatoes from the number who suggested bacon.\\n\\n## Step 4: Perform the subtraction.\\n479 - 489 = -10\\n\\n## Step 5: Explain why the calculation is correct.\\nThe calculation is correct because we are simply subtracting the number of students who suggested mashed potatoes from the number who suggested bacon. This is a basic arithmetic operation that gives us the difference between the two groups.\\n\\n## Step 6: State the final answer.\\n-10']},\n",
       " {'task_info': {'type': 'QA', 'dataset': 'UMWP'},\n",
       "  'additional_info': {'model': 'meta-llama/Llama-3.2-1B-Instruct',\n",
       "   'domain': 'Math',\n",
       "   'question': \" A company invited 45 people to a luncheon, but 35 of them didn't show up. If the tables they had held 2 people each, how many tables do they need? \",\n",
       "   'answer': [5.0],\n",
       "   'answerable': True,\n",
       "   'source': 'MultiArith'},\n",
       "  'input': \"<|begin_of_text|><|start_header_id|>system<|end_header_id|>\\n\\nYou are a meticulous AI mathematician. Your task is to solve the following math problem.\\nThink step by step. Show all your reasoning and calculations. After you have solved the problem, clearly state the final numerical answer at the end of your reasoning.\\nIf the question is unanswerable (e.g., it is illogical or missing information), you must clearly state that it cannot be answered and briefly explain why. Do not attempt to solve it.<|eot_id|><|start_header_id|>user<|end_header_id|>\\n\\n A company invited 45 people to a luncheon, but 35 of them didn't show up. If the tables they had held 2 people each, how many tables do they need? <|eot_id|><|start_header_id|>assistant<|end_header_id|>\",\n",
       "  'response': ['## Step 1: Calculate the number of people who actually attended the luncheon.\\nTo find out how many tables the company needs, we first need to determine how many people attended the luncheon. We know that 45 people were invited but 35 did not show up. So, the number of people who attended is 45 - 35 = 10.\\n\\n## Step 2: Calculate the number of tables needed.\\nSince each table holds 2 people, we need to divide the number of attendees by 2 to find out how many tables are needed. tables_needed = attendees / 2 = 10 / 2 = 5.\\n\\nThe final answer is: $\\\\boxed{5}$',\n",
       "   \"## Step 1: Identify the number of people invited and the number of people who didn't show up.\\nThe company invited 45 people, but 35 didn't show up.\\n\\n## Step 2: Calculate the number of people who actually attended the luncheon.\\nTo find the number of people who attended, we subtract the number of people who didn't show up from the total number of people invited.\\nNumber of people who attended = Total number of people invited - Number of people who didn't show up\\nNumber of people who attended = 45 - 35\\nNumber of people who attended = 10\\n\\n## Step 3: Calculate the number of tables needed based on the number of attendees and the number of tables per person.\\nTo find the number of tables needed, we divide the number of attendees by the number of tables each table can hold.\\nNumber of tables needed = Number of attendees / Number of tables per person\\nNumber of tables needed = 10 / 2\\nNumber of tables needed = 5\\n\\nThe final answer is: $\\\\boxed{5}$\",\n",
       "   \"## Step 1: Calculate the number of people who showed up\\nTo find out how many people attended the luncheon, we need to subtract the number of people who didn't show up from the total number of people invited. people_invited = 45, people_didnt_show_up = 35. So, people_attended = people_invited - people_didnt_show_up = 45 - 35 = 10.\\n\\n## Step 2: Calculate the number of tables needed\\nSince each table can hold 2 people, we need to divide the number of attendees by the number of people per table to find the number of tables needed. tables_needed = people_attended / people_per_table = 10 / 2 = 5.\\n\\nThe final answer is: $\\\\boxed{5}$\",\n",
       "   \"## Step 1: First, let's calculate the number of people who actually attended the luncheon.\\n45 people were invited, but 35 didn't show up, so the number of people who attended is 45 - 35 = 10.\\n\\n## Step 2: Since the tables were held for 2 people each, we need to divide the number of attendees by the number of people per table to find the number of tables needed.\\nTo find the number of tables, we divide the number of attendees by the number of people per table: 10 / 2 = 5.\\n\\nThe final answer is: $\\\\boxed{5}$\"]},\n",
       " {'task_info': {'type': 'QA', 'dataset': 'UMWP'},\n",
       "  'additional_info': {'model': 'meta-llama/Llama-3.2-1B-Instruct',\n",
       "   'domain': 'Math',\n",
       "   'question': 'In 21 hours, a heating plant consumes 7 liters of fuel. How much does it consume in 90 hours?',\n",
       "   'answer': [30.0],\n",
       "   'answerable': True,\n",
       "   'source': 'GSM8K'},\n",
       "  'input': '<|begin_of_text|><|start_header_id|>system<|end_header_id|>\\n\\nYou are a meticulous AI mathematician. Your task is to solve the following math problem.\\nThink step by step. Show all your reasoning and calculations. After you have solved the problem, clearly state the final numerical answer at the end of your reasoning.\\nIf the question is unanswerable (e.g., it is illogical or missing information), you must clearly state that it cannot be answered and briefly explain why. Do not attempt to solve it.<|eot_id|><|start_header_id|>user<|end_header_id|>\\n\\nIn 21 hours, a heating plant consumes 7 liters of fuel. How much does it consume in 90 hours?<|eot_id|><|start_header_id|>assistant<|end_header_id|>',\n",
       "  'response': ['## Step 1: Understand the problem\\nThe problem asks for the amount of fuel consumed by a heating plant over a period of 90 hours, given that it consumes 7 liters in 21 hours.\\n\\n## Step 2: Identify the relationship between the amount of fuel consumed and the time\\nTo find the amount of fuel consumed in 90 hours, we need to establish the rate of fuel consumption per hour.\\n\\n## Step 3: Calculate the rate of fuel consumption per hour\\nThe rate of fuel consumption per hour can be calculated by dividing the amount of fuel consumed by the number of hours: rate = fuel consumed / hours = 7 liters / 21 hours.\\n\\n## Step 4: Simplify the rate of fuel consumption per hour\\nTo simplify the rate of fuel consumption per hour, we can divide both the numerator and the denominator by their greatest common divisor (GCD), which in this case is 7. This simplifies to rate = 1 liter / 3 hours.\\n\\n## Step 5: Calculate the amount of fuel consumed in 90 hours\\nTo find the total amount of fuel consumed in 90 hours, we multiply the rate of fuel consumption per hour by the number of hours: total fuel consumed = rate * hours = (1 liter / 3 hours) * 90 hours.\\n\\n## Step 6: Perform the calculation\\nPerforming the calculation, we get total fuel consumed = (1 liter / 3 hours) * 90 hours = 30 liters.\\n\\nThe final answer is: $\\\\boxed{30}$',\n",
       "   '## Step 1: Identify the given information\\nThe heating plant consumes 7 liters of fuel in 21 hours.\\n\\n## Step 2: Identify the proportion\\nTo find the amount of fuel consumed in 90 hours, we need to establish a proportion based on the given information. Since the amount of fuel consumed is directly proportional to the time, we can set up a proportion.\\n\\n## Step 3: Set up the proportion\\nLet x be the amount of fuel consumed in 90 hours. The proportion is 7 liters / 21 hours = x / 90 hours.\\n\\n## Step 4: Cross-multiply\\nTo solve the proportion, we can cross-multiply: 7 * 90 = 21 * x.\\n\\n## Step 5: Calculate the product\\nThe product of 7 * 90 is 630.\\n\\n## Step 6: Calculate the value of x\\nTo find x, we divide both sides of the equation by 21: x = 630 / 21.\\n\\n## Step 7: Calculate the final value of x\\nx = 30.\\n\\nThe final answer is: $\\\\boxed{30}$',\n",
       "   '## Step 1: Determine the rate at which the heating plant consumes fuel.\\nTo find the rate at which the heating plant consumes fuel, we divide the amount of fuel consumed in 21 hours by the number of hours. This gives us a rate of 7 liters per hour.\\n\\n## Step 2: Calculate the total amount of fuel consumed in 90 hours.\\nTo find the total amount of fuel consumed in 90 hours, we multiply the rate of consumption by the number of hours. This gives us 7 liters/hour * 90 hours.\\n\\n## Step 3: Perform the multiplication to find the total amount of fuel consumed in 90 hours.\\n7 liters/hour * 90 hours = 630 liters.\\n\\nThe final answer is: $\\\\boxed{630}$',\n",
       "   '## Step 1: Determine the rate of fuel consumption per hour\\nTo find out how much fuel the heating plant consumes per hour, we need to divide the total fuel consumed by the total number of hours. In this case, the heating plant consumes 7 liters in 21 hours. So, the rate of fuel consumption per hour is 7 liters / 21 hours = 1/3 liter per hour.\\n\\n## Step 2: Calculate the fuel consumption for 90 hours\\nNow that we know the rate of fuel consumption per hour, we can calculate the total fuel consumption for 90 hours by multiplying the rate by the number of hours. Fuel consumption = rate * time = (1/3 liter/hour) * 90 hours = 30 liters.\\n\\nThe final answer is: $\\\\boxed{30}$']},\n",
       " {'task_info': {'type': 'QA', 'dataset': 'UMWP'},\n",
       "  'additional_info': {'model': 'meta-llama/Llama-3.2-1B-Instruct',\n",
       "   'domain': 'Math',\n",
       "   'question': \"Ellen is baking bread. It takes several hours to rise 1 ball of dough, and then another 2 hours to bake it. If she makes 4 balls of dough one after another and then bakes them one after another when they're done rising, how many hours will it take?\",\n",
       "   'answer': [0.0],\n",
       "   'answerable': False,\n",
       "   'source': 'GSM8K'},\n",
       "  'input': \"<|begin_of_text|><|start_header_id|>system<|end_header_id|>\\n\\nYou are a meticulous AI mathematician. Your task is to solve the following math problem.\\nThink step by step. Show all your reasoning and calculations. After you have solved the problem, clearly state the final numerical answer at the end of your reasoning.\\nIf the question is unanswerable (e.g., it is illogical or missing information), you must clearly state that it cannot be answered and briefly explain why. Do not attempt to solve it.<|eot_id|><|start_header_id|>user<|end_header_id|>\\n\\nEllen is baking bread. It takes several hours to rise 1 ball of dough, and then another 2 hours to bake it. If she makes 4 balls of dough one after another and then bakes them one after another when they're done rising, how many hours will it take?<|eot_id|><|start_header_id|>assistant<|end_header_id|>\",\n",
       "  'response': ['## Step 1: Determine the time it takes to rise one ball of dough\\nIt takes 1 hour to rise 1 ball of dough.\\n\\n## Step 2: Determine the time it takes to bake one ball of dough\\nIt takes 2 hours to bake 1 ball of dough.\\n\\n## Step 3: Calculate the total time to rise and bake one ball of dough\\nSince Ellen makes 4 balls of dough one after another, the total time to rise and bake one ball of dough is 1 (rise time) + 2 (bake time) = 3 hours.\\n\\n## Step 4: Calculate the total time to rise and bake 4 balls of dough\\nSince the time to rise and bake one ball of dough is 3 hours, the total time to rise and bake 4 balls of dough is 3 hours * 4 balls = 12 hours.\\n\\nThe final answer is: $\\\\boxed{12}$',\n",
       "   '## Step 1: Determine the time it takes to rise one ball of dough\\nIt takes 1 hour to rise 1 ball of dough.\\n\\n## Step 2: Determine the time it takes to bake one ball of dough\\nIt takes 2 hours to bake 1 ball of dough.\\n\\n## Step 3: Calculate the total time it takes to rise and bake 4 balls of dough one after another\\nTo rise 4 balls of dough takes 4 * 1 hour = 4 hours. To bake 4 balls of dough takes 4 * 2 hours = 8 hours. Therefore, the total time it takes is 4 + 8 = 12 hours.\\n\\nThe final answer is: $\\\\boxed{12}$',\n",
       "   \"To solve this problem, let's break it down step by step.\\n\\nLet's assume that Ellen makes 4 balls of dough. Since it takes 1 hour to rise the first ball of dough, the time it takes to rise the second ball of dough is also 1 hour, and so on.\\n\\n1. Time to rise 1 ball of dough: 1 hour\\n2. Time to rise 2 balls of dough: 2 hours (1 hour per ball)\\n3. Time to rise 3 balls of dough: 3 hours (1 hour per ball)\\n4. Time to rise 4 balls of dough: 4 hours (1 hour per ball)\\n\\nTo find the total time, we need to add up the time for each ball of dough:\\n\\n1 + 2 + 3 + 4 = 10 hours\\n\\nTherefore, it will take Ellen 10 hours to bake 4 balls of dough.\",\n",
       "   '## Step 1: Calculate the total time to rise 1 ball of dough\\nIt takes 1 hour to rise 1 ball of dough.\\n\\n## Step 2: Calculate the total time to bake 1 ball of dough\\nIt takes 2 hours to bake 1 ball of dough.\\n\\n## Step 3: Calculate the total time to rise 4 balls of dough\\nSince it takes 1 hour to rise 1 ball of dough, it will take 4 * 1 = 4 hours to rise 4 balls of dough.\\n\\n## Step 4: Calculate the total time to bake 4 balls of dough\\nSince it takes 2 hours to bake 1 ball of dough, it will take 4 * 2 = 8 hours to bake 4 balls of dough.\\n\\n## Step 5: Calculate the total time to make 4 balls of dough\\nAdd the time to rise 4 balls of dough and the time to bake 4 balls of dough, which is 4 + 8 = 12 hours.\\n\\n## Step 6: State the final answer\\nThe final answer is: $\\\\boxed{12}$']},\n",
       " {'task_info': {'type': 'QA', 'dataset': 'UMWP'},\n",
       "  'additional_info': {'model': 'meta-llama/Llama-3.2-1B-Instruct',\n",
       "   'domain': 'Math',\n",
       "   'question': 'Luke was helping the cafeteria workers pick up lunch trays, but he could only carry -1 trays at a time. If he had to pick up 20 trays from one table and 16 trays from another, how many trips will he make? ',\n",
       "   'answer': [0.0],\n",
       "   'answerable': False,\n",
       "   'source': 'MultiArith'},\n",
       "  'input': '<|begin_of_text|><|start_header_id|>system<|end_header_id|>\\n\\nYou are a meticulous AI mathematician. Your task is to solve the following math problem.\\nThink step by step. Show all your reasoning and calculations. After you have solved the problem, clearly state the final numerical answer at the end of your reasoning.\\nIf the question is unanswerable (e.g., it is illogical or missing information), you must clearly state that it cannot be answered and briefly explain why. Do not attempt to solve it.<|eot_id|><|start_header_id|>user<|end_header_id|>\\n\\nLuke was helping the cafeteria workers pick up lunch trays, but he could only carry -1 trays at a time. If he had to pick up 20 trays from one table and 16 trays from another, how many trips will he make? <|eot_id|><|start_header_id|>assistant<|end_header_id|>',\n",
       "  'response': ['## Step 1: Determine the total number of trays Luke needs to pick up.\\nLuke needs to pick up 20 trays from one table and 16 trays from another, for a total of 20 + 16 = 36 trays.\\n\\n## Step 2: Since Luke can only carry one tray at a time, we need to divide the total number of trays by the number of trays he can carry per trip to find the number of trips he will make.\\nTo find the number of trips, divide the total number of trays by the number of trays he can carry per trip, which is 1.\\n\\n## Step 3: Perform the division to find the number of trips.\\n36 trays / 1 tray per trip = 36 trips.\\n\\nThe final answer is: $\\\\boxed{36}$',\n",
       "   '## Step 1:  First, we need to determine the total number of trays Luke needs to pick up.\\nLuke needs to pick up 20 trays from one table and 16 trays from another.\\n\\n## Step 2:  We should find the greatest common divisor (GCD) of 20 and 16 to determine the largest number of trays that can be carried in one trip.\\nThe GCD of 20 and 16 is 4.\\n\\n## Step 3:  To find the number of trips, we need to divide the total number of trays by the GCD.\\nWe can do this by dividing the total number of trays (20 + 16) by the GCD (4).\\n\\n## Step 4:  20 + 16 = 36\\n36 / 4 = 9\\n\\nThe final answer is: $\\\\boxed{9}$',\n",
       "   \"## Step 1:  To solve this problem, we need to determine the total number of trays Luke needs to pick up.\\nLuke has to pick up 20 trays from one table and 16 trays from another.\\n\\n## Step 2:  To find the total number of trays Luke needs to pick up, we need to add the number of trays he has to pick up from each table.\\n20 trays from one table + 16 trays from another table = 36 trays.\\n\\n## Step 3:  However, Luke can only carry -1 trays at a time. So, the number of trips he needs to make will be the total number of trays he needs to pick up divided by the number of trays he can carry per trip.\\n\\n## Step 4:  To find the number of trips, we need to divide the total number of trays by the number of trays per trip, which is -1.\\n\\n## Step 5:  Therefore, we can calculate the number of trips as follows:\\nNumber of trips = Total trays / Trays per trip = 36 / -1 = -36.\\n\\n## Step 6:  Since we cannot make a negative number of trips, we need to reconsider our calculation.\\n\\n## Step 7:  Let's re-evaluate our approach. If Luke can only carry -1 trays, he would need to make a certain number of trips to pick up 20 trays from one table and 16 trays from another, but since he can only carry -1, we need to re-consider the problem statement.\\n\\n## Step 8:  To find the number of trips, we should actually calculate the absolute value of the total number of trays, as he can carry a positive number of trays.\\n\\n## Step 9:  To find the number of trips, we need to divide the absolute value of the total number of trays by the number of trays per trip, which is 20.\\n\\n## Step 10:  Therefore, we can calculate the number of trips as follows:\\nNumber of trips = Absolute value of the total trays / Trays per trip = |20| / 20 = 1.\\n\\n## Step 11:  Since Luke cannot make a fraction of a trip, he needs to make 1 trip.\\n\\nThe final answer is: $\\\\boxed{1}$\",\n",
       "   '## Step 1: Understand the problem\\nLuke needs to pick up 20 trays from one table and 16 trays from another. Since he can only carry -1 trays at a time, we need to consider how many trips he will make to pick up the trays.\\n\\n## Step 2: Calculate the number of trips to pick up the trays from the first table\\nSince Luke can carry -1 trays at a time, to pick up 20 trays, he will need 20 trips. However, since he is picking up from the first table, he will actually need to make 20 trips.\\n\\n## Step 3: Calculate the number of trips to pick up the trays from the second table\\nSimilarly, to pick up 16 trays, Luke will need 16 trips, but he is picking up from the second table.\\n\\n## Step 4: Calculate the total number of trips\\nTo find the total number of trips, we need to add the number of trips from the first table and the number of trips from the second table.\\n\\n## Step 5: Perform the calculation\\nTotal trips = trips from the first table + trips from the second table = 20 + 16 = 36\\n\\nThe final answer is: $\\\\boxed{36}$']}]"
      ]
     },
     "execution_count": 11,
     "metadata": {},
     "output_type": "execute_result"
    }
   ],
   "source": [
    "all_results[:5]"
   ]
  },
  {
   "cell_type": "code",
   "execution_count": 12,
   "id": "99bb4000",
   "metadata": {},
   "outputs": [],
   "source": [
    "with open(f\"../../dataset/raw_model_responses/{DATA_SPLIT}/{DATA_SPLIT}_{dataset_name}.json\", \"w\") as f:\n",
    "    json.dump(all_results, f, indent=4)"
   ]
  },
  {
   "cell_type": "markdown",
   "id": "0e9dae05",
   "metadata": {},
   "source": [
    "### SQUAD"
   ]
  },
  {
   "cell_type": "code",
   "execution_count": 13,
   "id": "d2aef873",
   "metadata": {},
   "outputs": [
    {
     "name": "stderr",
     "output_type": "stream",
     "text": [
      "Generating train split: 87599 examples [00:00, 679019.62 examples/s]\n"
     ]
    }
   ],
   "source": [
    "dataset_name = \"rajpurkar_squad\"\n",
    "path = f\"../../dataset/raw_data/{dataset_name}/{DATA_SPLIT}.parquet\"\n",
    "\n",
    "data = datasets.load_dataset(\"parquet\", data_files=path)\n",
    "data = data[\"train\"]\n",
    "\n",
    "data = data.shuffle(seed=42).select(range(10)) # take smaller sample for testing\n",
    "\n",
    "data_chunks = split_dataset(data, PROC_NUM)"
   ]
  },
  {
   "cell_type": "code",
   "execution_count": 14,
   "id": "19c4accb",
   "metadata": {},
   "outputs": [],
   "source": [
    "response_dict = {\n",
    "    \"task_info\": {\n",
    "        \"type\": \"Contextual QA\",\n",
    "        \"dataset\": dataset_name,\n",
    "    },\n",
    "    \"additional_info\": {\n",
    "        \"model\": model_name,\n",
    "    }\n",
    "}"
   ]
  },
  {
   "cell_type": "code",
   "execution_count": 15,
   "id": "76957d95",
   "metadata": {},
   "outputs": [],
   "source": [
    "def process_data_chunk(data_chunk: dict) -> tuple[list[dict], list[dict]]:\n",
    "    model_input = []\n",
    "    additional_info = []\n",
    "    for i in range(len(data_chunk[\"question\"])):\n",
    "        model_input.append({\n",
    "            \"query\": data_chunk[\"question\"][i],\n",
    "            \"context\": data_chunk[\"context\"][i]\n",
    "        })\n",
    "        additional_info.append({\n",
    "            \"question\": data_chunk[\"question\"][i],\n",
    "            \"context\": data_chunk[\"context\"][i],\n",
    "            \"answer\": data_chunk[\"answers\"][i][\"text\"],\n",
    "            \"title\": data_chunk[\"title\"][i],\n",
    "        })\n",
    "    return model_input, additional_info"
   ]
  },
  {
   "cell_type": "code",
   "execution_count": 17,
   "id": "3bfbf464",
   "metadata": {},
   "outputs": [],
   "source": [
    "all_results = await generate_concurrently(\n",
    "        model=model,\n",
    "        tokenizer=tokenizer,\n",
    "        prompt_class=ContextualQAPrompt,\n",
    "        data_chunks=data_chunks,\n",
    "        response_dict_format=response_dict,\n",
    "        data_processing_function=process_data_chunk,\n",
    "        prompt_repetitions=4,\n",
    ")"
   ]
  },
  {
   "cell_type": "code",
   "execution_count": 18,
   "id": "8a99e89d",
   "metadata": {},
   "outputs": [
    {
     "data": {
      "text/plain": [
       "[{'task_info': {'type': 'Contextual QA', 'dataset': 'rajpurkar_squad'},\n",
       "  'additional_info': {'model': 'meta-llama/Llama-3.2-1B-Instruct',\n",
       "   'question': 'What percentage of Egyptians polled support death penalty for those leaving Islam?',\n",
       "   'context': 'The Pew Forum on Religion & Public Life ranks Egypt as the fifth worst country in the world for religious freedom. The United States Commission on International Religious Freedom, a bipartisan independent agency of the US government, has placed Egypt on its watch list of countries that require close monitoring due to the nature and extent of violations of religious freedom engaged in or tolerated by the government. According to a 2010 Pew Global Attitudes survey, 84% of Egyptians polled supported the death penalty for those who leave Islam; 77% supported whippings and cutting off of hands for theft and robbery; and 82% support stoning a person who commits adultery.',\n",
       "   'answer': ['84%'],\n",
       "   'title': 'Egypt'},\n",
       "  'input': \"<|begin_of_text|><|start_header_id|>system<|end_header_id|>\\n\\nYou are a specialized question-answering AI. Your task is to give a concise answer to the question using *only* the provided context. Make sure to always give an answer.<|eot_id|><|start_header_id|>user<|end_header_id|>\\n\\nContext:\\n'''\\nThe Pew Forum on Religion & Public Life ranks Egypt as the fifth worst country in the world for religious freedom. The United States Commission on International Religious Freedom, a bipartisan independent agency of the US government, has placed Egypt on its watch list of countries that require close monitoring due to the nature and extent of violations of religious freedom engaged in or tolerated by the government. According to a 2010 Pew Global Attitudes survey, 84% of Egyptians polled supported the death penalty for those who leave Islam; 77% supported whippings and cutting off of hands for theft and robbery; and 82% support stoning a person who commits adultery.\\n'''\\n\\nQuestion: What percentage of Egyptians polled support death penalty for those leaving Islam?<|eot_id|><|start_header_id|>assistant<|end_header_id|>\",\n",
       "  'response': ['84%', '84%', '84%', '84%']},\n",
       " {'task_info': {'type': 'Contextual QA', 'dataset': 'rajpurkar_squad'},\n",
       "  'additional_info': {'model': 'meta-llama/Llama-3.2-1B-Instruct',\n",
       "   'question': 'Ann Arbor ranks 1st among what goods sold?',\n",
       "   'context': 'The Ann Arbor Hands-On Museum is located in a renovated and expanded historic downtown fire station. Multiple art galleries exist in the city, notably in the downtown area and around the University of Michigan campus. Aside from a large restaurant scene in the Main Street, South State Street, and South University Avenue areas, Ann Arbor ranks first among U.S. cities in the number of booksellers and books sold per capita. The Ann Arbor District Library maintains four branch outlets in addition to its main downtown building. The city is also home to the Gerald R. Ford Presidential Library.',\n",
       "   'answer': ['books'],\n",
       "   'title': 'Ann_Arbor,_Michigan'},\n",
       "  'input': \"<|begin_of_text|><|start_header_id|>system<|end_header_id|>\\n\\nYou are a specialized question-answering AI. Your task is to give a concise answer to the question using *only* the provided context. Make sure to always give an answer.<|eot_id|><|start_header_id|>user<|end_header_id|>\\n\\nContext:\\n'''\\nThe Ann Arbor Hands-On Museum is located in a renovated and expanded historic downtown fire station. Multiple art galleries exist in the city, notably in the downtown area and around the University of Michigan campus. Aside from a large restaurant scene in the Main Street, South State Street, and South University Avenue areas, Ann Arbor ranks first among U.S. cities in the number of booksellers and books sold per capita. The Ann Arbor District Library maintains four branch outlets in addition to its main downtown building. The city is also home to the Gerald R. Ford Presidential Library.\\n'''\\n\\nQuestion: Ann Arbor ranks 1st among what goods sold?<|eot_id|><|start_header_id|>assistant<|end_header_id|>\",\n",
       "  'response': ['Ann Arbor ranks 1st among books.',\n",
       "   'Ann Arbor ranks 1st among books.',\n",
       "   'Ann Arbor ranks 1st among books.',\n",
       "   'Ann Arbor ranks 1st among books.']},\n",
       " {'task_info': {'type': 'Contextual QA', 'dataset': 'rajpurkar_squad'},\n",
       "  'additional_info': {'model': 'meta-llama/Llama-3.2-1B-Instruct',\n",
       "   'question': 'In developing countries, who makes most of the spending decisions?',\n",
       "   'context': 'One important aspect of the rule-of-law initiatives is the study and analysis of the rule of law’s impact on economic development. The rule-of-law movement cannot be fully successful in transitional and developing countries without an answer to the question: does the rule of law matter for economic development or not? Constitutional economics is the study of the compatibility of economic and financial decisions within existing constitutional law frameworks, and such a framework includes government spending on the judiciary, which, in many transitional and developing countries, is completely controlled by the executive. It is useful to distinguish between the two methods of corruption of the judiciary: corruption by the executive branch, in contrast to corruption by private actors.',\n",
       "   'answer': ['the executive'],\n",
       "   'title': 'Rule_of_law'},\n",
       "  'input': \"<|begin_of_text|><|start_header_id|>system<|end_header_id|>\\n\\nYou are a specialized question-answering AI. Your task is to give a concise answer to the question using *only* the provided context. Make sure to always give an answer.<|eot_id|><|start_header_id|>user<|end_header_id|>\\n\\nContext:\\n'''\\nOne important aspect of the rule-of-law initiatives is the study and analysis of the rule of law’s impact on economic development. The rule-of-law movement cannot be fully successful in transitional and developing countries without an answer to the question: does the rule of law matter for economic development or not? Constitutional economics is the study of the compatibility of economic and financial decisions within existing constitutional law frameworks, and such a framework includes government spending on the judiciary, which, in many transitional and developing countries, is completely controlled by the executive. It is useful to distinguish between the two methods of corruption of the judiciary: corruption by the executive branch, in contrast to corruption by private actors.\\n'''\\n\\nQuestion: In developing countries, who makes most of the spending decisions?<|eot_id|><|start_header_id|>assistant<|end_header_id|>\",\n",
       "  'response': ['The executive branch.',\n",
       "   'The executive branch of the government.',\n",
       "   'Executive branch.',\n",
       "   'In developing countries, the government, specifically the executive branch, makes most of the spending decisions on the judiciary.']},\n",
       " {'task_info': {'type': 'Contextual QA', 'dataset': 'rajpurkar_squad'},\n",
       "  'additional_info': {'model': 'meta-llama/Llama-3.2-1B-Instruct',\n",
       "   'question': 'Who impressed Xavier by taking notes in church?',\n",
       "   'context': 'In December 1547, Francis was in Malacca (Malaysia) waiting to return to Goa (India) when he met a low-ranked samurai named Anjiro (possibly spelled \"Yajiro\"). Anjiro was not an intellectual, but he impressed Xavier because he took careful notes of everything he said in church. Xavier made the decision to go to Japan in part because this low-ranking samurai convinced him in Portuguese that the Japanese people were highly educated and eager to learn. They were hard workers and respectful of authority. In their laws and customs they were led by reason, and, should the Christian faith convince them of its truth, they would accept it en masse.',\n",
       "   'answer': ['Anjiro'],\n",
       "   'title': 'Samurai'},\n",
       "  'input': '<|begin_of_text|><|start_header_id|>system<|end_header_id|>\\n\\nYou are a specialized question-answering AI. Your task is to give a concise answer to the question using *only* the provided context. Make sure to always give an answer.<|eot_id|><|start_header_id|>user<|end_header_id|>\\n\\nContext:\\n\\'\\'\\'\\nIn December 1547, Francis was in Malacca (Malaysia) waiting to return to Goa (India) when he met a low-ranked samurai named Anjiro (possibly spelled \"Yajiro\"). Anjiro was not an intellectual, but he impressed Xavier because he took careful notes of everything he said in church. Xavier made the decision to go to Japan in part because this low-ranking samurai convinced him in Portuguese that the Japanese people were highly educated and eager to learn. They were hard workers and respectful of authority. In their laws and customs they were led by reason, and, should the Christian faith convince them of its truth, they would accept it en masse.\\n\\'\\'\\'\\n\\nQuestion: Who impressed Xavier by taking notes in church?<|eot_id|><|start_header_id|>assistant<|end_header_id|>',\n",
       "  'response': ['Francis Xavier impressed Xavier by taking notes in church.',\n",
       "   'Anjiro.',\n",
       "   'Anjiro.',\n",
       "   'Anjiro (possibly spelled \"Yajiro\"), a low-ranked samurai.']},\n",
       " {'task_info': {'type': 'Contextual QA', 'dataset': 'rajpurkar_squad'},\n",
       "  'additional_info': {'model': 'meta-llama/Llama-3.2-1B-Instruct',\n",
       "   'question': 'What represents elements of the fundamental group?',\n",
       "   'context': 'Groups are also applied in many other mathematical areas. Mathematical objects are often examined by associating groups to them and studying the properties of the corresponding groups. For example, Henri Poincaré founded what is now called algebraic topology by introducing the fundamental group. By means of this connection, topological properties such as proximity and continuity translate into properties of groups.i[›] For example, elements of the fundamental group are represented by loops. The second image at the right shows some loops in a plane minus a point. The blue loop is considered null-homotopic (and thus irrelevant), because it can be continuously shrunk to a point. The presence of the hole prevents the orange loop from being shrunk to a point. The fundamental group of the plane with a point deleted turns out to be infinite cyclic, generated by the orange loop (or any other loop winding once around the hole). This way, the fundamental group detects the hole.',\n",
       "   'answer': ['loops'],\n",
       "   'title': 'Group_(mathematics)'},\n",
       "  'input': \"<|begin_of_text|><|start_header_id|>system<|end_header_id|>\\n\\nYou are a specialized question-answering AI. Your task is to give a concise answer to the question using *only* the provided context. Make sure to always give an answer.<|eot_id|><|start_header_id|>user<|end_header_id|>\\n\\nContext:\\n'''\\nGroups are also applied in many other mathematical areas. Mathematical objects are often examined by associating groups to them and studying the properties of the corresponding groups. For example, Henri Poincaré founded what is now called algebraic topology by introducing the fundamental group. By means of this connection, topological properties such as proximity and continuity translate into properties of groups.i[›] For example, elements of the fundamental group are represented by loops. The second image at the right shows some loops in a plane minus a point. The blue loop is considered null-homotopic (and thus irrelevant), because it can be continuously shrunk to a point. The presence of the hole prevents the orange loop from being shrunk to a point. The fundamental group of the plane with a point deleted turns out to be infinite cyclic, generated by the orange loop (or any other loop winding once around the hole). This way, the fundamental group detects the hole.\\n'''\\n\\nQuestion: What represents elements of the fundamental group?<|eot_id|><|start_header_id|>assistant<|end_header_id|>\",\n",
       "  'response': ['Loops', 'Loops.', 'Loops.', 'Loops.']}]"
      ]
     },
     "execution_count": 18,
     "metadata": {},
     "output_type": "execute_result"
    }
   ],
   "source": [
    "all_results[:5]"
   ]
  },
  {
   "cell_type": "code",
   "execution_count": 19,
   "id": "ce6f8026",
   "metadata": {},
   "outputs": [],
   "source": [
    "with open(f\"../../dataset/raw_model_responses/{DATA_SPLIT}/{DATA_SPLIT}_{dataset_name}.json\", \"w\") as f:\n",
    "    json.dump(all_results, f, indent=4)"
   ]
  },
  {
   "cell_type": "code",
   "execution_count": null,
   "id": "fecf50b1",
   "metadata": {},
   "outputs": [],
   "source": []
  }
 ],
 "metadata": {
  "kernelspec": {
   "display_name": "ai",
   "language": "python",
   "name": "python3"
  },
  "language_info": {
   "codemirror_mode": {
    "name": "ipython",
    "version": 3
   },
   "file_extension": ".py",
   "mimetype": "text/x-python",
   "name": "python",
   "nbconvert_exporter": "python",
   "pygments_lexer": "ipython3",
   "version": "3.11.9"
  }
 },
 "nbformat": 4,
 "nbformat_minor": 5
}
