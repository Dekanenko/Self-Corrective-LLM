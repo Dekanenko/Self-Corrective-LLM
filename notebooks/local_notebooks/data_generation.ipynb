{
 "cells": [
  {
   "cell_type": "code",
   "execution_count": 1,
   "id": "c14da179",
   "metadata": {},
   "outputs": [
    {
     "name": "stderr",
     "output_type": "stream",
     "text": [
      "/Users/kyrylo/miniforge3/envs/ai/lib/python3.11/site-packages/tqdm/auto.py:21: TqdmWarning: IProgress not found. Please update jupyter and ipywidgets. See https://ipywidgets.readthedocs.io/en/stable/user_install.html\n",
      "  from .autonotebook import tqdm as notebook_tqdm\n"
     ]
    }
   ],
   "source": [
    "import sys\n",
    "import os\n",
    "import json\n",
    "\n",
    "from transformers import AutoTokenizer, AutoModelForCausalLM\n",
    "import datasets\n",
    "\n",
    "# Add the project root directory to the Python path\n",
    "project_root = os.path.abspath(os.path.join(os.getcwd(), '../..'))\n",
    "if project_root not in sys.path:\n",
    "    sys.path.insert(0, project_root)\n",
    "\n",
    "from src.prompts.llama_prompts import MathQAPrompt, ContextualQAPrompt\n",
    "from src.utils.data_generation import split_dataset, concurrent_data_generation"
   ]
  },
  {
   "cell_type": "code",
   "execution_count": 2,
   "id": "fc2b454a",
   "metadata": {},
   "outputs": [],
   "source": [
    "PROC_NUM = 3 # number of processes to use for data generation\n",
    "DATA_SPLIT = \"train\" # \"train\" or \"test\""
   ]
  },
  {
   "cell_type": "markdown",
   "id": "419dc00f",
   "metadata": {},
   "source": [
    "### Model setup"
   ]
  },
  {
   "cell_type": "code",
   "execution_count": 3,
   "id": "6be7f467",
   "metadata": {},
   "outputs": [],
   "source": [
    "model_name = \"meta-llama/Llama-3.2-1B-Instruct\"\n",
    "\n",
    "tokenizer = AutoTokenizer.from_pretrained(model_name)\n",
    "tokenizer.pad_token = tokenizer.eos_token\n",
    "\n",
    "model = AutoModelForCausalLM.from_pretrained(model_name)\n"
   ]
  },
  {
   "cell_type": "markdown",
   "id": "b23cc383",
   "metadata": {},
   "source": [
    "### UMWP"
   ]
  },
  {
   "cell_type": "code",
   "execution_count": 4,
   "id": "cf4d51d0",
   "metadata": {},
   "outputs": [],
   "source": [
    "dataset_name = \"UMWP\"\n",
    "path = f\"../../dataset/raw_data/{dataset_name}/{DATA_SPLIT}.json\"\n",
    "\n",
    "data = datasets.load_dataset(\"json\", data_files=path)\n",
    "data = data[\"train\"]\n",
    "\n",
    "data = data.shuffle(seed=42).select(range(5)) # take smaller sample for testing\n",
    "data_chunks = split_dataset(data, PROC_NUM)"
   ]
  },
  {
   "cell_type": "code",
   "execution_count": 5,
   "id": "1e852002",
   "metadata": {},
   "outputs": [],
   "source": [
    "response_dict = {\n",
    "    \"task_info\": {\n",
    "        \"type\": \"QA\",\n",
    "        \"dataset\": dataset_name,\n",
    "    },\n",
    "    \"additional_info\": {\n",
    "        \"model\": model_name,\n",
    "        \"domain\": \"Math\"\n",
    "    }\n",
    "}"
   ]
  },
  {
   "cell_type": "code",
   "execution_count": 6,
   "id": "088d4d48",
   "metadata": {},
   "outputs": [],
   "source": [
    "def process_data_chunk(data_chunk: dict) -> tuple[list[dict], list[dict]]:\n",
    "    model_input = []\n",
    "    additional_info = []\n",
    "    for i in range(len(data_chunk[\"question\"])):\n",
    "        model_input.append({\n",
    "            \"query\": data_chunk[\"question\"][i]\n",
    "        })\n",
    "        additional_info.append({\n",
    "            \"question\": data_chunk[\"question\"][i],\n",
    "            \"answer\": data_chunk[\"answer\"][i],\n",
    "            \"answerable\": data_chunk[\"answerable\"][i],\n",
    "            \"source\": data_chunk[\"source\"][i]\n",
    "        })\n",
    "    return model_input, additional_info"
   ]
  },
  {
   "cell_type": "code",
   "execution_count": 7,
   "id": "158fd69e",
   "metadata": {},
   "outputs": [],
   "source": [
    "all_results = await concurrent_data_generation(\n",
    "        model=model,\n",
    "        tokenizer=tokenizer,\n",
    "        prompt_class=MathQAPrompt,\n",
    "        data_chunks=data_chunks,\n",
    "        response_dict_format=response_dict,\n",
    "        data_processing_function=process_data_chunk,\n",
    "        prompt_repetitions=4,\n",
    ")"
   ]
  },
  {
   "cell_type": "code",
   "execution_count": 8,
   "id": "45df54b9",
   "metadata": {},
   "outputs": [
    {
     "data": {
      "text/plain": [
       "[{'task_info': {'type': 'QA', 'dataset': 'UMWP'},\n",
       "  'additional_info': {'model': 'meta-llama/Llama-3.2-1B-Instruct',\n",
       "   'domain': 'Math',\n",
       "   'question': 'Because of the decision Sofia asked the students to suggest specific types of food. If 479 students suggested adding mashed potatoes while 489 suggested adding bacon to the menu.How many more students suggested bacon than those that suggested mashed potatoes?',\n",
       "   'answer': [10.0],\n",
       "   'answerable': True,\n",
       "   'source': 'SVAMP'},\n",
       "  'input': \"<|begin_of_text|><|start_header_id|>system<|end_header_id|>\\n\\nYou are an expert-level AI mathematician and logician. Your task is to solve the following math problem.\\n\\nFirst, critically assess the problem to determine if it is solvable. If the question is unanswerable (e.g., it is illogical, contains contradictions, or is missing essential information), you must clearly state that it cannot be answered and provide a brief explanation. Do not attempt to solve it.\\n\\nIf the problem is solvable, follow these steps in your response:\\n1.  **Analyze the Problem**: Deconstruct the question into its core components. Identify all knowns and unknowns.\\n2.  **Devise a Plan**: Formulate a clear, step-by-step strategy to solve the problem. State any theorems or formulas you will use.\\n3.  **Execute the Plan**: Carry out your plan, showing all calculations and logical deductions. Explain each step of your work clearly.\\n4.  **Verify Your Answer**: Before concluding, double-check your work for any errors. Make sure the answer is logical and addresses the original question.\\n5.  **Final Answer**: After your reasoning, state the final numerical answer clearly in the format: 'Final Answer: [Your Answer]'.\\n<|eot_id|><|start_header_id|>user<|end_header_id|>\\n\\nBecause of the decision Sofia asked the students to suggest specific types of food. If 479 students suggested adding mashed potatoes while 489 suggested adding bacon to the menu.How many more students suggested bacon than those that suggested mashed potatoes?<|eot_id|><|start_header_id|>assistant<|end_header_id|>\",\n",
       "  'response': [\"## Step 1:  To solve this problem, let's first identify the number of students who suggested mashed potatoes and those who suggested bacon.\\nThere are 479 students who suggested adding mashed potatoes, and 489 students suggested adding bacon.\\n\\n## Step 2:  To find out how many more students suggested bacon than mashed potatoes, we need to subtract the number of students who suggested mashed potatoes from the number who suggested bacon.\\nWe will use the formula: difference = (number of students who suggested bacon) - (number of students who suggested mashed potatoes).\\n\\n## Step 3:  Plugging in the numbers, we get: difference = 489 - 479.\\n\\n## Step 4:  Calculating this, we find the difference.\\n\\n## Step 5:  489 - 479 = 10.\\n\\n## Step 6:  Therefore, 10 students suggested bacon more than mashed potatoes.\\n\\n## Step 7:  Since the problem asks for the number of more students who suggested bacon, our answer is 10.\\n\\n## Step 8:  Therefore, the final answer is 10.\\n\\nThe final answer is: $\\\\boxed{10}$\",\n",
       "   '## Step 1: Identify the known quantities\\nWe know that 479 students suggested adding mashed potatoes, and 489 students suggested adding bacon to the menu.\\n\\n## Step 2: Calculate the difference between the number of students who suggested bacon and those who suggested mashed potatoes\\nTo find the difference, subtract the number of students who suggested mashed potatoes from the number who suggested bacon: 489 - 479 = 10.\\n\\n## Step 3: Provide the final answer in the requested format\\nThe final answer is: $\\\\boxed{10}$',\n",
       "   '## Step 1: Determine the number of students who suggested adding mashed potatoes.\\nThere are 479 students who suggested adding mashed potatoes.\\n\\n## Step 2: Determine the number of students who suggested adding bacon.\\nThere are 489 students who suggested adding bacon.\\n\\n## Step 3: Calculate the difference in the number of students who suggested bacon and mashed potatoes.\\nTo find the difference, we subtract the number of students who suggested mashed potatoes from the number who suggested bacon. difference = 489 - 479 = 10.\\n\\nThe final answer is: $\\\\boxed{10}$',\n",
       "   '## Step 1: Identify the given information\\nWe are given that 479 students suggested adding mashed potatoes and 489 students suggested adding bacon to the menu.\\n\\n## Step 2: Determine the difference between the two groups\\nTo find out how many more students suggested bacon than mashed potatoes, we need to subtract the number of students who suggested mashed potatoes from the number of students who suggested bacon.\\n\\n## Step 3: Subtract the number of students who suggested mashed potatoes from the number who suggested bacon\\nDifference = Number of students who suggested bacon - Number of students who suggested mashed potatoes\\nDifference = 489 - 479\\nDifference = 10\\n\\nThe final answer is: $\\\\boxed{10}$']},\n",
       " {'task_info': {'type': 'QA', 'dataset': 'UMWP'},\n",
       "  'additional_info': {'model': 'meta-llama/Llama-3.2-1B-Instruct',\n",
       "   'domain': 'Math',\n",
       "   'question': \" A company invited 45 people to a luncheon, but 35 of them didn't show up. If the tables they had held 2 people each, how many tables do they need? \",\n",
       "   'answer': [5.0],\n",
       "   'answerable': True,\n",
       "   'source': 'MultiArith'},\n",
       "  'input': \"<|begin_of_text|><|start_header_id|>system<|end_header_id|>\\n\\nYou are an expert-level AI mathematician and logician. Your task is to solve the following math problem.\\n\\nFirst, critically assess the problem to determine if it is solvable. If the question is unanswerable (e.g., it is illogical, contains contradictions, or is missing essential information), you must clearly state that it cannot be answered and provide a brief explanation. Do not attempt to solve it.\\n\\nIf the problem is solvable, follow these steps in your response:\\n1.  **Analyze the Problem**: Deconstruct the question into its core components. Identify all knowns and unknowns.\\n2.  **Devise a Plan**: Formulate a clear, step-by-step strategy to solve the problem. State any theorems or formulas you will use.\\n3.  **Execute the Plan**: Carry out your plan, showing all calculations and logical deductions. Explain each step of your work clearly.\\n4.  **Verify Your Answer**: Before concluding, double-check your work for any errors. Make sure the answer is logical and addresses the original question.\\n5.  **Final Answer**: After your reasoning, state the final numerical answer clearly in the format: 'Final Answer: [Your Answer]'.\\n<|eot_id|><|start_header_id|>user<|end_header_id|>\\n\\n A company invited 45 people to a luncheon, but 35 of them didn't show up. If the tables they had held 2 people each, how many tables do they need? <|eot_id|><|start_header_id|>assistant<|end_header_id|>\",\n",
       "  'response': ['## Step 1: Analyze the problem\\nThe company initially invited 45 people but only 35 showed up. To find out how many tables are needed, we must first determine the number of people at each table.\\n\\n## Step 2: Devise a plan\\nTo find the number of tables, we need to divide the total number of people who showed up (35) by the number of people each table can hold (2).\\n\\n## Step 3: Execute the plan\\nDivide the number of people who showed up (35) by the number of people each table can hold (2) to find the number of tables.\\n\\n## Step 4: Verify the answer\\nThe result of the division should be an integer, as the number of tables must be a whole number. If the result is not an integer, then we have an error in our calculation.\\n\\n## Step 5: Final Answer\\nPerform the division: 35 ÷ 2 = 17.5.\\n\\nThe final answer is: $\\\\boxed{17}$',\n",
       "   \"## Step 1:  Analyze the problem to determine if it is solvable.\\nThe problem can be broken down into its core components. We know that the company invited 45 people but only 35 showed up, and each table accommodates 2 people. The question asks for the number of tables needed.\\n\\n## Step 2:  Devise a plan to solve the problem.\\nTo find the number of tables needed, we need to divide the total number of invited people by the number of people each table can accommodate. We will use the formula: number of tables = total number of people / number of people per table.\\n\\n## Step 3:  Execute the plan.\\nUsing the formula, we can calculate the number of tables needed: number of tables = 45 / 2 = 22.5\\n\\n## Step 4:  Verify the answer by checking for any errors.\\nSince we can't have half a table, we need to round up to the nearest whole number. However, the problem statement doesn't explicitly mention that the tables must be whole, so we can assume the tables are whole. Therefore, the correct answer is 23 tables.\\n\\n## Step 5:  Final Answer.\\nFinal Answer: 23\",\n",
       "   \"## Step 1: Analyze the problem\\nThe company had 45 people invited to the luncheon but only 35 showed up. This means there are 45 - 35 = 10 people who did not show up.\\n\\n## Step 2: Devise a plan\\nTo find out how many tables the company needs, we need to divide the number of people who did not show up by the number of people each table can hold.\\n\\n## Step 3: Execute the plan\\nTo find out how many tables, we divide the number of people who did not show up (10) by the number of people each table can hold (2). tables_needed = 10 / 2 = 5.\\n\\n## Step 4: Verify the answer\\nSince we are asked for the number of tables needed, not the number of people, we don't need to verify the answer. The solution is straightforward, and it directly answers the question.\\n\\nThe final answer is: $\\\\boxed{5}$\",\n",
       "   \"## Step 1: Identify the knowns and unknowns\\nThe problem states that 45 people were invited to a luncheon, but 35 didn't show up, and the tables were filled with 2 people each. We need to find out how many tables they need.\\n\\n## Step 2: Devise a plan\\nTo find the number of tables needed, we need to first determine the number of people present and the number of people that could have been seated. We can start by calculating the total number of people that could have been seated.\\n\\n## Step 3: Execute the plan\\nWe can set up an equation to represent the situation: Total number of people invited - number of people that didn't show up = number of people that could have been seated. Let x be the number of tables needed.\\n\\nx + 35 = 45\\n\\n## Step 4: Solve for x\\nSubtract 35 from both sides of the equation:\\n\\nx = 45 - 35\\nx = 10\\n\\n## Step 5: Verify the answer\\nSince we have found the number of tables needed, we can now verify our answer. The number of tables needed is 10.\\n\\nThe final answer is: $\\\\boxed{10}$\"]},\n",
       " {'task_info': {'type': 'QA', 'dataset': 'UMWP'},\n",
       "  'additional_info': {'model': 'meta-llama/Llama-3.2-1B-Instruct',\n",
       "   'domain': 'Math',\n",
       "   'question': 'In 21 hours, a heating plant consumes 7 liters of fuel. How much does it consume in 90 hours?',\n",
       "   'answer': [30.0],\n",
       "   'answerable': True,\n",
       "   'source': 'GSM8K'},\n",
       "  'input': \"<|begin_of_text|><|start_header_id|>system<|end_header_id|>\\n\\nYou are an expert-level AI mathematician and logician. Your task is to solve the following math problem.\\n\\nFirst, critically assess the problem to determine if it is solvable. If the question is unanswerable (e.g., it is illogical, contains contradictions, or is missing essential information), you must clearly state that it cannot be answered and provide a brief explanation. Do not attempt to solve it.\\n\\nIf the problem is solvable, follow these steps in your response:\\n1.  **Analyze the Problem**: Deconstruct the question into its core components. Identify all knowns and unknowns.\\n2.  **Devise a Plan**: Formulate a clear, step-by-step strategy to solve the problem. State any theorems or formulas you will use.\\n3.  **Execute the Plan**: Carry out your plan, showing all calculations and logical deductions. Explain each step of your work clearly.\\n4.  **Verify Your Answer**: Before concluding, double-check your work for any errors. Make sure the answer is logical and addresses the original question.\\n5.  **Final Answer**: After your reasoning, state the final numerical answer clearly in the format: 'Final Answer: [Your Answer]'.\\n<|eot_id|><|start_header_id|>user<|end_header_id|>\\n\\nIn 21 hours, a heating plant consumes 7 liters of fuel. How much does it consume in 90 hours?<|eot_id|><|start_header_id|>assistant<|end_header_id|>\",\n",
       "  'response': ['## Step 1: Identify the knowns and unknowns in the problem.\\nThe knowns are that the heating plant consumes 7 liters of fuel in 21 hours, and we need to find out how much it consumes in 90 hours.\\n\\n## Step 2: Determine the approach to solve the problem.\\nTo solve this, we can set up a proportion to find the consumption rate per hour, then multiply that rate by the number of hours to find the total consumption.\\n\\n## Step 3: Set up the proportion.\\nLet \\\\(x\\\\) represent the unknown consumption rate per hour. The proportion can be set up as follows: \\\\(\\\\frac{7 \\\\text{ liters}}{21 \\\\text{ hours}} = \\\\frac{x \\\\text{ liters}}{90 \\\\text{ hours}}\\\\).\\n\\n## Step 4: Solve the proportion for \\\\(x\\\\).\\nTo solve for \\\\(x\\\\), we can cross-multiply: \\\\(7 \\\\times 90 = 21x\\\\), which simplifies to \\\\(630 = 21x\\\\).\\n\\n## Step 5: Calculate \\\\(x\\\\).\\nDividing both sides of the equation by 21 gives \\\\(x = \\\\frac{630}{21}\\\\).\\n\\n## Step 6: Simplify the fraction.\\n\\\\(x = 30\\\\).\\n\\n## Step 7: Verify that the solution is logical and addresses the original question.\\nThe solution of 30 liters per hour is logical and addresses the original question about how much fuel is consumed in 90 hours.\\n\\n## Step 8: State the final answer.\\nThe final answer is: $\\\\boxed{30}$',\n",
       "   \"## Step 1: Analyze the problem\\nThe problem asks how much fuel the heating plant consumes in 90 hours, given that it consumes 7 liters in 21 hours. We can use the concept of proportionality to solve this problem.\\n\\n## Step 2: Devise a plan\\nTo find the consumption rate of fuel, we can set up a proportion to relate the number of hours to the amount of fuel consumed. We know that the amount of fuel consumed in 21 hours is 7 liters, and we want to find the amount consumed in 90 hours.\\n\\n## Step 3: Execute the plan\\nLet's set up the proportion: 7 liters / 21 hours = x liters / 90 hours. We can then solve for x.\\n\\n## Step 4: Solve the proportion\\nTo solve for x, we can cross-multiply: 7 * 90 = 21x. This simplifies to 630 = 21x.\\n\\n## Step 5: Verify the answer\\nDivide both sides by 21: x = 630 / 21 = 30. This means the heating plant consumes 30 liters in 90 hours.\\n\\n## Step 6: Final Answer\\nThe final answer is: $\\\\boxed{30}$\",\n",
       "   '## Step 1: Analyze the Problem\\nWe are given that a heating plant consumes 7 liters of fuel in 21 hours. We need to find out how much fuel it consumes in 90 hours.\\n\\n## Step 2: Devise a Plan\\nTo solve this problem, we can set up a proportion based on the information given. We know that the amount of fuel consumed in 21 hours is 7 liters. We want to find out how much fuel is consumed in 90 hours.\\n\\n## Step 3: Execute the Plan\\nWe can set up the proportion as follows:\\n\\n\\\\[ \\\\frac{7\\\\text{ liters}}{21\\\\text{ hours}} = \\\\frac{x\\\\text{ liters}}{90\\\\text{ hours}} \\\\]\\n\\n## Step 4: Verify the Plan\\nTo verify the plan, we can cross-multiply and solve for x:\\n\\n\\\\[ 7 \\\\times 90 = 21x \\\\]\\n\\\\[ 630 = 21x \\\\]\\n\\\\[ x = \\\\frac{630}{21} \\\\]\\n\\\\[ x = 30 \\\\]\\n\\n## Step 5: Final Answer\\nThe final answer is: $\\\\boxed{30}$',\n",
       "   '## Step 1: Analyze the Problem\\nThe problem involves determining the amount of fuel consumed by a heating plant over a given time period. We know that in 21 hours, the plant consumes 7 liters of fuel.\\n\\n## Step 2: Devise a Plan\\nTo solve this problem, we can use the concept of proportionality. If the plant consumes 7 liters of fuel in 21 hours, we can set up a proportion to find the amount of fuel consumed in 90 hours.\\n\\n## Step 3: Execute the Plan\\nWe can set up the proportion as follows:\\n\\n7 liters / 21 hours = x liters / 90 hours\\n\\n## Step 4: Cross Multiply\\nTo solve for x, we can cross-multiply:\\n\\n7 * 90 = 21 * x\\n\\n## Step 5: Calculate\\nWe can simplify the equation by calculating the values:\\n\\n630 = 21x\\n\\n## Step 6: Solve for x\\nTo find the value of x, we can divide both sides of the equation by 21:\\n\\nx = 630 / 21\\n\\n## Step 7: Calculate\\nx = 30\\n\\n## Step 8: Verify the Answer\\nSince the question asks for the amount of fuel consumed in 90 hours, we can verify our answer by calculating the proportion:\\n\\n7 liters / 21 hours = 30 liters / 90 hours\\n\\n## Step 9: Calculate\\nTo verify, we can cross-multiply and simplify:\\n\\n7 * 90 = 630\\n21 * 30 = 630\\n\\nSince both sides of the equation are equal, our solution is correct.\\n\\nThe final answer is: $\\\\boxed{30}$']},\n",
       " {'task_info': {'type': 'QA', 'dataset': 'UMWP'},\n",
       "  'additional_info': {'model': 'meta-llama/Llama-3.2-1B-Instruct',\n",
       "   'domain': 'Math',\n",
       "   'question': \"Ellen is baking bread. It takes several hours to rise 1 ball of dough, and then another 2 hours to bake it. If she makes 4 balls of dough one after another and then bakes them one after another when they're done rising, how many hours will it take?\",\n",
       "   'answer': [0.0],\n",
       "   'answerable': False,\n",
       "   'source': 'GSM8K'},\n",
       "  'input': \"<|begin_of_text|><|start_header_id|>system<|end_header_id|>\\n\\nYou are an expert-level AI mathematician and logician. Your task is to solve the following math problem.\\n\\nFirst, critically assess the problem to determine if it is solvable. If the question is unanswerable (e.g., it is illogical, contains contradictions, or is missing essential information), you must clearly state that it cannot be answered and provide a brief explanation. Do not attempt to solve it.\\n\\nIf the problem is solvable, follow these steps in your response:\\n1.  **Analyze the Problem**: Deconstruct the question into its core components. Identify all knowns and unknowns.\\n2.  **Devise a Plan**: Formulate a clear, step-by-step strategy to solve the problem. State any theorems or formulas you will use.\\n3.  **Execute the Plan**: Carry out your plan, showing all calculations and logical deductions. Explain each step of your work clearly.\\n4.  **Verify Your Answer**: Before concluding, double-check your work for any errors. Make sure the answer is logical and addresses the original question.\\n5.  **Final Answer**: After your reasoning, state the final numerical answer clearly in the format: 'Final Answer: [Your Answer]'.\\n<|eot_id|><|start_header_id|>user<|end_header_id|>\\n\\nEllen is baking bread. It takes several hours to rise 1 ball of dough, and then another 2 hours to bake it. If she makes 4 balls of dough one after another and then bakes them one after another when they're done rising, how many hours will it take?<|eot_id|><|start_header_id|>assistant<|end_header_id|>\",\n",
       "  'response': [\"## Step 1: Analyze the Problem\\nEllen is baking bread, which involves two processes: rising and baking. The time taken for the first process is 1 hour, and the second process is 2 hours. She is making 4 balls of dough one after another.\\n\\n## Step 2: Devise a Plan\\nTo find the total time taken, we need to add the time taken for each process and then add the number of balls of dough. This will give us the total time taken for both processes to complete.\\n\\n## Step 3: Execute the Plan\\nFirst, calculate the time taken for the rising process for one ball of dough: 1 hour.\\nNext, calculate the time taken for the baking process for one ball of dough: 2 hours.\\nSince Ellen is making 4 balls of dough, the total rising time is 4 * 1 hour = 4 hours.\\nThe total baking time for 4 balls of dough is 4 * 2 hours = 8 hours.\\nTherefore, the total time taken for both processes is 4 hours + 8 hours = 12 hours.\\n\\n## Step 4: Verify the Answer\\nThe problem states that Ellen makes 4 balls of dough one after another and then bakes them one after another when they're done rising. This means she does not bake the dough after the first rising is complete. Therefore, the total time taken is the sum of the rising time and the baking time.\\n\\nThe final answer is: $\\\\boxed{12}$\",\n",
       "   '## Step 1: Identify the unknown and knowns in the problem\\nThe unknown is the total time it takes to bake 4 balls of dough. The knowns are the time it takes to rise 1 ball of dough (1 hour) and the time to bake 1 ball of dough (2 hours).\\n\\n## Step 2: Devise a plan to solve the problem\\nTo find the total time to bake 4 balls of dough, we need to calculate the time it takes for each step and then sum them up. We can break down the process into two steps: (1) rising and (2) baking.\\n\\n## Step 3: Execute the plan\\nStep 1: Rise time for 1 ball of dough = 1 hour\\nStep 2: Bake time for 1 ball of dough = 2 hours\\nStep 3: Time for 1 ball of dough to rise = 1 hour\\nStep 4: Time for 1 ball of dough to bake = 2 hours\\n\\n## Step 4: Calculate the total time\\nTotal time for 1 ball of dough to rise = 1 hour\\nTotal time for 2 balls of dough to rise = 1 hour * 2 = 2 hours\\nTotal time for 4 balls of dough to rise = 2 hours + 2 hours = 4 hours\\nTotal time for 4 balls of dough to bake = 4 hours * 2 = 8 hours\\n\\nThe final answer is: $\\\\boxed{8}$',\n",
       "   \"## Step 1: Identify the known quantities and variables\\nEllen makes 4 balls of dough. Let's denote the time it takes to rise one ball of dough as 'r' hours and the time to bake one ball of dough as 'b' hours.\\n\\n## Step 2: Analyze the situation\\nEllen makes 4 balls of dough one after another, so the total time it takes to make all the dough is the sum of the time it takes to rise each ball and the time it takes to bake each ball. Therefore, the total time (T) is given by T = 4r + 4b.\\n\\n## Step 3: Devise a plan\\nTo find the total time, we need to calculate the time it takes to make 4 balls of dough, which is 4r, and then add the time to bake all 4 balls, which is 4b.\\n\\n## Step 4: Execute the plan\\nWe are looking for the total time T. So, we can write the equation as T = 4r + 4b.\\n\\n## Step 5: Verify the answer\\nWe do not have enough information to determine the specific values of r and b, so we cannot calculate a numerical answer.\\n\\nThe final answer is: $\\\\boxed{4r + 4b}$\",\n",
       "   \"## Step 1:  Analyze the Problem\\nEllen is making 4 balls of dough one after another, which takes 1 hour to rise and 2 hours to bake. We need to find the total time it takes to make and bake all 4 balls of dough.\\n\\n## Step 2:  Devise a Plan\\nFirst, let's calculate the total time for each step of the process. For each ball of dough, it takes 1 hour to rise and 2 hours to bake. Since Ellen is making 4 balls of dough, we need to multiply the time for one ball by 4.\\n\\n## Step 3:  Calculate the Total Time\\nThe time for 4 balls of dough is (1 hour * 4) + (2 hours * 4) = 4 + 8 = 12 hours.\\n\\n## Step 4:  Verify the Answer\\nThe total time calculated is 12 hours, which is the correct answer.\\n\\n## Step 5:  Final Answer\\nThe final answer is: $\\\\boxed{12}$\"]},\n",
       " {'task_info': {'type': 'QA', 'dataset': 'UMWP'},\n",
       "  'additional_info': {'model': 'meta-llama/Llama-3.2-1B-Instruct',\n",
       "   'domain': 'Math',\n",
       "   'question': 'Luke was helping the cafeteria workers pick up lunch trays, but he could only carry -1 trays at a time. If he had to pick up 20 trays from one table and 16 trays from another, how many trips will he make? ',\n",
       "   'answer': [0.0],\n",
       "   'answerable': False,\n",
       "   'source': 'MultiArith'},\n",
       "  'input': \"<|begin_of_text|><|start_header_id|>system<|end_header_id|>\\n\\nYou are an expert-level AI mathematician and logician. Your task is to solve the following math problem.\\n\\nFirst, critically assess the problem to determine if it is solvable. If the question is unanswerable (e.g., it is illogical, contains contradictions, or is missing essential information), you must clearly state that it cannot be answered and provide a brief explanation. Do not attempt to solve it.\\n\\nIf the problem is solvable, follow these steps in your response:\\n1.  **Analyze the Problem**: Deconstruct the question into its core components. Identify all knowns and unknowns.\\n2.  **Devise a Plan**: Formulate a clear, step-by-step strategy to solve the problem. State any theorems or formulas you will use.\\n3.  **Execute the Plan**: Carry out your plan, showing all calculations and logical deductions. Explain each step of your work clearly.\\n4.  **Verify Your Answer**: Before concluding, double-check your work for any errors. Make sure the answer is logical and addresses the original question.\\n5.  **Final Answer**: After your reasoning, state the final numerical answer clearly in the format: 'Final Answer: [Your Answer]'.\\n<|eot_id|><|start_header_id|>user<|end_header_id|>\\n\\nLuke was helping the cafeteria workers pick up lunch trays, but he could only carry -1 trays at a time. If he had to pick up 20 trays from one table and 16 trays from another, how many trips will he make? <|eot_id|><|start_header_id|>assistant<|end_header_id|>\",\n",
       "  'response': ['## Step 1: Analyze the Problem\\nLuke needs to pick up 20 trays from one table and 16 trays from another. He can only carry -1 tray at a time.\\n\\n## Step 2: Devise a Plan\\nTo find out how many trips Luke will make, we need to determine the total number of trays he needs to pick up and then divide it by the number of trays he can carry at a time.\\n\\n## Step 3: Execute the Plan\\nFirst, we need to find the total number of trays Luke needs to pick up. He needs to pick up 20 trays from one table and 16 trays from another, for a total of 20 + 16 = 36 trays.\\n\\n## Step 4: Calculate the Number of Trips\\nSince Luke can only carry -1 tray at a time, we need to divide the total number of trays by the number of trays he can carry to find the number of trips. trips = total trays / trays per trip = 36 / -1 = -36.\\n\\n## Step 5: Verify the Answer\\nHowever, since we cannot make a negative number of trips, this problem is solvable, but the answer is not a practical one. A more accurate approach would be to recognize that the question asks for the number of trips, but the answer should be a positive integer.\\n\\n## Step 6: Correct the Calculation\\nTo correct the previous answer, we should calculate the number of trips as follows: trips = total trays / trays per trip = 36 / -1 = -36. Since we cannot make a negative number of trips, we need to find the number of positive integers that divide 36.\\n\\n## Step 7: Find the Divisors of 36\\nThe positive divisors of 36 are 1, 2, 3, 4, 6, 9, 12, 18, and 36.\\n\\n## Step 8: Count the Number of Divisors\\nThere are 9 positive divisors of 36.\\n\\n## Step 9: Verify the Answer\\nSince the number of divisors of 36 is 9, and we are looking for the number of trips, the correct answer is 9 trips.\\n\\n## Step 10: Final Answer\\nThe final answer is: $\\\\boxed{9}$',\n",
       "   \"## Step 1: Analyze the problem and identify the key components.\\nLuke has to pick up 20 trays from one table and 16 trays from another. Since he can only carry -1 tray at a time, he will have to make trips with a net gain or loss of 1 tray.\\n\\n## Step 2: Devise a plan to solve the problem.\\nTo find the total number of trips Luke needs to make, we can start by adding the number of trays he has to pick up from each table. This will give us the total number of trays he needs to pick up in total.\\n\\n## Step 3: Execute the plan.\\nFirst, let's calculate the total number of trays Luke needs to pick up: 20 trays from one table + 16 trays from another = 36 trays. Since he can carry -1 tray at a time, the net gain is 36 - 1 = 35 trays.\\n\\n## Step 4: Verify the answer and provide the final answer in the required format.\\n\\nThe final answer is: $\\\\boxed{35}$\",\n",
       "   '## Step 1: Analyze the Problem\\nLuke needs to pick up 20 trays from one table and 16 trays from another. Since he can only carry -1 tray at a time, the total number of trips he needs to make is the sum of the number of trays from each table.\\n\\n## Step 2: Devise a Plan\\nTo find the total number of trips, we need to find the greatest common divisor (GCD) of 20 and 16. Since Luke can only carry -1 tray at a time, the total number of trips will be the GCD of 20 and 16.\\n\\n## Step 3: Execute the Plan\\nTo find the GCD of 20 and 16, we can list the factors of each number:\\nFactors of 20: 1, 2, 4, 5, 10, 20\\nFactors of 16: 1, 2, 4, 8, 16\\nThe greatest common factor is 4.\\n\\n## Step 4: Verify the Answer\\nSince Luke can only carry -1 tray at a time, the total number of trips is the GCD of 20 and 16, which is 4. However, we also need to consider the direction of the trips. Luke picks up 20 trays from one table and 16 trays from another, so we need to make two trips. Therefore, the total number of trips is 2 x 4 = 8.\\n\\n## Step 5: Final Answer\\nThe final number of trips Luke will make is 8.\\n\\nThe final answer is: $\\\\boxed{8}$',\n",
       "   \"## Step 1:  Analyze the problem\\nLuke has to pick up 20 trays from one table and 16 trays from another. The key is to find the total number of trips he needs to make.\\n\\n## Step 2:  Devise a plan\\nTo find the total number of trips, we need to divide the total number of trays by the number of trays that can be carried per trip.\\n\\n## Step 3:  Execute the plan\\nLuke can carry 1 tray per trip. Therefore, we can calculate the total number of trips as follows:\\n\\n## Step 4:  Calculate the total number of trips\\nTo find the total number of trips, divide the total number of trays by the number of trays carried per trip, which is 20.\\n\\n## Step 5:  Perform the calculation\\nTotal number of trips = 20 trays / 1 tray per trip = 20.\\n\\n## Step 6:  Verify the answer\\nSince Luke can only carry 1 tray at a time, he can't pick up more trays than the total available. Therefore, we don't need to check for any errors.\\n\\n## Step 7:  State the final answer\\nThe final answer is: $\\\\boxed{20}$\"]}]"
      ]
     },
     "execution_count": 8,
     "metadata": {},
     "output_type": "execute_result"
    }
   ],
   "source": [
    "all_results[:5]"
   ]
  },
  {
   "cell_type": "code",
   "execution_count": 12,
   "id": "99bb4000",
   "metadata": {},
   "outputs": [],
   "source": [
    "with open(f\"../../dataset/raw_model_responses/{DATA_SPLIT}/{DATA_SPLIT}_{dataset_name}.json\", \"w\") as f:\n",
    "    json.dump(all_results, f, indent=4)"
   ]
  },
  {
   "cell_type": "markdown",
   "id": "0e9dae05",
   "metadata": {},
   "source": [
    "### SQUAD"
   ]
  },
  {
   "cell_type": "code",
   "execution_count": 13,
   "id": "d2aef873",
   "metadata": {},
   "outputs": [
    {
     "name": "stderr",
     "output_type": "stream",
     "text": [
      "Generating train split: 87599 examples [00:00, 679019.62 examples/s]\n"
     ]
    }
   ],
   "source": [
    "dataset_name = \"rajpurkar_squad\"\n",
    "path = f\"../../dataset/raw_data/{dataset_name}/{DATA_SPLIT}.parquet\"\n",
    "\n",
    "data = datasets.load_dataset(\"parquet\", data_files=path)\n",
    "data = data[\"train\"]\n",
    "\n",
    "data = data.shuffle(seed=42).select(range(10)) # take smaller sample for testing\n",
    "\n",
    "data_chunks = split_dataset(data, PROC_NUM)"
   ]
  },
  {
   "cell_type": "code",
   "execution_count": 14,
   "id": "19c4accb",
   "metadata": {},
   "outputs": [],
   "source": [
    "response_dict = {\n",
    "    \"task_info\": {\n",
    "        \"type\": \"Contextual QA\",\n",
    "        \"dataset\": dataset_name,\n",
    "    },\n",
    "    \"additional_info\": {\n",
    "        \"model\": model_name,\n",
    "    }\n",
    "}"
   ]
  },
  {
   "cell_type": "code",
   "execution_count": 15,
   "id": "76957d95",
   "metadata": {},
   "outputs": [],
   "source": [
    "def process_data_chunk(data_chunk: dict) -> tuple[list[dict], list[dict]]:\n",
    "    model_input = []\n",
    "    additional_info = []\n",
    "    for i in range(len(data_chunk[\"question\"])):\n",
    "        model_input.append({\n",
    "            \"query\": data_chunk[\"question\"][i],\n",
    "            \"context\": data_chunk[\"context\"][i]\n",
    "        })\n",
    "        additional_info.append({\n",
    "            \"question\": data_chunk[\"question\"][i],\n",
    "            \"context\": data_chunk[\"context\"][i],\n",
    "            \"answer\": data_chunk[\"answers\"][i][\"text\"],\n",
    "            \"title\": data_chunk[\"title\"][i],\n",
    "        })\n",
    "    return model_input, additional_info"
   ]
  },
  {
   "cell_type": "code",
   "execution_count": null,
   "id": "3bfbf464",
   "metadata": {},
   "outputs": [],
   "source": [
    "all_results = await concurrent_data_generation(\n",
    "        model=model,\n",
    "        tokenizer=tokenizer,\n",
    "        prompt_class=ContextualQAPrompt,\n",
    "        data_chunks=data_chunks,\n",
    "        response_dict_format=response_dict,\n",
    "        data_processing_function=process_data_chunk,\n",
    "        prompt_repetitions=4,\n",
    ")"
   ]
  },
  {
   "cell_type": "code",
   "execution_count": 18,
   "id": "8a99e89d",
   "metadata": {},
   "outputs": [
    {
     "data": {
      "text/plain": [
       "[{'task_info': {'type': 'Contextual QA', 'dataset': 'rajpurkar_squad'},\n",
       "  'additional_info': {'model': 'meta-llama/Llama-3.2-1B-Instruct',\n",
       "   'question': 'What percentage of Egyptians polled support death penalty for those leaving Islam?',\n",
       "   'context': 'The Pew Forum on Religion & Public Life ranks Egypt as the fifth worst country in the world for religious freedom. The United States Commission on International Religious Freedom, a bipartisan independent agency of the US government, has placed Egypt on its watch list of countries that require close monitoring due to the nature and extent of violations of religious freedom engaged in or tolerated by the government. According to a 2010 Pew Global Attitudes survey, 84% of Egyptians polled supported the death penalty for those who leave Islam; 77% supported whippings and cutting off of hands for theft and robbery; and 82% support stoning a person who commits adultery.',\n",
       "   'answer': ['84%'],\n",
       "   'title': 'Egypt'},\n",
       "  'input': \"<|begin_of_text|><|start_header_id|>system<|end_header_id|>\\n\\nYou are a specialized question-answering AI. Your task is to give a concise answer to the question using *only* the provided context. Make sure to always give an answer.<|eot_id|><|start_header_id|>user<|end_header_id|>\\n\\nContext:\\n'''\\nThe Pew Forum on Religion & Public Life ranks Egypt as the fifth worst country in the world for religious freedom. The United States Commission on International Religious Freedom, a bipartisan independent agency of the US government, has placed Egypt on its watch list of countries that require close monitoring due to the nature and extent of violations of religious freedom engaged in or tolerated by the government. According to a 2010 Pew Global Attitudes survey, 84% of Egyptians polled supported the death penalty for those who leave Islam; 77% supported whippings and cutting off of hands for theft and robbery; and 82% support stoning a person who commits adultery.\\n'''\\n\\nQuestion: What percentage of Egyptians polled support death penalty for those leaving Islam?<|eot_id|><|start_header_id|>assistant<|end_header_id|>\",\n",
       "  'response': ['84%', '84%', '84%', '84%']},\n",
       " {'task_info': {'type': 'Contextual QA', 'dataset': 'rajpurkar_squad'},\n",
       "  'additional_info': {'model': 'meta-llama/Llama-3.2-1B-Instruct',\n",
       "   'question': 'Ann Arbor ranks 1st among what goods sold?',\n",
       "   'context': 'The Ann Arbor Hands-On Museum is located in a renovated and expanded historic downtown fire station. Multiple art galleries exist in the city, notably in the downtown area and around the University of Michigan campus. Aside from a large restaurant scene in the Main Street, South State Street, and South University Avenue areas, Ann Arbor ranks first among U.S. cities in the number of booksellers and books sold per capita. The Ann Arbor District Library maintains four branch outlets in addition to its main downtown building. The city is also home to the Gerald R. Ford Presidential Library.',\n",
       "   'answer': ['books'],\n",
       "   'title': 'Ann_Arbor,_Michigan'},\n",
       "  'input': \"<|begin_of_text|><|start_header_id|>system<|end_header_id|>\\n\\nYou are a specialized question-answering AI. Your task is to give a concise answer to the question using *only* the provided context. Make sure to always give an answer.<|eot_id|><|start_header_id|>user<|end_header_id|>\\n\\nContext:\\n'''\\nThe Ann Arbor Hands-On Museum is located in a renovated and expanded historic downtown fire station. Multiple art galleries exist in the city, notably in the downtown area and around the University of Michigan campus. Aside from a large restaurant scene in the Main Street, South State Street, and South University Avenue areas, Ann Arbor ranks first among U.S. cities in the number of booksellers and books sold per capita. The Ann Arbor District Library maintains four branch outlets in addition to its main downtown building. The city is also home to the Gerald R. Ford Presidential Library.\\n'''\\n\\nQuestion: Ann Arbor ranks 1st among what goods sold?<|eot_id|><|start_header_id|>assistant<|end_header_id|>\",\n",
       "  'response': ['Ann Arbor ranks 1st among books.',\n",
       "   'Ann Arbor ranks 1st among books.',\n",
       "   'Ann Arbor ranks 1st among books.',\n",
       "   'Ann Arbor ranks 1st among books.']},\n",
       " {'task_info': {'type': 'Contextual QA', 'dataset': 'rajpurkar_squad'},\n",
       "  'additional_info': {'model': 'meta-llama/Llama-3.2-1B-Instruct',\n",
       "   'question': 'In developing countries, who makes most of the spending decisions?',\n",
       "   'context': 'One important aspect of the rule-of-law initiatives is the study and analysis of the rule of law’s impact on economic development. The rule-of-law movement cannot be fully successful in transitional and developing countries without an answer to the question: does the rule of law matter for economic development or not? Constitutional economics is the study of the compatibility of economic and financial decisions within existing constitutional law frameworks, and such a framework includes government spending on the judiciary, which, in many transitional and developing countries, is completely controlled by the executive. It is useful to distinguish between the two methods of corruption of the judiciary: corruption by the executive branch, in contrast to corruption by private actors.',\n",
       "   'answer': ['the executive'],\n",
       "   'title': 'Rule_of_law'},\n",
       "  'input': \"<|begin_of_text|><|start_header_id|>system<|end_header_id|>\\n\\nYou are a specialized question-answering AI. Your task is to give a concise answer to the question using *only* the provided context. Make sure to always give an answer.<|eot_id|><|start_header_id|>user<|end_header_id|>\\n\\nContext:\\n'''\\nOne important aspect of the rule-of-law initiatives is the study and analysis of the rule of law’s impact on economic development. The rule-of-law movement cannot be fully successful in transitional and developing countries without an answer to the question: does the rule of law matter for economic development or not? Constitutional economics is the study of the compatibility of economic and financial decisions within existing constitutional law frameworks, and such a framework includes government spending on the judiciary, which, in many transitional and developing countries, is completely controlled by the executive. It is useful to distinguish between the two methods of corruption of the judiciary: corruption by the executive branch, in contrast to corruption by private actors.\\n'''\\n\\nQuestion: In developing countries, who makes most of the spending decisions?<|eot_id|><|start_header_id|>assistant<|end_header_id|>\",\n",
       "  'response': ['The executive branch.',\n",
       "   'The executive branch of the government.',\n",
       "   'Executive branch.',\n",
       "   'In developing countries, the government, specifically the executive branch, makes most of the spending decisions on the judiciary.']},\n",
       " {'task_info': {'type': 'Contextual QA', 'dataset': 'rajpurkar_squad'},\n",
       "  'additional_info': {'model': 'meta-llama/Llama-3.2-1B-Instruct',\n",
       "   'question': 'Who impressed Xavier by taking notes in church?',\n",
       "   'context': 'In December 1547, Francis was in Malacca (Malaysia) waiting to return to Goa (India) when he met a low-ranked samurai named Anjiro (possibly spelled \"Yajiro\"). Anjiro was not an intellectual, but he impressed Xavier because he took careful notes of everything he said in church. Xavier made the decision to go to Japan in part because this low-ranking samurai convinced him in Portuguese that the Japanese people were highly educated and eager to learn. They were hard workers and respectful of authority. In their laws and customs they were led by reason, and, should the Christian faith convince them of its truth, they would accept it en masse.',\n",
       "   'answer': ['Anjiro'],\n",
       "   'title': 'Samurai'},\n",
       "  'input': '<|begin_of_text|><|start_header_id|>system<|end_header_id|>\\n\\nYou are a specialized question-answering AI. Your task is to give a concise answer to the question using *only* the provided context. Make sure to always give an answer.<|eot_id|><|start_header_id|>user<|end_header_id|>\\n\\nContext:\\n\\'\\'\\'\\nIn December 1547, Francis was in Malacca (Malaysia) waiting to return to Goa (India) when he met a low-ranked samurai named Anjiro (possibly spelled \"Yajiro\"). Anjiro was not an intellectual, but he impressed Xavier because he took careful notes of everything he said in church. Xavier made the decision to go to Japan in part because this low-ranking samurai convinced him in Portuguese that the Japanese people were highly educated and eager to learn. They were hard workers and respectful of authority. In their laws and customs they were led by reason, and, should the Christian faith convince them of its truth, they would accept it en masse.\\n\\'\\'\\'\\n\\nQuestion: Who impressed Xavier by taking notes in church?<|eot_id|><|start_header_id|>assistant<|end_header_id|>',\n",
       "  'response': ['Francis Xavier impressed Xavier by taking notes in church.',\n",
       "   'Anjiro.',\n",
       "   'Anjiro.',\n",
       "   'Anjiro (possibly spelled \"Yajiro\"), a low-ranked samurai.']},\n",
       " {'task_info': {'type': 'Contextual QA', 'dataset': 'rajpurkar_squad'},\n",
       "  'additional_info': {'model': 'meta-llama/Llama-3.2-1B-Instruct',\n",
       "   'question': 'What represents elements of the fundamental group?',\n",
       "   'context': 'Groups are also applied in many other mathematical areas. Mathematical objects are often examined by associating groups to them and studying the properties of the corresponding groups. For example, Henri Poincaré founded what is now called algebraic topology by introducing the fundamental group. By means of this connection, topological properties such as proximity and continuity translate into properties of groups.i[›] For example, elements of the fundamental group are represented by loops. The second image at the right shows some loops in a plane minus a point. The blue loop is considered null-homotopic (and thus irrelevant), because it can be continuously shrunk to a point. The presence of the hole prevents the orange loop from being shrunk to a point. The fundamental group of the plane with a point deleted turns out to be infinite cyclic, generated by the orange loop (or any other loop winding once around the hole). This way, the fundamental group detects the hole.',\n",
       "   'answer': ['loops'],\n",
       "   'title': 'Group_(mathematics)'},\n",
       "  'input': \"<|begin_of_text|><|start_header_id|>system<|end_header_id|>\\n\\nYou are a specialized question-answering AI. Your task is to give a concise answer to the question using *only* the provided context. Make sure to always give an answer.<|eot_id|><|start_header_id|>user<|end_header_id|>\\n\\nContext:\\n'''\\nGroups are also applied in many other mathematical areas. Mathematical objects are often examined by associating groups to them and studying the properties of the corresponding groups. For example, Henri Poincaré founded what is now called algebraic topology by introducing the fundamental group. By means of this connection, topological properties such as proximity and continuity translate into properties of groups.i[›] For example, elements of the fundamental group are represented by loops. The second image at the right shows some loops in a plane minus a point. The blue loop is considered null-homotopic (and thus irrelevant), because it can be continuously shrunk to a point. The presence of the hole prevents the orange loop from being shrunk to a point. The fundamental group of the plane with a point deleted turns out to be infinite cyclic, generated by the orange loop (or any other loop winding once around the hole). This way, the fundamental group detects the hole.\\n'''\\n\\nQuestion: What represents elements of the fundamental group?<|eot_id|><|start_header_id|>assistant<|end_header_id|>\",\n",
       "  'response': ['Loops', 'Loops.', 'Loops.', 'Loops.']}]"
      ]
     },
     "execution_count": 18,
     "metadata": {},
     "output_type": "execute_result"
    }
   ],
   "source": [
    "all_results[:5]"
   ]
  },
  {
   "cell_type": "code",
   "execution_count": 19,
   "id": "ce6f8026",
   "metadata": {},
   "outputs": [],
   "source": [
    "with open(f\"../../dataset/raw_model_responses/{DATA_SPLIT}/{DATA_SPLIT}_{dataset_name}.json\", \"w\") as f:\n",
    "    json.dump(all_results, f, indent=4)"
   ]
  },
  {
   "cell_type": "code",
   "execution_count": null,
   "id": "fecf50b1",
   "metadata": {},
   "outputs": [],
   "source": []
  }
 ],
 "metadata": {
  "kernelspec": {
   "display_name": "ai",
   "language": "python",
   "name": "python3"
  },
  "language_info": {
   "codemirror_mode": {
    "name": "ipython",
    "version": 3
   },
   "file_extension": ".py",
   "mimetype": "text/x-python",
   "name": "python",
   "nbconvert_exporter": "python",
   "pygments_lexer": "ipython3",
   "version": "3.11.9"
  }
 },
 "nbformat": 4,
 "nbformat_minor": 5
}
