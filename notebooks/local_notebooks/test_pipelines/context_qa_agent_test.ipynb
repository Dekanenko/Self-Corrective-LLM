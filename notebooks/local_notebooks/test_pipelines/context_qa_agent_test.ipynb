{
 "cells": [
  {
   "cell_type": "code",
   "execution_count": 2,
   "id": "c14da179",
   "metadata": {},
   "outputs": [],
   "source": [
    "import json\n",
    "import random\n",
    "import sys\n",
    "import os\n",
    "\n",
    "# Add the project root directory to the Python path\n",
    "project_root = os.path.abspath(os.path.join(os.getcwd(), '../../..'))\n",
    "if project_root not in sys.path:\n",
    "    sys.path.insert(0, project_root)\n",
    "\n",
    "random.seed(2)\n",
    "\n",
    "from src.agents.context_qa_correction_agent import ContextQACorrectionAgent"
   ]
  },
  {
   "cell_type": "code",
   "execution_count": 3,
   "id": "63109316",
   "metadata": {},
   "outputs": [],
   "source": [
    "with open(f\"../../../dataset/raw_model_responses/train/train_rajpurkar_squad.json\", \"r\") as f:\n",
    "    json_data = json.load(f)"
   ]
  },
  {
   "cell_type": "code",
   "execution_count": 4,
   "id": "c5c60927",
   "metadata": {},
   "outputs": [
    {
     "data": {
      "text/plain": [
       "{'task_info': {'type': 'Contextual QA', 'dataset': 'rajpurkar_squad'},\n",
       " 'additional_info': {'model': 'Meta-Llama-3.1-8B-Instruct',\n",
       "  'question': 'What is in front of the Notre Dame Main Building?',\n",
       "  'context': 'Architecturally, the school has a Catholic character. Atop the Main Building\\'s gold dome is a golden statue of the Virgin Mary. Immediately in front of the Main Building and facing it, is a copper statue of Christ with arms upraised with the legend \"Venite Ad Me Omnes\". Next to the Main Building is the Basilica of the Sacred Heart. Immediately behind the basilica is the Grotto, a Marian place of prayer and reflection. It is a replica of the grotto at Lourdes, France where the Virgin Mary reputedly appeared to Saint Bernadette Soubirous in 1858. At the end of the main drive (and in a direct line that connects through 3 statues and the Gold Dome), is a simple, modern stone statue of Mary.',\n",
       "  'answer': ['a copper statue of Christ'],\n",
       "  'title': 'University_of_Notre_Dame'},\n",
       " 'input': '<|begin_of_text|><|start_header_id|>system<|end_header_id|>\\n\\nYou are a specialized question-answering AI. Your task is to give a concise answer to the question using *only* the provided context. Make sure to always give an answer.<|eot_id|><|start_header_id|>user<|end_header_id|>\\n\\nContext:\\n\\'\\'\\'\\nArchitecturally, the school has a Catholic character. Atop the Main Building\\'s gold dome is a golden statue of the Virgin Mary. Immediately in front of the Main Building and facing it, is a copper statue of Christ with arms upraised with the legend \"Venite Ad Me Omnes\". Next to the Main Building is the Basilica of the Sacred Heart. Immediately behind the basilica is the Grotto, a Marian place of prayer and reflection. It is a replica of the grotto at Lourdes, France where the Virgin Mary reputedly appeared to Saint Bernadette Soubirous in 1858. At the end of the main drive (and in a direct line that connects through 3 statues and the Gold Dome), is a simple, modern stone statue of Mary.\\n\\'\\'\\'\\n\\nQuestion: What is in front of the Notre Dame Main Building?<|eot_id|><|start_header_id|>assistant<|end_header_id|>',\n",
       " 'response': ['A copper statue of Christ with arms upraised and the legend \"Venite Ad Me Omnes\".',\n",
       "  'A copper statue of Christ with arms upraised and the legend \"Venite Ad Me Omnes\".',\n",
       "  'A copper statue of Christ with arms upraised and the legend \"Venite Ad Me Omnes\".',\n",
       "  'A copper statue of Christ with arms upraised, with the legend \"Venite Ad Me Omnes\".',\n",
       "  'A copper statue of Christ with arms upraised, and the legend \"Venite Ad Me Omnes\".',\n",
       "  'A copper statue of Christ with the legend \"Venite Ad Me Omnes\".',\n",
       "  'A copper statue of Christ with arms upraised and the legend \"Venite Ad Me Omnes\".',\n",
       "  'A copper statue of Christ with arms upraised, with the legend \"Venite Ad Me Omnes\".',\n",
       "  'A copper statue of Christ with arms upraised, along with the legend \"Venite Ad Me Omnes\".',\n",
       "  'A copper statue of Christ with arms upraised, with the legend \"Venite Ad Me Omnes\".']}"
      ]
     },
     "execution_count": 4,
     "metadata": {},
     "output_type": "execute_result"
    }
   ],
   "source": [
    "json_data[1]"
   ]
  },
  {
   "cell_type": "code",
   "execution_count": 5,
   "id": "ab102989",
   "metadata": {},
   "outputs": [
    {
     "name": "stdout",
     "output_type": "stream",
     "text": [
      "How many individual colleges are part of Notre Dame?\n",
      "['four']\n"
     ]
    }
   ],
   "source": [
    "# index = 190\n",
    "index = 196\n",
    "responses = json_data[index][\"response\"]\n",
    "\n",
    "question = json_data[index][\"additional_info\"][\"question\"]\n",
    "context = json_data[index][\"additional_info\"][\"context\"]\n",
    "answer = json_data[index][\"additional_info\"][\"answer\"]\n",
    "print(question)\n",
    "print(answer)"
   ]
  },
  {
   "cell_type": "code",
   "execution_count": 6,
   "id": "0a32454b",
   "metadata": {},
   "outputs": [
    {
     "data": {
      "text/plain": [
       "['There are 5 schools that offer graduate programs and 4 colleges at the undergraduate level, as well as the Architecture School. So, in total, there are 9 individual units: 4 colleges and 5 schools.',\n",
       " 'There are 4 colleges and 1 Architecture School part of Notre Dame.',\n",
       " 'There are 4 individual colleges and 1 Architecture School that are part of Notre Dame.',\n",
       " 'There are 5 individual colleges/schools part of Notre Dame, but the undergraduate component is organized into 4 colleges: Arts and Letters, Science, Engineering, Business, and the Architecture School.',\n",
       " 'There are 4 individual colleges and 1 Architecture School, plus 5 schools offering graduate programs, and a law school. However, if we are counting the undergraduate colleges, the answer is 4.',\n",
       " 'There are 5 individual colleges/schools part of Notre Dame: \\n\\n1. College of Arts and Letters\\n2. College of Science\\n3. College of Engineering\\n4. College of Business\\n5. Architecture School',\n",
       " 'There are 5 individual colleges/schools part of Notre Dame: \\n\\n1. Arts and Letters\\n2. Science\\n3. Engineering\\n4. Business\\n5. Architecture School',\n",
       " 'There are 5 individual colleges/schools part of Notre Dame: \\n\\n1. College of Arts and Letters\\n2. College of Science\\n3. College of Engineering\\n4. College of Business\\n5. Architecture School',\n",
       " 'There are 4 colleges and 1 Architecture School part of Notre Dame.',\n",
       " 'There are 4 individual colleges (Arts and Letters, Science, Engineering, Business) and 1 additional school (Architecture School), plus 5 schools that offer graduate programs.']"
      ]
     },
     "execution_count": 6,
     "metadata": {},
     "output_type": "execute_result"
    }
   ],
   "source": [
    "responses"
   ]
  },
  {
   "cell_type": "code",
   "execution_count": 7,
   "id": "2cfabb98",
   "metadata": {},
   "outputs": [],
   "source": [
    "agent = ContextQACorrectionAgent(error_detection_only=False)\n",
    "\n",
    "state = await agent.model.ainvoke({\n",
    "    \"question\": question,\n",
    "    \"context\": context,\n",
    "    \"answer\": answer,\n",
    "    \"responses\": responses,\n",
    "})"
   ]
  },
  {
   "cell_type": "code",
   "execution_count": 8,
   "id": "b70d72f2",
   "metadata": {},
   "outputs": [
    {
     "data": {
      "text/plain": [
       "{'question': 'How many individual colleges are part of Notre Dame?',\n",
       " 'context': \"Besides its prominence in sports, Notre Dame is also a large, four-year, highly residential research University, and is consistently ranked among the top twenty universities in the United States  and as a major global university. The undergraduate component of the university is organized into four colleges (Arts and Letters, Science, Engineering, Business) and the Architecture School. The latter is known for teaching New Classical Architecture and for awarding the globally renowned annual Driehaus Architecture Prize. Notre Dame's graduate program has more than 50 master's, doctoral and professional degree programs offered by the five schools, with the addition of the Notre Dame Law School and a MD-PhD program offered in combination with IU medical School. It maintains a system of libraries, cultural venues, artistic and scientific museums, including Hesburgh Library and the Snite Museum of Art. Over 80% of the university's 8,000 undergraduates live on campus in one of 29 single-sex residence halls, each with its own traditions, legacies, events and intramural sports teams. The university counts approximately 120,000 alumni, considered among the strongest alumni networks among U.S. colleges.\",\n",
       " 'answer': ['four'],\n",
       " 'responses': ['There are 5 schools that offer graduate programs and 4 colleges at the undergraduate level, as well as the Architecture School. So, in total, there are 9 individual units: 4 colleges and 5 schools.',\n",
       "  'There are 4 colleges and 1 Architecture School part of Notre Dame.',\n",
       "  'There are 4 individual colleges and 1 Architecture School that are part of Notre Dame.',\n",
       "  'There are 5 individual colleges/schools part of Notre Dame, but the undergraduate component is organized into 4 colleges: Arts and Letters, Science, Engineering, Business, and the Architecture School.',\n",
       "  'There are 4 individual colleges and 1 Architecture School, plus 5 schools offering graduate programs, and a law school. However, if we are counting the undergraduate colleges, the answer is 4.',\n",
       "  'There are 5 individual colleges/schools part of Notre Dame: \\n\\n1. College of Arts and Letters\\n2. College of Science\\n3. College of Engineering\\n4. College of Business\\n5. Architecture School',\n",
       "  'There are 5 individual colleges/schools part of Notre Dame: \\n\\n1. Arts and Letters\\n2. Science\\n3. Engineering\\n4. Business\\n5. Architecture School',\n",
       "  'There are 5 individual colleges/schools part of Notre Dame: \\n\\n1. College of Arts and Letters\\n2. College of Science\\n3. College of Engineering\\n4. College of Business\\n5. Architecture School',\n",
       "  'There are 4 colleges and 1 Architecture School part of Notre Dame.',\n",
       "  'There are 4 individual colleges (Arts and Letters, Science, Engineering, Business) and 1 additional school (Architecture School), plus 5 schools that offer graduate programs.'],\n",
       " 'errors': [[{'description': 'The question asks about the number of colleges, and the response incorrectly includes schools in its calculation.',\n",
       "    'location': 'There are 5 schools that offer graduate programs and 4 colleges at the undergraduate level, as well as the Architecture School. So, in total, there are 9 individual units: 4 colleges and 5 schools.',\n",
       "    'correction': 'DELETE: \"There are 5 schools that offer graduate programs and 4 colleges at the undergraduate level, as well as the Architecture School. So, in total, there are 9 individual units: 4 colleges and 5 schools.\"\\nADD: \"There are 4 colleges at the undergraduate level.\"'}],\n",
       "  [{'description': 'The question asks about the number of *individual colleges*, but the response includes the Architecture School, which is not a college.',\n",
       "    'location': '4 colleges and 1 Architecture School',\n",
       "    'correction': 'DELETE: \"and 1 Architecture School\"'}],\n",
       "  [{'description': 'The question asks for the number of individual colleges, and the response includes the Architecture School, which is not a college.',\n",
       "    'location': '4 individual colleges and 1 Architecture School',\n",
       "    'correction': 'DELETE: \"and 1 Architecture School\"'}],\n",
       "  [{'description': 'The response states there are 5 colleges/schools, but the context only mentions 4 colleges and the Architecture School as part of the undergraduate component.',\n",
       "    'location': 'There are 5 individual colleges/schools part of Notre Dame',\n",
       "    'correction': 'DELETE: There are 5 individual colleges/schools part of Notre Dame'}],\n",
       "  [{'description': 'The response includes extraneous information about graduate programs and the architecture school, which are not relevant to the question about the number of individual colleges.',\n",
       "    'location': 'and 1 Architecture School, plus 5 schools offering graduate programs, and a law school.',\n",
       "    'correction': 'DELETE: \"and 1 Architecture School, plus 5 schools offering graduate programs, and a law school.\"'}],\n",
       "  [{'description': 'The response states there are 5 colleges/schools, but the context says there are 4 colleges and 1 school (Architecture School) in the undergraduate component.',\n",
       "    'location': 'There are 5 individual colleges/schools',\n",
       "    'correction': 'DELETE: There are 5 individual colleges/schools\\nADD: There are 4 colleges and 1 school'}],\n",
       "  [{'description': 'The response states there are 5 colleges, but the context only mentions 4 colleges and 1 school.',\n",
       "    'location': 'There are 5 individual colleges/schools',\n",
       "    'correction': 'DELETE: \"There are 5 individual colleges/schools\"\\nADD: \"There are 4 individual colleges and 1 school\"'}],\n",
       "  [{'description': 'The response states there are 5 colleges/schools, but the context says there are four colleges and one school (Architecture School) in the undergraduate component.',\n",
       "    'location': 'There are 5 individual colleges/schools',\n",
       "    'correction': 'DELETE: There are 5 individual colleges/schools\\nADD: There are four colleges and one school'}],\n",
       "  [{'description': 'The question asks about the number of individual colleges, not the number of colleges and schools. The response includes the Architecture School, which is not a college.',\n",
       "    'location': '4 colleges and 1 Architecture School',\n",
       "    'correction': 'DELETE: \"and 1 Architecture School\"'}],\n",
       "  [{'description': \"The question asks about the number of individual colleges, and the correct answer is 'four'. The response includes additional information about schools that offer graduate programs, which is irrelevant to the question and not present in the correct answer.\",\n",
       "    'location': 'and 1 additional school (Architecture School), plus 5 schools that offer graduate programs.',\n",
       "    'correction': 'DELETE: \"and 1 additional school (Architecture School), plus 5 schools that offer graduate programs.\"'}]],\n",
       " 'wrong_response_number': 10,\n",
       " 'responses_to_correct': ('There are 5 schools that offer graduate programs and 4 colleges at the undergraduate level, as well as the Architecture School. So, in total, there are 9 individual units: 4 colleges and 5 schools.',\n",
       "  'There are 4 colleges and 1 Architecture School part of Notre Dame.',\n",
       "  'There are 4 individual colleges and 1 Architecture School that are part of Notre Dame.'),\n",
       " 'errors_to_correct': ([{'description': 'The question asks about the number of colleges, and the response incorrectly includes schools in its calculation.',\n",
       "    'location': 'There are 5 schools that offer graduate programs and 4 colleges at the undergraduate level, as well as the Architecture School. So, in total, there are 9 individual units: 4 colleges and 5 schools.',\n",
       "    'correction': 'DELETE: \"There are 5 schools that offer graduate programs and 4 colleges at the undergraduate level, as well as the Architecture School. So, in total, there are 9 individual units: 4 colleges and 5 schools.\"\\nADD: \"There are 4 colleges at the undergraduate level.\"'}],\n",
       "  [{'description': 'The question asks about the number of *individual colleges*, but the response includes the Architecture School, which is not a college.',\n",
       "    'location': '4 colleges and 1 Architecture School',\n",
       "    'correction': 'DELETE: \"and 1 Architecture School\"'}],\n",
       "  [{'description': 'The question asks for the number of individual colleges, and the response includes the Architecture School, which is not a college.',\n",
       "    'location': '4 individual colleges and 1 Architecture School',\n",
       "    'correction': 'DELETE: \"and 1 Architecture School\"'}]),\n",
       " 'corrected_responses': ['There are 5 schools that offer graduate programs and 4 colleges at the undergraduate level, as well as the Architecture School. So, in total, there are 9 individual units: 4 colleges and 5 schools.<DEL_A> There are 4 colleges at the undergraduate level.',\n",
       "  'There are 4 colleges and 1 Architecture School part of Notre Dame.<DEL_S> There are 4 colleges part of Notre Dame.',\n",
       "  'There are 4 individual colleges and 1 Architecture School<DEL_S> There are 4 individual colleges that are part of Notre Dame.'],\n",
       " 'verified_response_mask': [True, True, True]}"
      ]
     },
     "execution_count": 8,
     "metadata": {},
     "output_type": "execute_result"
    }
   ],
   "source": [
    "state"
   ]
  },
  {
   "cell_type": "code",
   "execution_count": null,
   "id": "0148c108",
   "metadata": {},
   "outputs": [],
   "source": []
  }
 ],
 "metadata": {
  "kernelspec": {
   "display_name": "ai",
   "language": "python",
   "name": "python3"
  },
  "language_info": {
   "codemirror_mode": {
    "name": "ipython",
    "version": 3
   },
   "file_extension": ".py",
   "mimetype": "text/x-python",
   "name": "python",
   "nbconvert_exporter": "python",
   "pygments_lexer": "ipython3",
   "version": "3.11.9"
  }
 },
 "nbformat": 4,
 "nbformat_minor": 5
}
