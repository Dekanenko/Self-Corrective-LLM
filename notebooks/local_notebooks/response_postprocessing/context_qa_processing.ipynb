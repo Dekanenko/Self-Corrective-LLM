{
 "cells": [
  {
   "cell_type": "code",
   "execution_count": 1,
   "id": "c14da179",
   "metadata": {},
   "outputs": [],
   "source": [
    "import json\n",
    "import random\n",
    "import sys\n",
    "import os\n",
    "\n",
    "# Add the project root directory to the Python path\n",
    "project_root = os.path.abspath(os.path.join(os.getcwd(), '../../..'))\n",
    "if project_root not in sys.path:\n",
    "    sys.path.insert(0, project_root)\n",
    "\n",
    "from src.agents.context_qa_correction_agent import ContextQACorrectionAgent\n",
    "from src.utils.data_generation import split_dataset, concurrent_data_postprocessing\n",
    "random.seed(2)"
   ]
  },
  {
   "cell_type": "code",
   "execution_count": 2,
   "id": "49485f48",
   "metadata": {},
   "outputs": [],
   "source": [
    "PROC_NUM = 2\n",
    "ERROR_DETECTION_ONLY = False\n",
    "SPLIT = \"train\"\n",
    "NUM_MAJOR_CHUNKS = 10"
   ]
  },
  {
   "cell_type": "code",
   "execution_count": 3,
   "id": "63109316",
   "metadata": {},
   "outputs": [],
   "source": [
    "with open(f\"../../../dataset/raw_model_responses/train/train_rajpurkar_squad.json\", \"r\") as f:\n",
    "    json_data = json.load(f)"
   ]
  },
  {
   "cell_type": "code",
   "execution_count": 4,
   "id": "2c1a6b9e",
   "metadata": {},
   "outputs": [],
   "source": [
    "# json_data = json_data[:500]"
   ]
  },
  {
   "cell_type": "code",
   "execution_count": 5,
   "id": "46dff6f0",
   "metadata": {},
   "outputs": [],
   "source": [
    "data_chunks = split_dataset(json_data, NUM_MAJOR_CHUNKS)"
   ]
  },
  {
   "cell_type": "code",
   "execution_count": 6,
   "id": "2d0a4c85",
   "metadata": {},
   "outputs": [],
   "source": [
    "agent = ContextQACorrectionAgent(error_detection_only=ERROR_DETECTION_ONLY)"
   ]
  },
  {
   "cell_type": "code",
   "execution_count": 7,
   "id": "2059bf43",
   "metadata": {},
   "outputs": [],
   "source": [
    "def extract_args(item: dict) -> list[str]:\n",
    "    return {\n",
    "        \"input\": item[\"input\"],\n",
    "        \"question\": item[\"additional_info\"][\"question\"],\n",
    "        \"answer\": item[\"additional_info\"][\"answer\"],\n",
    "        \"context\": item[\"additional_info\"][\"context\"],\n",
    "        \"responses\": item[\"response\"],\n",
    "    }"
   ]
  },
  {
   "cell_type": "code",
   "execution_count": null,
   "id": "dfa62a8e",
   "metadata": {},
   "outputs": [],
   "source": [
    "final_result = []\n",
    "\n",
    "for index, chunk in enumerate(data_chunks):\n",
    "    print(f\"Processing chunk {index + 1} of {len(data_chunks)}\")\n",
    "    proc_data_split = split_dataset(chunk, PROC_NUM)\n",
    "    data = await concurrent_data_postprocessing(\n",
    "        agent=agent, \n",
    "        data_chunks=proc_data_split, \n",
    "        extract_args=extract_args,\n",
    "        max_concurrency=2,\n",
    "    )\n",
    "    final_result.extend(data)"
   ]
  },
  {
   "cell_type": "code",
   "execution_count": 9,
   "id": "9afdc636",
   "metadata": {},
   "outputs": [
    {
     "data": {
      "text/plain": [
       "87557"
      ]
     },
     "execution_count": 9,
     "metadata": {},
     "output_type": "execute_result"
    }
   ],
   "source": [
    "len(final_result)"
   ]
  },
  {
   "cell_type": "code",
   "execution_count": 10,
   "id": "faaab765",
   "metadata": {},
   "outputs": [],
   "source": [
    "with open(f\"../../../dataset/processed_data/{SPLIT}/rajpurkar_squad_processed.json\", \"w\") as f:\n",
    "    json.dump(final_result, f, indent=4)"
   ]
  },
  {
   "cell_type": "code",
   "execution_count": null,
   "id": "f4ed6e4f",
   "metadata": {},
   "outputs": [],
   "source": []
  }
 ],
 "metadata": {
  "kernelspec": {
   "display_name": "ai",
   "language": "python",
   "name": "python3"
  },
  "language_info": {
   "codemirror_mode": {
    "name": "ipython",
    "version": 3
   },
   "file_extension": ".py",
   "mimetype": "text/x-python",
   "name": "python",
   "nbconvert_exporter": "python",
   "pygments_lexer": "ipython3",
   "version": "3.11.9"
  }
 },
 "nbformat": 4,
 "nbformat_minor": 5
}
