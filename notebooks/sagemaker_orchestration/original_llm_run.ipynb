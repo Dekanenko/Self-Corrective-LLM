{
 "cells": [
  {
   "cell_type": "code",
   "execution_count": 1,
   "id": "dbc07bab-8517-4cfc-beb1-807f1a2092f8",
   "metadata": {
    "execution": {
     "iopub.execute_input": "2025-07-29T16:17:11.242289Z",
     "iopub.status.busy": "2025-07-29T16:17:11.242012Z",
     "iopub.status.idle": "2025-07-29T16:17:14.007709Z",
     "shell.execute_reply": "2025-07-29T16:17:14.006494Z",
     "shell.execute_reply.started": "2025-07-29T16:17:11.242268Z"
    }
   },
   "outputs": [
    {
     "name": "stdout",
     "output_type": "stream",
     "text": [
      "Requirement already satisfied: transformers in /opt/conda/lib/python3.12/site-packages (4.53.1)\n",
      "Requirement already satisfied: filelock in /opt/conda/lib/python3.12/site-packages (from transformers) (3.18.0)\n",
      "Requirement already satisfied: huggingface-hub<1.0,>=0.30.0 in /opt/conda/lib/python3.12/site-packages (from transformers) (0.33.1)\n",
      "Requirement already satisfied: numpy>=1.17 in /opt/conda/lib/python3.12/site-packages (from transformers) (1.26.4)\n",
      "Requirement already satisfied: packaging>=20.0 in /opt/conda/lib/python3.12/site-packages (from transformers) (24.2)\n",
      "Requirement already satisfied: pyyaml>=5.1 in /opt/conda/lib/python3.12/site-packages (from transformers) (6.0.2)\n",
      "Requirement already satisfied: regex!=2019.12.17 in /opt/conda/lib/python3.12/site-packages (from transformers) (2024.11.6)\n",
      "Requirement already satisfied: requests in /opt/conda/lib/python3.12/site-packages (from transformers) (2.32.4)\n",
      "Requirement already satisfied: tokenizers<0.22,>=0.21 in /opt/conda/lib/python3.12/site-packages (from transformers) (0.21.4.dev0)\n",
      "Requirement already satisfied: safetensors>=0.4.3 in /opt/conda/lib/python3.12/site-packages (from transformers) (0.5.3)\n",
      "Requirement already satisfied: tqdm>=4.27 in /opt/conda/lib/python3.12/site-packages (from transformers) (4.67.1)\n",
      "Requirement already satisfied: fsspec>=2023.5.0 in /opt/conda/lib/python3.12/site-packages (from huggingface-hub<1.0,>=0.30.0->transformers) (2024.12.0)\n",
      "Requirement already satisfied: hf-xet<2.0.0,>=1.1.2 in /opt/conda/lib/python3.12/site-packages (from huggingface-hub<1.0,>=0.30.0->transformers) (1.1.5)\n",
      "Requirement already satisfied: typing-extensions>=3.7.4.3 in /opt/conda/lib/python3.12/site-packages (from huggingface-hub<1.0,>=0.30.0->transformers) (4.14.1)\n",
      "Requirement already satisfied: charset_normalizer<4,>=2 in /opt/conda/lib/python3.12/site-packages (from requests->transformers) (3.4.2)\n",
      "Requirement already satisfied: idna<4,>=2.5 in /opt/conda/lib/python3.12/site-packages (from requests->transformers) (3.10)\n",
      "Requirement already satisfied: urllib3<3,>=1.21.1 in /opt/conda/lib/python3.12/site-packages (from requests->transformers) (1.26.19)\n",
      "Requirement already satisfied: certifi>=2017.4.17 in /opt/conda/lib/python3.12/site-packages (from requests->transformers) (2025.6.15)\n"
     ]
    }
   ],
   "source": [
    "!pip install transformers"
   ]
  },
  {
   "cell_type": "code",
   "execution_count": 2,
   "id": "156f9590-48fa-4276-a087-775634155a11",
   "metadata": {
    "execution": {
     "iopub.execute_input": "2025-07-29T16:17:15.990013Z",
     "iopub.status.busy": "2025-07-29T16:17:15.989615Z",
     "iopub.status.idle": "2025-07-29T16:17:19.428854Z",
     "shell.execute_reply": "2025-07-29T16:17:19.427967Z",
     "shell.execute_reply.started": "2025-07-29T16:17:15.989988Z"
    }
   },
   "outputs": [
    {
     "name": "stdout",
     "output_type": "stream",
     "text": [
      "Requirement already satisfied: sagemaker in /opt/conda/lib/python3.12/site-packages (2.245.0)\n",
      "Collecting sagemaker\n",
      "  Using cached sagemaker-2.248.2-py3-none-any.whl.metadata (17 kB)\n",
      "Collecting attrs<26,>=24 (from sagemaker)\n",
      "  Using cached attrs-25.3.0-py3-none-any.whl.metadata (10 kB)\n",
      "Requirement already satisfied: boto3<2.0,>=1.35.36 in /opt/conda/lib/python3.12/site-packages (from sagemaker) (1.37.1)\n",
      "Requirement already satisfied: cloudpickle>=2.2.1 in /opt/conda/lib/python3.12/site-packages (from sagemaker) (3.1.1)\n",
      "Requirement already satisfied: docker in /opt/conda/lib/python3.12/site-packages (from sagemaker) (7.1.0)\n",
      "Requirement already satisfied: fastapi in /opt/conda/lib/python3.12/site-packages (from sagemaker) (0.115.14)\n",
      "Requirement already satisfied: google-pasta in /opt/conda/lib/python3.12/site-packages (from sagemaker) (0.2.0)\n",
      "Requirement already satisfied: graphene<4,>=3 in /opt/conda/lib/python3.12/site-packages (from sagemaker) (3.4.3)\n",
      "Requirement already satisfied: importlib-metadata<7.0,>=1.4.0 in /opt/conda/lib/python3.12/site-packages (from sagemaker) (6.10.0)\n",
      "Requirement already satisfied: jsonschema in /opt/conda/lib/python3.12/site-packages (from sagemaker) (4.23.0)\n",
      "Requirement already satisfied: numpy==1.26.4 in /opt/conda/lib/python3.12/site-packages (from sagemaker) (1.26.4)\n",
      "Requirement already satisfied: omegaconf<3,>=2.2 in /opt/conda/lib/python3.12/site-packages (from sagemaker) (2.3.0)\n",
      "Requirement already satisfied: packaging<25,>=23.0 in /opt/conda/lib/python3.12/site-packages (from sagemaker) (24.2)\n",
      "Requirement already satisfied: pandas in /opt/conda/lib/python3.12/site-packages (from sagemaker) (2.2.3)\n",
      "Requirement already satisfied: pathos in /opt/conda/lib/python3.12/site-packages (from sagemaker) (0.3.4)\n",
      "Requirement already satisfied: platformdirs in /opt/conda/lib/python3.12/site-packages (from sagemaker) (4.3.8)\n",
      "Requirement already satisfied: protobuf<6.32,>=3.12 in /opt/conda/lib/python3.12/site-packages (from sagemaker) (5.28.3)\n",
      "Requirement already satisfied: psutil in /opt/conda/lib/python3.12/site-packages (from sagemaker) (5.9.8)\n",
      "Requirement already satisfied: pyyaml>=6.0.1 in /opt/conda/lib/python3.12/site-packages (from sagemaker) (6.0.2)\n",
      "Requirement already satisfied: requests in /opt/conda/lib/python3.12/site-packages (from sagemaker) (2.32.4)\n",
      "Requirement already satisfied: sagemaker-core<2.0.0,>=1.0.17 in /opt/conda/lib/python3.12/site-packages (from sagemaker) (1.0.32)\n",
      "Requirement already satisfied: schema in /opt/conda/lib/python3.12/site-packages (from sagemaker) (0.7.7)\n",
      "Requirement already satisfied: smdebug-rulesconfig==1.0.1 in /opt/conda/lib/python3.12/site-packages (from sagemaker) (1.0.1)\n",
      "Requirement already satisfied: tblib<4,>=1.7.0 in /opt/conda/lib/python3.12/site-packages (from sagemaker) (3.1.0)\n",
      "Requirement already satisfied: tqdm in /opt/conda/lib/python3.12/site-packages (from sagemaker) (4.67.1)\n",
      "Requirement already satisfied: urllib3<3.0.0,>=1.26.8 in /opt/conda/lib/python3.12/site-packages (from sagemaker) (1.26.19)\n",
      "Requirement already satisfied: uvicorn in /opt/conda/lib/python3.12/site-packages (from sagemaker) (0.35.0)\n",
      "Requirement already satisfied: botocore<1.38.0,>=1.37.1 in /opt/conda/lib/python3.12/site-packages (from boto3<2.0,>=1.35.36->sagemaker) (1.37.1)\n",
      "Requirement already satisfied: jmespath<2.0.0,>=0.7.1 in /opt/conda/lib/python3.12/site-packages (from boto3<2.0,>=1.35.36->sagemaker) (1.0.1)\n",
      "Requirement already satisfied: s3transfer<0.12.0,>=0.11.0 in /opt/conda/lib/python3.12/site-packages (from boto3<2.0,>=1.35.36->sagemaker) (0.11.3)\n",
      "Requirement already satisfied: python-dateutil<3.0.0,>=2.1 in /opt/conda/lib/python3.12/site-packages (from botocore<1.38.0,>=1.37.1->boto3<2.0,>=1.35.36->sagemaker) (2.9.0.post0)\n",
      "Requirement already satisfied: graphql-core<3.3,>=3.1 in /opt/conda/lib/python3.12/site-packages (from graphene<4,>=3->sagemaker) (3.2.6)\n",
      "Requirement already satisfied: graphql-relay<3.3,>=3.1 in /opt/conda/lib/python3.12/site-packages (from graphene<4,>=3->sagemaker) (3.2.0)\n",
      "Requirement already satisfied: typing-extensions<5,>=4.7.1 in /opt/conda/lib/python3.12/site-packages (from graphene<4,>=3->sagemaker) (4.14.1)\n",
      "Requirement already satisfied: zipp>=0.5 in /opt/conda/lib/python3.12/site-packages (from importlib-metadata<7.0,>=1.4.0->sagemaker) (3.23.0)\n",
      "Requirement already satisfied: antlr4-python3-runtime==4.9.* in /opt/conda/lib/python3.12/site-packages (from omegaconf<3,>=2.2->sagemaker) (4.9.3)\n",
      "Requirement already satisfied: six>=1.5 in /opt/conda/lib/python3.12/site-packages (from python-dateutil<3.0.0,>=2.1->botocore<1.38.0,>=1.37.1->boto3<2.0,>=1.35.36->sagemaker) (1.17.0)\n",
      "Requirement already satisfied: pydantic<3.0.0,>=2.0.0 in /opt/conda/lib/python3.12/site-packages (from sagemaker-core<2.0.0,>=1.0.17->sagemaker) (2.11.7)\n",
      "Requirement already satisfied: rich<14.0.0,>=13.0.0 in /opt/conda/lib/python3.12/site-packages (from sagemaker-core<2.0.0,>=1.0.17->sagemaker) (13.9.4)\n",
      "Requirement already satisfied: mock<5.0,>4.0 in /opt/conda/lib/python3.12/site-packages (from sagemaker-core<2.0.0,>=1.0.17->sagemaker) (4.0.3)\n",
      "Requirement already satisfied: jsonschema-specifications>=2023.03.6 in /opt/conda/lib/python3.12/site-packages (from jsonschema->sagemaker) (2025.4.1)\n",
      "Requirement already satisfied: referencing>=0.28.4 in /opt/conda/lib/python3.12/site-packages (from jsonschema->sagemaker) (0.36.2)\n",
      "Requirement already satisfied: rpds-py>=0.7.1 in /opt/conda/lib/python3.12/site-packages (from jsonschema->sagemaker) (0.26.0)\n",
      "Requirement already satisfied: annotated-types>=0.6.0 in /opt/conda/lib/python3.12/site-packages (from pydantic<3.0.0,>=2.0.0->sagemaker-core<2.0.0,>=1.0.17->sagemaker) (0.7.0)\n",
      "Requirement already satisfied: pydantic-core==2.33.2 in /opt/conda/lib/python3.12/site-packages (from pydantic<3.0.0,>=2.0.0->sagemaker-core<2.0.0,>=1.0.17->sagemaker) (2.33.2)\n",
      "Requirement already satisfied: typing-inspection>=0.4.0 in /opt/conda/lib/python3.12/site-packages (from pydantic<3.0.0,>=2.0.0->sagemaker-core<2.0.0,>=1.0.17->sagemaker) (0.4.1)\n",
      "Requirement already satisfied: markdown-it-py>=2.2.0 in /opt/conda/lib/python3.12/site-packages (from rich<14.0.0,>=13.0.0->sagemaker-core<2.0.0,>=1.0.17->sagemaker) (3.0.0)\n",
      "Requirement already satisfied: pygments<3.0.0,>=2.13.0 in /opt/conda/lib/python3.12/site-packages (from rich<14.0.0,>=13.0.0->sagemaker-core<2.0.0,>=1.0.17->sagemaker) (2.19.2)\n",
      "Requirement already satisfied: mdurl~=0.1 in /opt/conda/lib/python3.12/site-packages (from markdown-it-py>=2.2.0->rich<14.0.0,>=13.0.0->sagemaker-core<2.0.0,>=1.0.17->sagemaker) (0.1.2)\n",
      "Requirement already satisfied: charset_normalizer<4,>=2 in /opt/conda/lib/python3.12/site-packages (from requests->sagemaker) (3.4.2)\n",
      "Requirement already satisfied: idna<4,>=2.5 in /opt/conda/lib/python3.12/site-packages (from requests->sagemaker) (3.10)\n",
      "Requirement already satisfied: certifi>=2017.4.17 in /opt/conda/lib/python3.12/site-packages (from requests->sagemaker) (2025.6.15)\n",
      "Requirement already satisfied: starlette<0.47.0,>=0.40.0 in /opt/conda/lib/python3.12/site-packages (from fastapi->sagemaker) (0.46.2)\n",
      "Requirement already satisfied: anyio<5,>=3.6.2 in /opt/conda/lib/python3.12/site-packages (from starlette<0.47.0,>=0.40.0->fastapi->sagemaker) (4.9.0)\n",
      "Requirement already satisfied: sniffio>=1.1 in /opt/conda/lib/python3.12/site-packages (from anyio<5,>=3.6.2->starlette<0.47.0,>=0.40.0->fastapi->sagemaker) (1.3.1)\n",
      "Requirement already satisfied: pytz>=2020.1 in /opt/conda/lib/python3.12/site-packages (from pandas->sagemaker) (2024.2)\n",
      "Requirement already satisfied: tzdata>=2022.7 in /opt/conda/lib/python3.12/site-packages (from pandas->sagemaker) (2025.2)\n",
      "Requirement already satisfied: ppft>=1.7.7 in /opt/conda/lib/python3.12/site-packages (from pathos->sagemaker) (1.7.7)\n",
      "Requirement already satisfied: dill>=0.4.0 in /opt/conda/lib/python3.12/site-packages (from pathos->sagemaker) (0.4.0)\n",
      "Requirement already satisfied: pox>=0.3.6 in /opt/conda/lib/python3.12/site-packages (from pathos->sagemaker) (0.3.6)\n",
      "Requirement already satisfied: multiprocess>=0.70.18 in /opt/conda/lib/python3.12/site-packages (from pathos->sagemaker) (0.70.18)\n",
      "Requirement already satisfied: click>=7.0 in /opt/conda/lib/python3.12/site-packages (from uvicorn->sagemaker) (8.2.1)\n",
      "Requirement already satisfied: h11>=0.8 in /opt/conda/lib/python3.12/site-packages (from uvicorn->sagemaker) (0.16.0)\n",
      "Using cached sagemaker-2.248.2-py3-none-any.whl (1.7 MB)\n",
      "Using cached attrs-25.3.0-py3-none-any.whl (63 kB)\n",
      "Installing collected packages: attrs, sagemaker\n",
      "\u001b[2K  Attempting uninstall: attrs\n",
      "\u001b[2K    Found existing installation: attrs 23.2.0\n",
      "\u001b[2K    Uninstalling attrs-23.2.0:\n",
      "\u001b[2K      Successfully uninstalled attrs-23.2.0\n",
      "\u001b[2K  Attempting uninstall: sagemaker\n",
      "\u001b[2K    Found existing installation: sagemaker 2.245.0\n",
      "\u001b[2K    Uninstalling sagemaker-2.245.0:\n",
      "\u001b[2K      Successfully uninstalled sagemaker-2.245.0━━━━━━━━━━━━━━━━━━\u001b[0m \u001b[32m1/2\u001b[0m [sagemaker]\n",
      "\u001b[2K   \u001b[90m━━━━━━━━━━━━━━━━━━━━━━━━━━━━━━━━━━━━━━━━\u001b[0m \u001b[32m2/2\u001b[0m [sagemaker]/2\u001b[0m [sagemaker]\n",
      "\u001b[1A\u001b[2K\u001b[31mERROR: pip's dependency resolver does not currently take into account all the packages that are installed. This behaviour is the source of the following dependency conflicts.\n",
      "sagemaker-studio-analytics-extension 0.2.0 requires sparkmagic==0.22.0, but you have sparkmagic 0.21.0 which is incompatible.\n",
      "sparkmagic 0.21.0 requires pandas<2.0.0,>=0.17.1, but you have pandas 2.2.3 which is incompatible.\u001b[0m\u001b[31m\n",
      "\u001b[0mSuccessfully installed attrs-25.3.0 sagemaker-2.248.2\n"
     ]
    }
   ],
   "source": [
    "!pip install -U sagemaker"
   ]
  },
  {
   "cell_type": "code",
   "execution_count": 3,
   "id": "ce8a8b55-aa59-4af1-a9ce-1341f1d9c900",
   "metadata": {
    "execution": {
     "iopub.execute_input": "2025-07-29T16:17:24.032914Z",
     "iopub.status.busy": "2025-07-29T16:17:24.032528Z",
     "iopub.status.idle": "2025-07-29T16:17:25.760818Z",
     "shell.execute_reply": "2025-07-29T16:17:25.759972Z",
     "shell.execute_reply.started": "2025-07-29T16:17:24.032886Z"
    }
   },
   "outputs": [
    {
     "name": "stdout",
     "output_type": "stream",
     "text": [
      "Requirement already satisfied: s3fs in /opt/conda/lib/python3.12/site-packages (2024.12.0)\n",
      "Requirement already satisfied: aiobotocore<3.0.0,>=2.5.4 in /opt/conda/lib/python3.12/site-packages (from s3fs) (2.21.1)\n",
      "Requirement already satisfied: fsspec==2024.12.0.* in /opt/conda/lib/python3.12/site-packages (from s3fs) (2024.12.0)\n",
      "Requirement already satisfied: aiohttp!=4.0.0a0,!=4.0.0a1 in /opt/conda/lib/python3.12/site-packages (from s3fs) (3.12.13)\n",
      "Requirement already satisfied: aioitertools<1.0.0,>=0.5.1 in /opt/conda/lib/python3.12/site-packages (from aiobotocore<3.0.0,>=2.5.4->s3fs) (0.12.0)\n",
      "Requirement already satisfied: botocore<1.37.2,>=1.37.0 in /opt/conda/lib/python3.12/site-packages (from aiobotocore<3.0.0,>=2.5.4->s3fs) (1.37.1)\n",
      "Requirement already satisfied: python-dateutil<3.0.0,>=2.1 in /opt/conda/lib/python3.12/site-packages (from aiobotocore<3.0.0,>=2.5.4->s3fs) (2.9.0.post0)\n",
      "Requirement already satisfied: jmespath<2.0.0,>=0.7.1 in /opt/conda/lib/python3.12/site-packages (from aiobotocore<3.0.0,>=2.5.4->s3fs) (1.0.1)\n",
      "Requirement already satisfied: multidict<7.0.0,>=6.0.0 in /opt/conda/lib/python3.12/site-packages (from aiobotocore<3.0.0,>=2.5.4->s3fs) (6.6.3)\n",
      "Requirement already satisfied: wrapt<2.0.0,>=1.10.10 in /opt/conda/lib/python3.12/site-packages (from aiobotocore<3.0.0,>=2.5.4->s3fs) (1.17.2)\n",
      "Requirement already satisfied: aiohappyeyeballs>=2.5.0 in /opt/conda/lib/python3.12/site-packages (from aiohttp!=4.0.0a0,!=4.0.0a1->s3fs) (2.6.1)\n",
      "Requirement already satisfied: aiosignal>=1.1.2 in /opt/conda/lib/python3.12/site-packages (from aiohttp!=4.0.0a0,!=4.0.0a1->s3fs) (1.4.0)\n",
      "Requirement already satisfied: attrs>=17.3.0 in /opt/conda/lib/python3.12/site-packages (from aiohttp!=4.0.0a0,!=4.0.0a1->s3fs) (25.3.0)\n",
      "Requirement already satisfied: frozenlist>=1.1.1 in /opt/conda/lib/python3.12/site-packages (from aiohttp!=4.0.0a0,!=4.0.0a1->s3fs) (1.6.0)\n",
      "Requirement already satisfied: propcache>=0.2.0 in /opt/conda/lib/python3.12/site-packages (from aiohttp!=4.0.0a0,!=4.0.0a1->s3fs) (0.3.1)\n",
      "Requirement already satisfied: yarl<2.0,>=1.17.0 in /opt/conda/lib/python3.12/site-packages (from aiohttp!=4.0.0a0,!=4.0.0a1->s3fs) (1.20.1)\n",
      "Requirement already satisfied: urllib3!=2.2.0,<3,>=1.25.4 in /opt/conda/lib/python3.12/site-packages (from botocore<1.37.2,>=1.37.0->aiobotocore<3.0.0,>=2.5.4->s3fs) (1.26.19)\n",
      "Requirement already satisfied: six>=1.5 in /opt/conda/lib/python3.12/site-packages (from python-dateutil<3.0.0,>=2.1->aiobotocore<3.0.0,>=2.5.4->s3fs) (1.17.0)\n",
      "Requirement already satisfied: idna>=2.0 in /opt/conda/lib/python3.12/site-packages (from yarl<2.0,>=1.17.0->aiohttp!=4.0.0a0,!=4.0.0a1->s3fs) (3.10)\n",
      "Requirement already satisfied: typing-extensions>=4.2 in /opt/conda/lib/python3.12/site-packages (from aiosignal>=1.1.2->aiohttp!=4.0.0a0,!=4.0.0a1->s3fs) (4.14.1)\n"
     ]
    }
   ],
   "source": [
    "!pip install s3fs"
   ]
  },
  {
   "cell_type": "code",
   "execution_count": 10,
   "id": "aaa2e217-7c43-4b8e-a084-ab1a878982e7",
   "metadata": {
    "execution": {
     "iopub.execute_input": "2025-07-29T16:19:56.902492Z",
     "iopub.status.busy": "2025-07-29T16:19:56.901983Z",
     "iopub.status.idle": "2025-07-29T16:19:58.822265Z",
     "shell.execute_reply": "2025-07-29T16:19:58.821190Z",
     "shell.execute_reply.started": "2025-07-29T16:19:56.902468Z"
    }
   },
   "outputs": [
    {
     "name": "stdout",
     "output_type": "stream",
     "text": [
      "Collecting loguru\n",
      "  Downloading loguru-0.7.3-py3-none-any.whl.metadata (22 kB)\n",
      "Downloading loguru-0.7.3-py3-none-any.whl (61 kB)\n",
      "Installing collected packages: loguru\n",
      "Successfully installed loguru-0.7.3\n"
     ]
    }
   ],
   "source": [
    "!pip install loguru"
   ]
  },
  {
   "cell_type": "code",
   "execution_count": null,
   "id": "1fbff4c7-6220-4a64-9ee3-d4b89b270741",
   "metadata": {
    "execution": {
     "iopub.execute_input": "2025-07-29T16:29:56.828837Z",
     "iopub.status.busy": "2025-07-29T16:29:56.828537Z",
     "iopub.status.idle": "2025-07-29T16:29:56.834178Z",
     "shell.execute_reply": "2025-07-29T16:29:56.833200Z",
     "shell.execute_reply.started": "2025-07-29T16:29:56.828815Z"
    }
   },
   "outputs": [],
   "source": [
    "import time\n",
    "import json\n",
    "import os\n",
    "import sys\n",
    "import sagemaker\n",
    "import boto3\n",
    "import s3fs\n",
    "from sagemaker.huggingface import HuggingFaceModel\n",
    "\n",
    "import pandas as pd\n",
    "from datasets import Dataset\n",
    "\n",
    "# Add the project root directory to the Python path\n",
    "project_root = os.path.abspath(os.path.join(os.getcwd(), '../..'))\n",
    "if project_root not in sys.path:\n",
    "    sys.path.insert(0, project_root)\n",
    "    \n",
    "from src.utils.data_generation import split_dataset, concurrent_data_generation\n",
    "from src.prompts.llama_prompts import MathQAPrompt, ContextualQAPrompt"
   ]
  },
  {
   "cell_type": "code",
   "execution_count": 12,
   "id": "821b6448-5701-4ed8-be16-bda2f1512c07",
   "metadata": {
    "execution": {
     "iopub.execute_input": "2025-07-29T16:20:04.229222Z",
     "iopub.status.busy": "2025-07-29T16:20:04.228568Z",
     "iopub.status.idle": "2025-07-29T16:20:04.233023Z",
     "shell.execute_reply": "2025-07-29T16:20:04.232170Z",
     "shell.execute_reply.started": "2025-07-29T16:20:04.229192Z"
    }
   },
   "outputs": [],
   "source": [
    "PROC_NUM = 1 # number of processes to use for data generation\n",
    "DATA_SPLIT = \"train\" # \"train\" or \"test\"\n",
    "MODEL_NAME = \"meta-llama/Llama-3.2-1B-Instruct\""
   ]
  },
  {
   "cell_type": "markdown",
   "id": "24834457-0f76-4231-a034-425c7c776c9d",
   "metadata": {},
   "source": [
    "### Get execution role"
   ]
  },
  {
   "cell_type": "code",
   "execution_count": 13,
   "id": "659a7340-58ff-400a-8e54-58ce5503f0ed",
   "metadata": {
    "execution": {
     "iopub.execute_input": "2025-07-29T16:20:05.937700Z",
     "iopub.status.busy": "2025-07-29T16:20:05.937350Z",
     "iopub.status.idle": "2025-07-29T16:20:05.942241Z",
     "shell.execute_reply": "2025-07-29T16:20:05.940836Z",
     "shell.execute_reply.started": "2025-07-29T16:20:05.937676Z"
    }
   },
   "outputs": [],
   "source": [
    "try:\n",
    "\t# role = sagemaker.get_execution_role()\n",
    "    role = \"arn:aws:iam::551529993308:role/service-role/AmazonSageMaker-ExecutionRole-20250711T075198\"\n",
    "except ValueError:\n",
    "\tiam = boto3.client('iam')\n",
    "\trole = iam.get_role(RoleName='sagemaker_execution_role')['Role']['Arn']\n"
   ]
  },
  {
   "cell_type": "markdown",
   "id": "5f074286-afd5-4a57-abcd-6e959253e3ac",
   "metadata": {},
   "source": [
    "### Model setup"
   ]
  },
  {
   "cell_type": "code",
   "execution_count": 14,
   "id": "9bcf786a-0303-40d1-b59c-49d0028905bd",
   "metadata": {
    "execution": {
     "iopub.execute_input": "2025-07-29T16:20:12.281786Z",
     "iopub.status.busy": "2025-07-29T16:20:12.281188Z",
     "iopub.status.idle": "2025-07-29T16:20:12.443408Z",
     "shell.execute_reply": "2025-07-29T16:20:12.442679Z",
     "shell.execute_reply.started": "2025-07-29T16:20:12.281755Z"
    }
   },
   "outputs": [],
   "source": [
    "# env variables for model creation\n",
    "env = {\n",
    "    \"LOGLEVEL\": \"INFO\"\n",
    "}\n",
    "\n",
    "# create Hugging Face Model Class\n",
    "huggingface_model = HuggingFaceModel(\n",
    "    model_data=\"s3://self-corrective-llm-data/initial_model/model.tar.gz\",\n",
    "    role=role,\n",
    "    env=env,\n",
    "    transformers_version=\"4.49\",\n",
    "    pytorch_version=\"2.6\",\n",
    "    py_version='py312',\n",
    ")\n"
   ]
  },
  {
   "cell_type": "code",
   "execution_count": 15,
   "id": "bc234405-db94-44fe-8d89-e7985cfafc6b",
   "metadata": {
    "execution": {
     "iopub.execute_input": "2025-07-29T16:20:15.088950Z",
     "iopub.status.busy": "2025-07-29T16:20:15.088599Z",
     "iopub.status.idle": "2025-07-29T16:27:17.841153Z",
     "shell.execute_reply": "2025-07-29T16:27:17.840081Z",
     "shell.execute_reply.started": "2025-07-29T16:20:15.088928Z"
    }
   },
   "outputs": [
    {
     "name": "stdout",
     "output_type": "stream",
     "text": [
      "-------------!"
     ]
    }
   ],
   "source": [
    "# deploy model to SageMaker Inference\n",
    "model = huggingface_model.deploy(\n",
    "\tinitial_instance_count=1,\n",
    "\t# instance_type=\"ml.g4dn.xlarge\",\n",
    "    instance_type=\"ml.g5.2xlarge\",\n",
    "    # instance_type=\"ml.g6.4xlarge\",\n",
    "\tcontainer_startup_health_check_timeout=300,\n",
    "  )"
   ]
  },
  {
   "cell_type": "code",
   "execution_count": null,
   "id": "f2a1f1ea-0251-449f-bf4f-98ce62e8b85d",
   "metadata": {},
   "outputs": [],
   "source": []
  },
  {
   "cell_type": "markdown",
   "id": "c9ab8f4c-722a-4fc7-a79e-3ba7d31a7b5f",
   "metadata": {},
   "source": [
    "### SQUAD"
   ]
  },
  {
   "cell_type": "code",
   "execution_count": 16,
   "id": "a12f99e5-486e-4c76-baee-84fb4bf3faeb",
   "metadata": {
    "execution": {
     "iopub.execute_input": "2025-07-29T16:29:10.948774Z",
     "iopub.status.busy": "2025-07-29T16:29:10.948107Z",
     "iopub.status.idle": "2025-07-29T16:29:12.504466Z",
     "shell.execute_reply": "2025-07-29T16:29:12.503688Z",
     "shell.execute_reply.started": "2025-07-29T16:29:10.948748Z"
    }
   },
   "outputs": [
    {
     "name": "stdout",
     "output_type": "stream",
     "text": [
      "Loading Parquet file from: s3://self-corrective-llm-data/dataset/raw_data/rajpurkar_squad/train.parquet\n",
      "File loaded successfully into pandas DataFrame.\n"
     ]
    }
   ],
   "source": [
    "dataset_name = \"rajpurkar_squad\"\n",
    "s3 = s3fs.S3FileSystem()\n",
    "path = f\"s3://self-corrective-llm-data/dataset/raw_data/{dataset_name}/{DATA_SPLIT}.parquet\"\n",
    "\n",
    "try:\n",
    "    print(f\"Loading Parquet file from: {path}\")\n",
    "    with s3.open(path, 'rb') as f:\n",
    "        df = pd.read_parquet(f)\n",
    "    print(\"File loaded successfully into pandas DataFrame.\")\n",
    "except Exception as e:\n",
    "    print(f\"Failed to read Parquet file. Error: {e}\")\n",
    "\n",
    "data = Dataset.from_pandas(df)\n",
    "data = data.shuffle(seed=42).select(range(100))\n",
    "data_chunks = split_dataset(data, PROC_NUM)"
   ]
  },
  {
   "cell_type": "code",
   "execution_count": 17,
   "id": "2d775644-0971-4e2f-86c5-0dd2f0e22ab0",
   "metadata": {
    "execution": {
     "iopub.execute_input": "2025-07-29T16:29:12.809835Z",
     "iopub.status.busy": "2025-07-29T16:29:12.808920Z",
     "iopub.status.idle": "2025-07-29T16:29:12.813812Z",
     "shell.execute_reply": "2025-07-29T16:29:12.813033Z",
     "shell.execute_reply.started": "2025-07-29T16:29:12.809795Z"
    }
   },
   "outputs": [],
   "source": [
    "response_dict = {\n",
    "    \"task_info\": {\n",
    "        \"type\": \"Contextual QA\",\n",
    "        \"dataset\": dataset_name,\n",
    "    },\n",
    "    \"additional_info\": {\n",
    "        \"model\": MODEL_NAME,\n",
    "    }\n",
    "}"
   ]
  },
  {
   "cell_type": "code",
   "execution_count": 18,
   "id": "6cb735c2-138c-4d76-9c38-0b9abe7e06f0",
   "metadata": {
    "execution": {
     "iopub.execute_input": "2025-07-29T16:29:14.042524Z",
     "iopub.status.busy": "2025-07-29T16:29:14.042228Z",
     "iopub.status.idle": "2025-07-29T16:29:14.049828Z",
     "shell.execute_reply": "2025-07-29T16:29:14.048658Z",
     "shell.execute_reply.started": "2025-07-29T16:29:14.042503Z"
    }
   },
   "outputs": [],
   "source": [
    "def process_data_chunk(data_chunk: dict) -> tuple[list[dict], list[dict]]:\n",
    "    model_input = []\n",
    "    additional_info = []\n",
    "    for i in range(len(data_chunk[\"question\"])):\n",
    "        model_input.append({\n",
    "            \"query\": data_chunk[\"question\"][i],\n",
    "            \"context\": data_chunk[\"context\"][i]\n",
    "        })\n",
    "        additional_info.append({\n",
    "            \"question\": data_chunk[\"question\"][i],\n",
    "            \"context\": data_chunk[\"context\"][i],\n",
    "            \"answer\": data_chunk[\"answers\"][i][\"text\"],\n",
    "            \"title\": data_chunk[\"title\"][i],\n",
    "        })\n",
    "    return model_input, additional_info"
   ]
  },
  {
   "cell_type": "code",
   "execution_count": null,
   "id": "fce8cc0c-6924-470b-af4e-3331df244d2c",
   "metadata": {
    "execution": {
     "iopub.execute_input": "2025-07-29T16:30:03.292928Z",
     "iopub.status.busy": "2025-07-29T16:30:03.292144Z",
     "iopub.status.idle": "2025-07-29T16:30:53.726032Z",
     "shell.execute_reply": "2025-07-29T16:30:53.725131Z",
     "shell.execute_reply.started": "2025-07-29T16:30:03.292899Z"
    }
   },
   "outputs": [
    {
     "name": "stdout",
     "output_type": "stream",
     "text": [
      "Time taken: 50.428736209869385\n"
     ]
    }
   ],
   "source": [
    "start_time = time.time()\n",
    "all_results = await concurrent_data_generation(\n",
    "    model=model,\n",
    "    prompt_class=ContextualQAPrompt,\n",
    "    data_chunks=data_chunks,\n",
    "    response_dict_format=response_dict,\n",
    "    data_processing_function=process_data_chunk,\n",
    "    prompt_repetitions=10,\n",
    ")\n",
    "end_time = time.time()\n",
    "print(f\"Time taken: {end_time - start_time}\")"
   ]
  },
  {
   "cell_type": "code",
   "execution_count": 23,
   "id": "66475b61-9eb6-4adc-9a5d-196fd7da0589",
   "metadata": {
    "execution": {
     "iopub.execute_input": "2025-07-29T16:30:56.499279Z",
     "iopub.status.busy": "2025-07-29T16:30:56.498992Z",
     "iopub.status.idle": "2025-07-29T16:30:56.504925Z",
     "shell.execute_reply": "2025-07-29T16:30:56.504273Z",
     "shell.execute_reply.started": "2025-07-29T16:30:56.499257Z"
    }
   },
   "outputs": [
    {
     "data": {
      "text/plain": [
       "[{'task_info': {'type': 'Contextual QA', 'dataset': 'rajpurkar_squad'},\n",
       "  'additional_info': {'model': 'meta-llama/Llama-3.2-1B-Instruct',\n",
       "   'question': 'What percentage of Egyptians polled support death penalty for those leaving Islam?',\n",
       "   'context': 'The Pew Forum on Religion & Public Life ranks Egypt as the fifth worst country in the world for religious freedom. The United States Commission on International Religious Freedom, a bipartisan independent agency of the US government, has placed Egypt on its watch list of countries that require close monitoring due to the nature and extent of violations of religious freedom engaged in or tolerated by the government. According to a 2010 Pew Global Attitudes survey, 84% of Egyptians polled supported the death penalty for those who leave Islam; 77% supported whippings and cutting off of hands for theft and robbery; and 82% support stoning a person who commits adultery.',\n",
       "   'answer': ['84%'],\n",
       "   'title': 'Egypt'},\n",
       "  'input': \"<|begin_of_text|><|start_header_id|>system<|end_header_id|>\\n\\nYou are a specialized question-answering AI. Your task is to give a concise answer to the question using *only* the provided context. Make sure to always give an answer.<|eot_id|><|start_header_id|>user<|end_header_id|>\\n\\nContext:\\n'''\\nThe Pew Forum on Religion & Public Life ranks Egypt as the fifth worst country in the world for religious freedom. The United States Commission on International Religious Freedom, a bipartisan independent agency of the US government, has placed Egypt on its watch list of countries that require close monitoring due to the nature and extent of violations of religious freedom engaged in or tolerated by the government. According to a 2010 Pew Global Attitudes survey, 84% of Egyptians polled supported the death penalty for those who leave Islam; 77% supported whippings and cutting off of hands for theft and robbery; and 82% support stoning a person who commits adultery.\\n'''\\n\\nQuestion: What percentage of Egyptians polled support death penalty for those leaving Islam?<|eot_id|><|start_header_id|>assistant<|end_header_id|>\",\n",
       "  'response': ['84%',\n",
       "   'According to the Pew Global Attitudes survey, 84% of Egyptians polled supported the death penalty for those leaving Islam.',\n",
       "   '84%',\n",
       "   '84%',\n",
       "   '84%',\n",
       "   'According to the Pew survey, 84% of Egyptians polled supported the death penalty for those leaving Islam.',\n",
       "   '84%',\n",
       "   '84%',\n",
       "   '84%',\n",
       "   '84%']},\n",
       " {'task_info': {'type': 'Contextual QA', 'dataset': 'rajpurkar_squad'},\n",
       "  'additional_info': {'model': 'meta-llama/Llama-3.2-1B-Instruct',\n",
       "   'question': 'Ann Arbor ranks 1st among what goods sold?',\n",
       "   'context': 'The Ann Arbor Hands-On Museum is located in a renovated and expanded historic downtown fire station. Multiple art galleries exist in the city, notably in the downtown area and around the University of Michigan campus. Aside from a large restaurant scene in the Main Street, South State Street, and South University Avenue areas, Ann Arbor ranks first among U.S. cities in the number of booksellers and books sold per capita. The Ann Arbor District Library maintains four branch outlets in addition to its main downtown building. The city is also home to the Gerald R. Ford Presidential Library.',\n",
       "   'answer': ['books'],\n",
       "   'title': 'Ann_Arbor,_Michigan'},\n",
       "  'input': \"<|begin_of_text|><|start_header_id|>system<|end_header_id|>\\n\\nYou are a specialized question-answering AI. Your task is to give a concise answer to the question using *only* the provided context. Make sure to always give an answer.<|eot_id|><|start_header_id|>user<|end_header_id|>\\n\\nContext:\\n'''\\nThe Ann Arbor Hands-On Museum is located in a renovated and expanded historic downtown fire station. Multiple art galleries exist in the city, notably in the downtown area and around the University of Michigan campus. Aside from a large restaurant scene in the Main Street, South State Street, and South University Avenue areas, Ann Arbor ranks first among U.S. cities in the number of booksellers and books sold per capita. The Ann Arbor District Library maintains four branch outlets in addition to its main downtown building. The city is also home to the Gerald R. Ford Presidential Library.\\n'''\\n\\nQuestion: Ann Arbor ranks 1st among what goods sold?<|eot_id|><|start_header_id|>assistant<|end_header_id|>\",\n",
       "  'response': ['Books.',\n",
       "   'Books.',\n",
       "   'Ann Arbor ranks 1st among books.',\n",
       "   'Ann Arbor ranks 1st among books.',\n",
       "   'Ann Arbor ranks first among books.',\n",
       "   'Books',\n",
       "   'Ann Arbor ranks 1st among books.',\n",
       "   'Books',\n",
       "   'Books',\n",
       "   'Books']}]"
      ]
     },
     "execution_count": 23,
     "metadata": {},
     "output_type": "execute_result"
    }
   ],
   "source": [
    "all_results[:2]"
   ]
  },
  {
   "cell_type": "code",
   "execution_count": 15,
   "id": "a315d449-e524-437a-a1c3-e1c9cbf5b2e5",
   "metadata": {
    "execution": {
     "iopub.execute_input": "2025-07-29T04:59:02.298743Z",
     "iopub.status.busy": "2025-07-29T04:59:02.298368Z",
     "iopub.status.idle": "2025-07-29T04:59:02.455943Z",
     "shell.execute_reply": "2025-07-29T04:59:02.455140Z",
     "shell.execute_reply.started": "2025-07-29T04:59:02.298714Z"
    }
   },
   "outputs": [
    {
     "name": "stdout",
     "output_type": "stream",
     "text": [
      "Saving file to: s3://self-corrective-llm-data/dataset/raw_model_responses/train/train_rajpurkar_squad.json\n",
      "File saved successfully to S3!\n"
     ]
    }
   ],
   "source": [
    "output_path = f\"s3://self-corrective-llm-data/dataset/raw_model_responses/{DATA_SPLIT}/{DATA_SPLIT}_{dataset_name}.json\"\n",
    "json_string = json.dumps(all_results, indent=4)\n",
    "s3 = s3fs.S3FileSystem()\n",
    "\n",
    "print(f\"Saving file to: {output_path}\")\n",
    "with s3.open(output_path, 'w') as f:\n",
    "    f.write(json_string)\n",
    "\n",
    "print(\"File saved successfully to S3!\")"
   ]
  },
  {
   "cell_type": "markdown",
   "id": "06576a7a-495e-4295-b530-0c161cb75221",
   "metadata": {},
   "source": [
    "### UMWP"
   ]
  },
  {
   "cell_type": "code",
   "execution_count": 16,
   "id": "e81215f4-1016-47a6-b89f-ba7f09ee08f3",
   "metadata": {
    "execution": {
     "iopub.execute_input": "2025-07-29T04:59:02.457942Z",
     "iopub.status.busy": "2025-07-29T04:59:02.457495Z",
     "iopub.status.idle": "2025-07-29T04:59:02.658993Z",
     "shell.execute_reply": "2025-07-29T04:59:02.658276Z",
     "shell.execute_reply.started": "2025-07-29T04:59:02.457919Z"
    }
   },
   "outputs": [
    {
     "name": "stdout",
     "output_type": "stream",
     "text": [
      "Failed to read as JSONL, trying as regular JSON. Error: Expected object or value\n"
     ]
    }
   ],
   "source": [
    "dataset_name = \"UMWP\"\n",
    "s3 = s3fs.S3FileSystem()\n",
    "path = f\"s3://self-corrective-llm-data/dataset/raw_data/{dataset_name}/{DATA_SPLIT}.json\"\n",
    "\n",
    "try:\n",
    "    with s3.open(path, 'r') as f:\n",
    "        df = pd.read_json(f, lines=True)\n",
    "except Exception as e:\n",
    "    print(f\"Failed to read as JSONL, trying as regular JSON. Error: {e}\")\n",
    "    with s3.open(path, 'r') as f:\n",
    "        df = pd.read_json(f)\n",
    "\n",
    "\n",
    "data = Dataset.from_pandas(df)\n",
    "data = data.shuffle(seed=42).select(range(100)) # take smaller sample for testing\n",
    "data_chunks = split_dataset(data, PROC_NUM)"
   ]
  },
  {
   "cell_type": "code",
   "execution_count": 17,
   "id": "816b7bdd-4389-45c7-b763-f2bcac8b6e37",
   "metadata": {
    "execution": {
     "iopub.execute_input": "2025-07-29T04:59:02.660141Z",
     "iopub.status.busy": "2025-07-29T04:59:02.659910Z",
     "iopub.status.idle": "2025-07-29T04:59:02.664706Z",
     "shell.execute_reply": "2025-07-29T04:59:02.663533Z",
     "shell.execute_reply.started": "2025-07-29T04:59:02.660122Z"
    }
   },
   "outputs": [],
   "source": [
    "response_dict = {\n",
    "    \"task_info\": {\n",
    "        \"type\": \"QA\",\n",
    "        \"dataset\": dataset_name,\n",
    "    },\n",
    "    \"additional_info\": {\n",
    "        \"model\": MODEL_NAME,\n",
    "        \"domain\": \"Math\"\n",
    "    }\n",
    "}"
   ]
  },
  {
   "cell_type": "code",
   "execution_count": 18,
   "id": "4e7b2715-589e-4bf3-9bf1-81622d497696",
   "metadata": {
    "execution": {
     "iopub.execute_input": "2025-07-29T04:59:02.666468Z",
     "iopub.status.busy": "2025-07-29T04:59:02.665723Z",
     "iopub.status.idle": "2025-07-29T04:59:02.671147Z",
     "shell.execute_reply": "2025-07-29T04:59:02.670494Z",
     "shell.execute_reply.started": "2025-07-29T04:59:02.666360Z"
    }
   },
   "outputs": [],
   "source": [
    "def process_data_chunk(data_chunk: dict) -> tuple[list[dict], list[dict]]:\n",
    "    model_input = []\n",
    "    additional_info = []\n",
    "    for i in range(len(data_chunk[\"question\"])):\n",
    "        model_input.append({\n",
    "            \"query\": data_chunk[\"question\"][i]\n",
    "        })\n",
    "        additional_info.append({\n",
    "            \"question\": data_chunk[\"question\"][i],\n",
    "            \"answer\": data_chunk[\"answer\"][i],\n",
    "            \"answerable\": data_chunk[\"answerable\"][i],\n",
    "            \"source\": data_chunk[\"source\"][i]\n",
    "        })\n",
    "    return model_input, additional_info"
   ]
  },
  {
   "cell_type": "code",
   "execution_count": null,
   "id": "6e8138db-bdf2-4b43-9b8c-d24b625eb0bf",
   "metadata": {
    "execution": {
     "iopub.execute_input": "2025-07-29T04:59:02.673416Z",
     "iopub.status.busy": "2025-07-29T04:59:02.672446Z",
     "iopub.status.idle": "2025-07-29T05:09:44.696593Z",
     "shell.execute_reply": "2025-07-29T05:09:44.695991Z",
     "shell.execute_reply.started": "2025-07-29T04:59:02.673387Z"
    }
   },
   "outputs": [
    {
     "name": "stdout",
     "output_type": "stream",
     "text": [
      "Time taken: 642.0189321041107\n"
     ]
    }
   ],
   "source": [
    "start_time = time.time()\n",
    "all_results = await concurrent_data_generation(\n",
    "    model=model,\n",
    "    prompt_class=MathQAPrompt,\n",
    "    data_chunks=data_chunks,\n",
    "    response_dict_format=response_dict,\n",
    "    data_processing_function=process_data_chunk,\n",
    "    prompt_repetitions=10,\n",
    ")\n",
    "end_time = time.time()\n",
    "print(f\"Time taken: {end_time - start_time}\")"
   ]
  },
  {
   "cell_type": "code",
   "execution_count": 20,
   "id": "70c83e3c-e636-4185-af08-5122a476afe5",
   "metadata": {
    "execution": {
     "iopub.execute_input": "2025-07-29T05:09:44.697503Z",
     "iopub.status.busy": "2025-07-29T05:09:44.697297Z",
     "iopub.status.idle": "2025-07-29T05:09:44.704190Z",
     "shell.execute_reply": "2025-07-29T05:09:44.703421Z",
     "shell.execute_reply.started": "2025-07-29T05:09:44.697486Z"
    }
   },
   "outputs": [
    {
     "data": {
      "text/plain": [
       "[{'task_info': {'type': 'QA', 'dataset': 'UMWP'},\n",
       "  'additional_info': {'model': 'meta-llama/Llama-3.2-1B-Instruct',\n",
       "   'domain': 'Math',\n",
       "   'question': 'Because of the decision Sofia asked the students to suggest specific types of food. If 479 students suggested adding mashed potatoes while 489 suggested adding bacon to the menu.How many more students suggested bacon than those that suggested mashed potatoes?',\n",
       "   'answer': [10.0],\n",
       "   'answerable': True,\n",
       "   'source': 'SVAMP'},\n",
       "  'input': '<|begin_of_text|><|start_header_id|>system<|end_header_id|>\\n\\nYou are a meticulous AI mathematician. Your task is to solve the following math problem.\\nThink step by step. Show all your reasoning and calculations. After you have solved the problem, clearly state the final numerical answer at the end of your reasoning.\\nIf the question is unanswerable (e.g., it is illogical or missing information), you must clearly state that it cannot be answered and briefly explain why. Do not attempt to solve it.<|eot_id|><|start_header_id|>user<|end_header_id|>\\n\\nBecause of the decision Sofia asked the students to suggest specific types of food. If 479 students suggested adding mashed potatoes while 489 suggested adding bacon to the menu.How many more students suggested bacon than those that suggested mashed potatoes?<|eot_id|><|start_header_id|>assistant<|end_header_id|>',\n",
       "  'response': ['## Step 1: Identify the number of students who suggested mashed potatoes and bacon\\nThe number of students who suggested mashed potatoes is 479, and the number of students who suggested bacon is 489.\\n\\n## Step 2: Calculate the difference between the number of students who suggested bacon and mashed potatoes\\nTo find the difference, we need to subtract the number of students who suggested mashed potatoes from the number who suggested bacon.\\n\\n## Step 3: Perform the subtraction\\n479 - 489 = -10\\n\\n## Step 4: Interpret the result\\nSince the result of the subtraction is negative, it means that there were more students who suggested mashed potatoes than those who suggested bacon.',\n",
       "   '## Step 1: Determine the difference between the number of students who suggested mashed potatoes and those who suggested bacon.\\nTo find the difference, subtract the number of students who suggested mashed potatoes from the number who suggested bacon. difference = 489 - 479.\\n\\n## Step 2: Perform the subtraction to find the difference.\\nPerform the subtraction: 489 - 479 = 10.\\n\\n## Step 3: State the final answer.\\nThe number of students who suggested bacon is 10 more than the number who suggested mashed potatoes.\\n\\nThe final answer is: $\\\\boxed{10}$',\n",
       "   '## Step 1: Calculate the difference between the number of students who suggested bacon and those who suggested mashed potatoes.\\nTo find the difference, subtract the number of students who suggested mashed potatoes from the number who suggested bacon.\\n\\n## Step 2: Subtract 489 from 479.\\n479 - 489 = -10\\n\\n## Step 3: Since the difference is negative, it indicates that more students suggested mashed potatoes than bacon.\\nThis is because the number of students who suggested bacon is greater than the number who suggested mashed potatoes.\\n\\n## Step 4: State the final answer.\\nThe difference in the number of students who suggested bacon and mashed potatoes is 10.\\n\\nThe final answer is: $\\\\boxed{10}$',\n",
       "   '## Step 1: Identify the total number of students who suggested mashed potatoes.\\n479 students suggested adding mashed potatoes.\\n\\n## Step 2: Identify the total number of students who suggested bacon.\\n489 students suggested adding bacon to the menu.\\n\\n## Step 3: Calculate the difference between the number of students who suggested bacon and those who suggested mashed potatoes.\\nTo find the difference, we need to subtract the number of students who suggested mashed potatoes from the number who suggested bacon.\\n\\n## Step 4: Subtract the number of students who suggested mashed potatoes from the number who suggested bacon.\\nDifference = number who suggested bacon - number who suggested mashed potatoes\\n= 489 - 479\\n= 10\\n\\nThe final answer is: $\\\\boxed{10}$',\n",
       "   '## Step 1: Calculate the difference between the number of students who suggested bacon and those who suggested mashed potatoes.\\nTo find the difference, we need to subtract the number of students who suggested mashed potatoes from the number of students who suggested bacon.\\n\\n## Step 2: Perform the subtraction.\\nNumber of students who suggested bacon = 489\\nNumber of students who suggested mashed potatoes = 479\\nDifference = 489 - 479 = 10\\n\\nThe final answer is: $\\\\boxed{10}$',\n",
       "   '## Step 1: Determine the number of students who suggested mashed potatoes\\nThere were 479 students who suggested adding mashed potatoes to the menu.\\n\\n## Step 2: Determine the number of students who suggested bacon\\nThere were 489 students who suggested adding bacon to the menu.\\n\\n## Step 3: Calculate the difference in the number of students who suggested bacon and mashed potatoes\\nTo find out how many more students suggested bacon than mashed potatoes, we subtract the number of students who suggested mashed potatoes from the number who suggested bacon. This is calculated as 489 - 479.\\n\\n## Step 4: Perform the subtraction\\n479 - 479 = 0.\\n\\n## Step 5: Interpret the result\\nSince the subtraction resulted in 0, it means that the number of students who suggested bacon is equal to the number who suggested mashed potatoes. This is not a meaningful answer because it implies that there is no difference between the two options.',\n",
       "   '## Step 1: Identify the number of students who suggested mashed potatoes\\nThe number of students who suggested mashed potatoes is given as 479.\\n\\n## Step 2: Identify the number of students who suggested bacon\\nThe number of students who suggested bacon is given as 489.\\n\\n## Step 3: Calculate the difference between the number of students who suggested bacon and those who suggested mashed potatoes\\nTo find the difference, we need to subtract the number of students who suggested mashed potatoes from the number who suggested bacon. difference = 489 - 479.\\n\\n## Step 4: Perform the subtraction\\nPerforming the subtraction, we get: difference = 10.\\n\\nThe final answer is: $\\\\boxed{10}$',\n",
       "   '## Step 1: Identify the number of students who suggested mashed potatoes and the number of students who suggested bacon.\\nThe number of students who suggested mashed potatoes is 479, and the number of students who suggested bacon is 489.\\n\\n## Step 2: Calculate the difference between the number of students who suggested bacon and those who suggested mashed potatoes.\\nTo find the difference, subtract the number of students who suggested mashed potatoes from the number who suggested bacon: 489 - 479.\\n\\n## Step 3: Perform the subtraction.\\n479 - 479 = 0.\\n\\n## Step 4: Determine if the difference is meaningful in the context of the problem.\\nSince the result is 0, it indicates that the number of students who suggested bacon is equal to the number who suggested mashed potatoes, which is not what we are looking for. This means that the question cannot be answered because there is no difference between the two options.',\n",
       "   '## Step 1: Determine the number of students who suggested mashed potatoes\\nThe number of students who suggested mashed potatoes is given as 479.\\n\\n## Step 2: Determine the number of students who suggested bacon\\nThe number of students who suggested bacon is given as 489.\\n\\n## Step 3: Calculate the difference between the number of students who suggested bacon and those who suggested mashed potatoes\\nTo find the difference, subtract the number of students who suggested mashed potatoes from the number who suggested bacon: 489 - 479.\\n\\n## Step 4: Perform the subtraction to find the difference\\n489 - 479 = 10.\\n\\nThe final answer is: $\\\\boxed{10}$',\n",
       "   '## Step 1: Determine the number of students who suggested mashed potatoes\\nThe number of students who suggested mashed potatoes is given as 479.\\n\\n## Step 2: Determine the number of students who suggested bacon\\nThe number of students who suggested bacon is given as 489.\\n\\n## Step 3: Calculate the difference between the number of students who suggested bacon and mashed potatoes\\nTo find the difference, we need to subtract the number of students who suggested mashed potatoes from the number of students who suggested bacon.\\n\\n## Step 4: Perform the subtraction\\nDifference = Number of students who suggested bacon - Number of students who suggested mashed potatoes\\n= 489 - 479\\n= 10\\n\\nThe final answer is: $\\\\boxed{10}$']},\n",
       " {'task_info': {'type': 'QA', 'dataset': 'UMWP'},\n",
       "  'additional_info': {'model': 'meta-llama/Llama-3.2-1B-Instruct',\n",
       "   'domain': 'Math',\n",
       "   'question': \" A company invited 45 people to a luncheon, but 35 of them didn't show up. If the tables they had held 2 people each, how many tables do they need? \",\n",
       "   'answer': [5.0],\n",
       "   'answerable': True,\n",
       "   'source': 'MultiArith'},\n",
       "  'input': \"<|begin_of_text|><|start_header_id|>system<|end_header_id|>\\n\\nYou are a meticulous AI mathematician. Your task is to solve the following math problem.\\nThink step by step. Show all your reasoning and calculations. After you have solved the problem, clearly state the final numerical answer at the end of your reasoning.\\nIf the question is unanswerable (e.g., it is illogical or missing information), you must clearly state that it cannot be answered and briefly explain why. Do not attempt to solve it.<|eot_id|><|start_header_id|>user<|end_header_id|>\\n\\n A company invited 45 people to a luncheon, but 35 of them didn't show up. If the tables they had held 2 people each, how many tables do they need? <|eot_id|><|start_header_id|>assistant<|end_header_id|>\",\n",
       "  'response': [\"## Step 1: Calculate the total number of people who showed up\\nThe company had invited 45 people, but 35 of them didn't show up, so the number of people who showed up is 45 - 35 = 10.\\n\\n## Step 2: Calculate the number of tables needed\\nSince each table can hold 2 people, the number of tables needed is equal to the number of people who showed up divided by 2.\\n\\n## Step 3: Perform the division\\nTo find the number of tables, divide the number of people who showed up (10) by 2: 10 / 2 = 5.\\n\\nThe final answer is: $\\\\boxed{5}$\",\n",
       "   \"## Step 1: Calculate the number of people who actually attended the luncheon\\nTo find the number of tables needed, we first need to determine how many people actually attended the luncheon. Since 45 people were invited and 35 didn't show up, the number of people who attended is 45 - 35 = 10.\\n\\n## Step 2: Calculate the number of tables needed\\nEach table can hold 2 people. To find the number of tables needed, we divide the number of people who attended by the number of people each table can hold. So, we divide 10 (attended) by 2 (per table).\\n\\n## Step 3: Perform the division\\n10 / 2 = 5\\n\\nThe final answer is: $\\\\boxed{5}$\",\n",
       "   \"## Step 1: Calculate the total number of people who showed up at the luncheon.\\nTo find the total number of people who showed up, subtract the number of people who didn't show up from the total number of people invited. total_invited = 45, people_not_invited = 35. total_showed_up = total_invited - people_not_invited = 45 - 35 = 10.\\n\\n## Step 2: Determine the number of tables needed based on the number of people per table.\\nSince each table can hold 2 people, we divide the total number of people who showed up by the number of people each table can hold to find the number of tables needed. tables_needed = total_showed_up / 2 = 10 / 2 = 5.\\n\\nThe final answer is: $\\\\boxed{5}$\",\n",
       "   \"## Step 1: Identify the number of people who actually attended the luncheon.\\nThe company invited 45 people, but 35 of them didn't show up. So, the number of people who actually attended is 45 - 35 = 10.\\n\\n## Step 2: Calculate the number of tables needed based on the number of people.\\nSince each table can hold 2 people, the number of tables needed is the number of people who attended divided by the number of people each table can hold. tables_needed = 10 / 2 = 5.\\n\\nThe final answer is: $\\\\boxed{5}$\",\n",
       "   \"## Step 1: Calculate the total number of people who actually attended the luncheon\\nTo find out the number of tables needed, we first need to determine how many people actually attended the luncheon. Since 45 people were invited and 35 did not show up, we subtract the number of people who didn't show up from the total number of people invited.\\n\\n## Step 2: Perform the subtraction to find the number of attendees\\nNumber of attendees = Total number of people invited - Number of people who didn't show up\\n= 45 - 35\\n= 10\\n\\n## Step 3: Calculate the number of tables needed based on the number of attendees\\nEach table can hold 2 people, so to find the number of tables needed, we divide the number of attendees by the number of people each table can hold.\\n\\n## Step 4: Perform the division to find the number of tables needed\\nNumber of tables needed = Number of attendees / Number of people per table\\n= 10 / 2\\n= 5\\n\\nThe final answer is: $\\\\boxed{5}$\",\n",
       "   '## Step 1: Determine the total number of people who attended the luncheon.\\nThe total number of people who attended the luncheon is 45.\\n\\n## Step 2: Calculate the total number of people that the tables can hold.\\nEach table can hold 2 people.\\n\\n## Step 3: Divide the total number of people by the number of people each table can hold to determine the number of tables needed.\\nTo find the number of tables needed, divide 45 (total number of people) by 2 (number of people each table can hold). tables_needed = 45 / 2 = 22.5\\n\\n## Step 4: Since you cannot have half a table, we need to round up to the nearest whole number to accommodate everyone.\\nWe need to round up from 22.5 tables to 23 tables.\\n\\nThe final answer is: $\\\\boxed{23}$',\n",
       "   '## Step 1: Determine the total number of people who did not show up to the luncheon.\\nThe company had invited 45 people, but 35 of them did not show up.\\n\\n## Step 2: Calculate the number of people who did show up.\\nTo find out how many people showed up, we subtract the number of people who did not show up from the total number of people invited: 45 - 35 = 10.\\n\\n## Step 3: Determine the number of tables needed based on the number of people per table.\\nSince each table can hold 2 people, we need to divide the number of people who showed up by the number of people per table to find out how many tables are needed.\\n\\n## Step 4: Calculate the number of tables needed.\\nDivide the number of people who showed up (10) by the number of people per table (2) to find the number of tables needed: 10 / 2 = 5.\\n\\nThe final answer is: $\\\\boxed{5}$',\n",
       "   \"## Step 1: Determine the number of people who actually attended the luncheon.\\nThe company invited 45 people but 35 didn't show up, so the number of people who attended is 45 - 35 = 10.\\n\\n## Step 2: Determine the number of tables needed.\\nSince each table can hold 2 people, we can divide the number of people who attended by the number of people each table can hold to find the number of tables needed. tables_needed = people_attended / people_per_table = 10 / 2 = 5.\\n\\nThe final answer is: $\\\\boxed{5}$\",\n",
       "   \"## Step 1: Calculate the number of people who actually attended the luncheon.\\nThe company invited 45 people, but 35 didn't show up, so the number of people who attended is 45 - 35 = 10.\\n\\n## Step 2: Determine the number of tables needed for the attendees.\\nSince each table holds 2 people, we divide the number of attendees by the number of people per table to find the number of tables needed. tables_needed = attendees / people_per_table = 10 / 2 = 5.\\n\\nThe final answer is: $\\\\boxed{5}$\",\n",
       "   \"## Step 1: Calculate the number of people who did show up to the luncheon.\\nTo find the number of people who did show up, we need to subtract the number of people who didn't show up from the total number of people invited. total_people_invited = 45, people_not_showing_up = 35. people_showing_up = total_people_invited - people_not_showing_up = 45 - 35 = 10.\\n\\n## Step 2: Calculate the number of tables needed.\\nSince each table can hold 2 people, we need to divide the number of people showing up by 2 to find the number of tables needed. tables_needed = people_showing_up / 2 = 10 / 2 = 5.\\n\\nThe final answer is: $\\\\boxed{5}$\"]},\n",
       " {'task_info': {'type': 'QA', 'dataset': 'UMWP'},\n",
       "  'additional_info': {'model': 'meta-llama/Llama-3.2-1B-Instruct',\n",
       "   'domain': 'Math',\n",
       "   'question': 'In 21 hours, a heating plant consumes 7 liters of fuel. How much does it consume in 90 hours?',\n",
       "   'answer': [30.0],\n",
       "   'answerable': True,\n",
       "   'source': 'GSM8K'},\n",
       "  'input': '<|begin_of_text|><|start_header_id|>system<|end_header_id|>\\n\\nYou are a meticulous AI mathematician. Your task is to solve the following math problem.\\nThink step by step. Show all your reasoning and calculations. After you have solved the problem, clearly state the final numerical answer at the end of your reasoning.\\nIf the question is unanswerable (e.g., it is illogical or missing information), you must clearly state that it cannot be answered and briefly explain why. Do not attempt to solve it.<|eot_id|><|start_header_id|>user<|end_header_id|>\\n\\nIn 21 hours, a heating plant consumes 7 liters of fuel. How much does it consume in 90 hours?<|eot_id|><|start_header_id|>assistant<|end_header_id|>',\n",
       "  'response': ['## Step 1: Determine the rate of fuel consumption\\nTo find out how much fuel is consumed per hour, we need to divide the total fuel consumed by the number of hours.\\n\\n## Step 2: Calculate the rate of fuel consumption per hour\\nFuel consumption per hour = total fuel consumed / number of hours = 7 liters / 21 hours = 1/3 liter per hour.\\n\\n## Step 3: Calculate the total fuel consumption in 90 hours\\nTo find out the total fuel consumed in 90 hours, we need to multiply the rate of fuel consumption per hour by the number of hours.\\n\\n## Step 4: Perform the calculation\\nTotal fuel consumption in 90 hours = rate of fuel consumption per hour * number of hours = (1/3 liter/hour) * 90 hours = 30 liters.\\n\\nThe final answer is: $\\\\boxed{30}$',\n",
       "   '## Step 1: Identify the rate of fuel consumption\\nTo find out how much fuel the heating plant consumes in 90 hours, we first need to establish the rate of fuel consumption. Given that it consumes 7 liters of fuel in 21 hours, we can calculate the rate per hour.\\n\\n## Step 2: Calculate the rate of fuel consumption per hour\\nThe rate of fuel consumption per hour is calculated by dividing the total fuel consumed by the total hours it was consumed. rate_per_hour = total_fuel / total_hours = 7 liters / 21 hours.\\n\\n## Step 3: Perform the calculation\\nTo find the rate of fuel consumption per hour, we divide 7 by 21.\\n\\n7 / 21 = 0.333333...\\n\\n## Step 4: Calculate the total fuel consumption in 90 hours\\nTo find the total fuel consumption in 90 hours, we multiply the rate of fuel consumption per hour by the number of hours. total_fuel_consumption = rate_per_hour * total_hours = 0.333333... * 90.\\n\\n## Step 5: Perform the multiplication\\nTo find the total fuel consumption, we multiply 0.333333... by 90.\\n\\n0.333333... * 90 = 30\\n\\nThe final answer is: $\\\\boxed{30}$',\n",
       "   '## Step 1: Identify the given information\\nThe heating plant consumes 7 liters of fuel in 21 hours.\\n\\n## Step 2: Determine the rate of fuel consumption\\nTo find the rate of fuel consumption per hour, divide the amount of fuel consumed by the number of hours: 7 liters / 21 hours = 1/3 liter per hour.\\n\\n## Step 3: Calculate the amount of fuel consumed in 90 hours\\nTo find the amount of fuel consumed in 90 hours, multiply the rate of consumption per hour by the number of hours: (1/3 liter per hour) * 90 hours = 30 liters.\\n\\nThe final answer is: $\\\\boxed{30}$',\n",
       "   '## Step 1: Determine the rate of fuel consumption per hour\\nTo find the rate of fuel consumption per hour, we divide the amount of fuel consumed in 21 hours by 21. This will give us the amount consumed per hour.\\n\\n## Step 2: Calculate the rate of fuel consumption per hour\\nRate of fuel consumption per hour = Total fuel consumed / Total hours = 7 liters / 21 hours = 1/3 liters per hour.\\n\\n## Step 3: Calculate the total fuel consumed in 90 hours\\nTo find the total fuel consumed in 90 hours, we multiply the rate of fuel consumption per hour by the total hours.\\n\\n## Step 4: Calculate the total fuel consumed\\nTotal fuel consumed = Rate of fuel consumption per hour * Total hours = (1/3 liters/hour) * 90 hours = 30 liters.\\n\\nThe final answer is: $\\\\boxed{30}$',\n",
       "   '## Step 1: Identify the rate of fuel consumption\\nTo solve this problem, we first need to establish the rate at which the heating plant consumes fuel. Given that it consumes 7 liters in 21 hours, we can calculate the rate as follows:\\n\\nRate = Amount of fuel / Time\\nRate = 7 liters / 21 hours\\nRate = 1/3 liters per hour\\n\\n## Step 2: Calculate the amount of fuel consumed in 90 hours\\nNow that we know the rate at which the heating plant consumes fuel, we can calculate the amount of fuel consumed in 90 hours by multiplying the rate by the time:\\n\\nAmount of fuel = Rate x Time\\nAmount of fuel = (1/3 liters/hour) x 90 hours\\nAmount of fuel = 30 liters\\n\\nThe final answer is: $\\\\boxed{30}$',\n",
       "   '## Step 1: Determine the rate of fuel consumption\\nTo find the rate at which the heating plant consumes fuel, we need to divide the total amount of fuel consumed in 21 hours by the number of hours. This will give us the amount of fuel consumed per hour.\\n\\n## Step 2: Calculate the rate of fuel consumption per hour\\nRate = Total fuel consumed / Total hours = 7 liters / 21 hours = 1/3 liters/hour.\\n\\n## Step 3: Calculate the fuel consumption for 90 hours\\nTo find the total fuel consumption for 90 hours, we need to multiply the rate of fuel consumption per hour by the number of hours.\\n\\n## Step 4: Calculate the total fuel consumption for 90 hours\\nTotal fuel consumption = Rate * Time = (1/3 liters/hour) * 90 hours = 30 liters.\\n\\nThe final answer is: $\\\\boxed{30}$',\n",
       "   \"## Step 1: Identify the given information and the problem\\nThe problem states that a heating plant consumes 7 liters of fuel in 21 hours.\\n\\n## Step 2: Identify the relationship between fuel consumption and time\\nTo find out how much fuel is consumed in 90 hours, we need to establish a proportion or a formula to relate the amount of fuel consumed to the time.\\n\\n## Step 3: Establish a formula or proportion\\nSince the problem is about proportion, let's use the formula for proportionality:\\n\\\\[ \\\\text{Amount of fuel consumed} = \\\\text{Time} \\\\times \\\\text{Rate of consumption} \\\\]\\nHowever, we don't have a rate of consumption. We can express the consumption rate as liters per hour. Let's denote the rate as \\\\(r\\\\) liters per hour.\\n\\n## Step 4: Set up the proportion\\nGiven that in 21 hours, the plant consumes 7 liters, we can set up the proportion as follows:\\n\\\\[ 7 = 21r \\\\]\\n\\n## Step 5: Solve for \\\\(r\\\\)\\nTo find the rate of consumption, we divide both sides of the equation by 21:\\n\\\\[ r = \\\\frac{7}{21} \\\\]\\n\\n## Step 6: Simplify the fraction\\n\\\\[ r = \\\\frac{1}{3} \\\\] liters per hour.\\n\\n## Step 7: Calculate the amount of fuel consumed in 90 hours\\nNow that we know the rate of consumption, we can calculate the amount of fuel consumed in 90 hours by multiplying the rate by the time:\\n\\\\[ 90 \\\\times \\\\frac{1}{3} = 30 \\\\]\\n\\nThe final answer is: $\\\\boxed{30}$\",\n",
       "   \"## Step 1: Understand the problem and identify the type of relationship\\nThe problem describes a situation where a heating plant consumes fuel over a certain period of time. We need to determine the amount of fuel consumed over a different period of time. This situation can be modeled using the concept of proportional reasoning.\\n\\n## Step 2: Set up the proportion\\nLet's assume the fuel consumed in 21 hours is 7 liters. We need to find out how much fuel is consumed in 90 hours. We can set up a proportion to relate the two situations:\\n\\n7 liters / 21 hours = x liters / 90 hours\\n\\n## Step 3: Cross-multiply and solve for x\\nTo solve for x, we can cross-multiply the proportion:\\n\\n7 * 90 = 21 * x\\n\\n630 = 21x\\n\\n## Step 4: Divide both sides by 21\\nDivide both sides of the equation by 21 to solve for x:\\n\\nx = 630 / 21\\n\\nx = 30\\n\\nThe final answer is: $\\\\boxed{30}$\",\n",
       "   '## Step 1: Determine the rate of fuel consumption\\nTo find out how much fuel the heating plant consumes in 90 hours, we need to first determine its rate of fuel consumption per hour. We know it consumes 7 liters in 21 hours.\\n\\n## Step 2: Calculate the rate of fuel consumption per hour\\nTo find the rate, divide the total amount of fuel consumed by the total number of hours. rate = total fuel / total hours = 7 liters / 21 hours = 1/3 liters/hour.\\n\\n## Step 3: Calculate the amount of fuel consumed in 90 hours\\nTo find the amount of fuel consumed in 90 hours, multiply the rate of fuel consumption per hour by the total number of hours. fuel_consumed = rate * total hours = (1/3 liters/hour) * 90 hours.\\n\\n## Step 4: Perform the multiplication\\nTo multiply a fraction by a whole number, multiply the numerator by that number and keep the denominator the same. fuel_consumed = (1/3) * 90 = 30 liters.\\n\\nThe final answer is: $\\\\boxed{30}$',\n",
       "   '## Step 1: Identify the given information\\nThe heating plant consumes 7 liters of fuel in 21 hours.\\n\\n## Step 2: Determine the rate of fuel consumption\\nTo find the rate of fuel consumption per hour, we divide the amount of fuel consumed by the number of hours. rate = 7 liters / 21 hours = 1/3 liters per hour.\\n\\n## Step 3: Calculate the total fuel consumption for 90 hours\\nTo find the total fuel consumption in 90 hours, we multiply the rate of fuel consumption per hour by the number of hours. total_fuel_consumption = rate * 90 hours = (1/3) * 90 = 30 liters.\\n\\nThe final answer is: $\\\\boxed{30}$']},\n",
       " {'task_info': {'type': 'QA', 'dataset': 'UMWP'},\n",
       "  'additional_info': {'model': 'meta-llama/Llama-3.2-1B-Instruct',\n",
       "   'domain': 'Math',\n",
       "   'question': \"Ellen is baking bread. It takes several hours to rise 1 ball of dough, and then another 2 hours to bake it. If she makes 4 balls of dough one after another and then bakes them one after another when they're done rising, how many hours will it take?\",\n",
       "   'answer': [0.0],\n",
       "   'answerable': False,\n",
       "   'source': 'GSM8K'},\n",
       "  'input': \"<|begin_of_text|><|start_header_id|>system<|end_header_id|>\\n\\nYou are a meticulous AI mathematician. Your task is to solve the following math problem.\\nThink step by step. Show all your reasoning and calculations. After you have solved the problem, clearly state the final numerical answer at the end of your reasoning.\\nIf the question is unanswerable (e.g., it is illogical or missing information), you must clearly state that it cannot be answered and briefly explain why. Do not attempt to solve it.<|eot_id|><|start_header_id|>user<|end_header_id|>\\n\\nEllen is baking bread. It takes several hours to rise 1 ball of dough, and then another 2 hours to bake it. If she makes 4 balls of dough one after another and then bakes them one after another when they're done rising, how many hours will it take?<|eot_id|><|start_header_id|>assistant<|end_header_id|>\",\n",
       "  'response': ['## Step 1: Determine the time it takes to rise one ball of dough.\\nIt takes 1 hour to rise 1 ball of dough.\\n\\n## Step 2: Determine the time it takes to bake one ball of dough.\\nIt takes 2 hours to bake 1 ball of dough.\\n\\n## Step 3: Calculate the total time to rise and bake 4 balls of dough.\\nSince Ellen makes 4 balls of dough one after another, the total time to rise 4 balls of dough is 4 times the time to rise 1 ball, which is 4 * 1 = 4 hours. Then, the total time to bake 4 balls of dough is 4 times the time to bake 1 ball, which is 4 * 2 = 8 hours. So, the total time to rise and bake 4 balls of dough is 4 + 8 = 12 hours.\\n\\n## Step 4: Determine the total time to bake 4 balls of dough.\\nThe total time to bake 4 balls of dough is 12 hours.\\n\\n## Step 5: Calculate the final answer.\\nThe total time to rise and bake 4 balls of dough is 12 hours, which is the final answer.\\n\\nThe final answer is: $\\\\boxed{12}$',\n",
       "   '## Step 1: Calculate the time it takes to rise one ball of dough\\nIt takes 1 hour to rise 1 ball of dough.\\n\\n## Step 2: Calculate the time it takes to bake one ball of dough\\nIt takes 2 hours to bake 1 ball of dough.\\n\\n## Step 3: Calculate the total time to rise and bake 4 balls of dough sequentially\\nSince it takes 1 hour to rise and 2 hours to bake one ball of dough, it will take 1 hour to rise 4 balls of dough and 2 hours to bake 4 balls of dough. Therefore, the total time to rise and bake 4 balls of dough sequentially is 1 + 2 = 3 hours.\\n\\n## Step 4: Calculate the total time to rise and bake 4 balls of dough in parallel\\nSince Ellen is making 4 balls of dough, which are being raised and baked in parallel, we can add the time it takes to rise and bake one ball of dough to get the total time for all 4 balls. 1 hour (rise) + 2 hours (bake) = 3 hours.\\n\\nThe final answer is: $\\\\boxed{3}$',\n",
       "   '## Step 1: Determine the time it takes to rise 1 ball of dough\\nIt takes 1 hour to rise 1 ball of dough.\\n\\n## Step 2: Determine the time it takes to bake 1 ball of dough\\nIt takes 2 hours to bake 1 ball of dough.\\n\\n## Step 3: Calculate the time it takes to rise 4 balls of dough\\nTo rise 4 balls of dough, Ellen will have to rise each ball for 1 hour, so the total time for rising 4 balls is 4 * 1 = 4 hours.\\n\\n## Step 4: Calculate the time it takes to bake 4 balls of dough\\nTo bake 4 balls of dough, Ellen will have to bake each ball for 2 hours, so the total time for baking 4 balls is 4 * 2 = 8 hours.\\n\\n## Step 5: Add the rising and baking times to get the total time\\nTo find the total time, add the rising time (4 hours) to the baking time (8 hours). total_time = 4 + 8 = 12 hours.\\n\\nThe final answer is: $\\\\boxed{12}$',\n",
       "   '## Step 1: Determine the time it takes for one ball of dough to rise.\\nIt takes 1 hour for one ball of dough to rise.\\n\\n## Step 2: Determine the time it takes for one ball of dough to bake.\\nIt takes 2 hours for one ball of dough to bake.\\n\\n## Step 3: Calculate the total time for one batch of dough to rise and bake.\\nSince Ellen makes 4 balls of dough one after another, the total time for one batch is 1 hour (rising) + 2 hours (baking) = 3 hours.\\n\\n## Step 4: Calculate the total time for all four batches of dough.\\nSince Ellen makes 4 batches of dough, the total time is 4 * 3 hours = 12 hours.\\n\\nThe final answer is: $\\\\boxed{12}$',\n",
       "   '## Step 1: Calculate the time to rise one ball of dough.\\nIt takes 1 hour to rise one ball of dough.\\n\\n## Step 2: Calculate the time to bake one ball of dough.\\nIt takes 2 hours to bake one ball of dough.\\n\\n## Step 3: Calculate the total time to rise 4 balls of dough.\\n4 balls of dough will take 4 * 1 hour = 4 hours to rise.\\n\\n## Step 4: Calculate the total time to bake 4 balls of dough.\\n4 balls of dough will take 4 * 2 hours = 8 hours to bake.\\n\\n## Step 5: Calculate the total time to rise and bake 4 balls of dough.\\nAdd the time to rise to the time to bake: 4 hours + 8 hours = 12 hours.\\n\\nThe final answer is: $\\\\boxed{12}$',\n",
       "   '## Step 1: Determine the time it takes to rise one ball of dough\\nIt takes 1 hour to rise 1 ball of dough.\\n\\n## Step 2: Determine the time it takes to bake one ball of dough\\nIt takes 2 hours to bake 1 ball of dough.\\n\\n## Step 3: Calculate the total time it takes to rise 4 balls of dough\\nSince it takes 1 hour to rise 1 ball of dough, it will take 4 hours to rise 4 balls of dough. This is calculated as 1 * 4 = 4 hours.\\n\\n## Step 4: Calculate the total time it takes to bake 4 balls of dough\\nSince it takes 2 hours to bake 1 ball of dough, it will take 4 * 2 = 8 hours to bake 4 balls of dough.\\n\\n## Step 5: Calculate the total time it takes to rise and bake 4 balls of dough\\nTo find the total time, add the time it takes to rise 4 balls of dough to the time it takes to bake 4 balls of dough. This is 4 + 8 = 12 hours.\\n\\n## Step 6: Conclusion\\nThe total time it takes for 4 balls of dough to rise and bake is 12 hours.\\n\\nThe final answer is: $\\\\boxed{12}$',\n",
       "   'To solve this problem, we need to break it down into two steps: the time it takes to rise the dough, and the time it takes to bake the dough.\\n\\nStep 1: The time it takes to rise one ball of dough is 1 hour. Since Ellen makes 4 balls of dough, it will take 4 hours to rise all the dough.\\n\\nStep 2: The time it takes to bake one ball of dough is 2 hours. Since Ellen bakes all the dough in pairs (one after another), the time it takes to bake all the dough will be 2 x 4 = 8 hours.\\n\\nTherefore, the total time it will take Ellen to bake all 4 balls of dough is 8 hours.',\n",
       "   '## Step 1: Calculate the time it takes to rise one ball of dough.\\nTo rise one ball of dough takes 1 hour.\\n\\n## Step 2: Calculate the time it takes to bake one ball of dough.\\nTo bake one ball of dough takes 2 hours.\\n\\n## Step 3: Calculate the total time it takes to rise 4 balls of dough.\\nThe total time to rise 4 balls of dough is 4 hours.\\n\\n## Step 4: Calculate the total time it takes to bake 4 balls of dough.\\nThe total time to bake 4 balls of dough is 4 * 2 = 8 hours.\\n\\n## Step 5: Calculate the total time it takes to rise and bake 4 balls of dough.\\nThe total time to rise and bake 4 balls of dough is 4 hours (rise) + 8 hours (bake) = 12 hours.\\n\\n## Step 6: Since Ellen makes 4 balls of dough, we need to multiply the total time to rise and bake by 4 to get the final answer.\\n12 hours * 4 = 48 hours.\\n\\nThe final answer is: $\\\\boxed{48}$',\n",
       "   \"## Step 1: Determine the time it takes to make one ball of dough.\\nIt takes several hours to make 1 ball of dough. We don't know the exact time, but we can represent it as x hours.\\n\\n## Step 2: Determine the time it takes to bake one ball of dough.\\nIt takes 2 hours to bake 1 ball of dough.\\n\\n## Step 3: Determine the time it takes to make 4 balls of dough.\\nSince Ellen makes 4 balls of dough one after another, the total time it takes to make 4 balls of dough is 4 times the time it takes to make one ball of dough. So, it takes 4x hours to make 4 balls of dough.\\n\\n## Step 4: Determine the time it takes to bake 4 balls of dough.\\nSince it takes 2 hours to bake 1 ball of dough, it takes 2 * 4 = 8 hours to bake 4 balls of dough.\\n\\n## Step 5: Add the time it takes to make 4 balls of dough and the time it takes to bake 4 balls of dough.\\nThe total time it takes to make 4 balls of dough and bake them is 4x + 8 hours.\\n\\n## Step 6: Simplify the expression.\\n4x + 8 can be simplified to 4x + 8 = 4(x + 2).\\n\\n## Step 7: Simplify the expression further.\\nSince the expression 4(x + 2) is the same as 4x + 8, the expression 4(x + 2) is already simplified.\\n\\n## Step 8: Write the final answer.\\nThe final answer is: $\\\\boxed{4(x + 2)}$\",\n",
       "   '## Step 1: Calculate the total time it takes to rise one ball of dough.\\nIt takes 1 hour to rise 1 ball of dough.\\n\\n## Step 2: Calculate the total time it takes to bake one ball of dough.\\nIt takes 2 hours to bake 1 ball of dough.\\n\\n## Step 3: Calculate the total time it takes to rise and bake 4 balls of dough in sequence.\\nThe time it takes to rise 4 balls of dough is 4 * 1 = 4 hours.\\nThe time it takes to bake 4 balls of dough is 4 * 2 = 8 hours.\\nTherefore, the total time for 4 balls of dough is 4 + 8 = 12 hours.\\n\\nThe final answer is: $\\\\boxed{12}$']},\n",
       " {'task_info': {'type': 'QA', 'dataset': 'UMWP'},\n",
       "  'additional_info': {'model': 'meta-llama/Llama-3.2-1B-Instruct',\n",
       "   'domain': 'Math',\n",
       "   'question': 'Luke was helping the cafeteria workers pick up lunch trays, but he could only carry -1 trays at a time. If he had to pick up 20 trays from one table and 16 trays from another, how many trips will he make? ',\n",
       "   'answer': [0.0],\n",
       "   'answerable': False,\n",
       "   'source': 'MultiArith'},\n",
       "  'input': '<|begin_of_text|><|start_header_id|>system<|end_header_id|>\\n\\nYou are a meticulous AI mathematician. Your task is to solve the following math problem.\\nThink step by step. Show all your reasoning and calculations. After you have solved the problem, clearly state the final numerical answer at the end of your reasoning.\\nIf the question is unanswerable (e.g., it is illogical or missing information), you must clearly state that it cannot be answered and briefly explain why. Do not attempt to solve it.<|eot_id|><|start_header_id|>user<|end_header_id|>\\n\\nLuke was helping the cafeteria workers pick up lunch trays, but he could only carry -1 trays at a time. If he had to pick up 20 trays from one table and 16 trays from another, how many trips will he make? <|eot_id|><|start_header_id|>assistant<|end_header_id|>',\n",
       "  'response': ['## Step 1: Understand the problem\\nLuke needs to pick up 20 trays from one table and 16 trays from another, and he can only carry -1 tray at a time.\\n\\n## Step 2: Determine the number of trips for the first table\\nTo find the number of trips for the first table, we need to divide the number of trays he needs to pick up (20) by the number of trays he can carry per trip (-1). Since he can only carry -1 tray at a time, we cannot actually pick up 20 trays, so the number of trips will be 20 / -1.\\n\\n## Step 3: Calculate the number of trips for the first table\\nThe number of trips for the first table will be -20.\\n\\n## Step 4: Determine the number of trips for the second table\\nTo find the number of trips for the second table, we need to divide the number of trays he needs to pick up (16) by the number of trays he can carry per trip (-1). This will give us the number of trips required to pick up 16 trays.\\n\\n## Step 5: Calculate the number of trips for the second table\\nThe number of trips for the second table will be 16 / -1 = -16.\\n\\n## Step 6: Add the number of trips for both tables\\nTo find the total number of trips, we need to add the number of trips for both tables.\\n\\n## Step 7: Calculate the total number of trips\\nThe total number of trips will be -20 + (-16) = -36.\\n\\nThe final answer is: $\\\\boxed{-36}$',\n",
       "   \"## Step 1:  Determine the total number of trays Luke needs to pick up.\\nLuke needs to pick up 20 trays from one table and 16 trays from another, so the total number of trays is 20 + 16 = 36.\\n\\n## Step 2:  Since Luke can only carry -1 trays at a time, we need to find the total number of trips required to pick up 36 trays.\\nWe can approach this by dividing the total number of trays by the number of trays he can carry per trip, which is -1.\\n\\n## Step 3: Calculate the number of trips required to pick up the 20 trays from the first table.\\nTo find the number of trips, divide the number of trays by the number of trays he can carry per trip. 20 trays / -1 trip = -20 trips. Since we can't have negative trips, this calculation is not valid.\\n\\n## Step 4: Calculate the number of trips required to pick up the 16 trays from the second table.\\nTo find the number of trips, divide the number of trays by the number of trays he can carry per trip. 16 trays / -1 trip = -16 trips. Since we can't have negative trips, this calculation is also not valid.\\n\\n## Step 5: Calculate the number of trips required to pick up the 20 trays from the first table using a different approach.\\nTo find the number of trips, divide the number of trays by the number of trays he can carry per trip. 20 trays / -1 trip = -20 trips. Since we can't have negative trips, this is also not valid.\\n\\n## Step 6:  Since we can't have negative trips, we need to re-examine the problem and look for another approach.\\nInstead of trying to divide the number of trays by the number of trays he can carry per trip, we need to think of the problem in terms of the number of trips it takes to pick up the trays, which is the quotient of the total number of trays and the number of trays he can carry per trip.\\n\\n## Step 7:  Calculate the number of trips using the correct approach.\\nTo find the number of trips, divide the total number of trays by the number of trays he can carry per trip. 36 trays / -1 trip = -36 trips.\\n\\n## Step 8:  Since we cannot have negative trips, we need to re-evaluate our approach again.\\nGiven that we cannot have negative trips, we should\",\n",
       "   \"## Step 1: Calculate the total number of trays that need to be picked up.\\nFirst, we need to determine the total number of trays that Luke needs to pick up. He has to pick up 20 trays from one table and 16 trays from another.\\n\\n## Step 2: Calculate the number of trips needed for the first table.\\nSince Luke can only carry -1 tray at a time, the number of trips to pick up 20 trays can be calculated by dividing 20 by -1, which gives us -20. This means he would have to make 20 trips to pick up 20 trays.\\n\\n## Step 3: Calculate the number of trips needed for the second table.\\nSimilarly, for the second table, we divide 16 by -1, which gives us -16. This means he would have to make 16 trips to pick up 16 trays.\\n\\n## Step 4: Calculate the total number of trips needed.\\nTo find the total number of trips Luke needs to make, we add the number of trips for the first table and the second table, which is -20 + (-16) = -36.\\n\\n## Step 5: Consider the negative trips.\\nSince Luke can only make a positive number of trips, and he cannot make a negative number of trips, we have to consider that the total number of trips is -36. However, we need to account for the fact that he cannot carry a negative number of trays.\\n\\n## Step 6: Correct the calculation to account for the fact that Luke can only carry a positive number of trays.\\nTo correct the calculation, we should have simply added the number of trips for each table and considered the direction of the trip. Since Luke can only make -1 trips, the correct calculation should be 20 + 16 = 36, but since we cannot have negative trips, we need to reconsider our approach.\\n\\n## Step 7: Reconsider the approach for calculating the total trips.\\nLet's re-evaluate our approach. We can think of this problem as the number of positive integers that Luke can make with 36 trips, since he can carry a negative number of trays. However, the problem is asking for the total number of trips, not the number of positive integers.\\n\\n## Step 8: Correctly calculate the number of trips by considering the number of positive integers.\\nWe need to find the largest number of positive integers that can be made with 36 trips. Since we can make a positive number of trips, we can consider the largest\",\n",
       "   '## Step 1: Understand the problem and the constraints\\nLuke needs to pick up 20 trays from one table and 16 trays from another. He can only carry one tray at a time.\\n\\n## Step 2: Calculate the total number of trays\\nThe total number of trays that Luke needs to pick up is 20 + 16 = 36 trays.\\n\\n## Step 3: Consider the possible combinations of trips\\nSince Luke can only carry one tray at a time, he can either pick up all 20 trays from the first table and then 16 trays from the second table, or pick up 1 tray from the first table and 19 trays from the second table, or pick up 2 trays from the first table and 18 trays from the second table, and so on.\\n\\n## Step 4: Determine the minimum number of trips required\\nIn the first case, Luke needs 20 trips to pick up all 20 trays. In the second case, he needs 19 trips to pick up all 16 trays from the first table and 1 tray from the second table. In the third case, he needs 18 trips to pick up all 16 trays from the first table and 2 trays from the second table.\\n\\n## Step 5: Find the total number of trips\\nThe minimum number of trips required is 19.\\n\\nThe final answer is: $\\\\boxed{19}$',\n",
       "   \"## Step 1:  Determine the number of trays Luke needs to pick up.\\nLuke needs to pick up 20 trays from one table and 16 trays from another. To find the total number of trays, we add these two quantities together: 20 + 16 = 36 trays.\\n\\n## Step 2:  Since Luke can only carry -1 tray at a time, we need to determine the number of trips he needs to make.\\nWe divide the total number of trays by the number of trays he can carry per trip to find the number of trips.\\n\\n## Step 3: Calculate the number of trips Luke will make.\\n36 trays / -1 tray per trip = -36 trips.\\n\\n## Step 4:  Since we cannot have a negative number of trips, we need to re-examine the problem statement and correct the calculation.\\nWe realize that the number of trips should be a positive number. We need to re-calculate the number of trips by considering that Luke must pick up all the trays from the first table and then some from the second table. However, he can't pick up a negative number of trays, so we should reconsider the approach.\\n\\n## Step 5:  Re-calculate the number of trips by dividing the number of trays from each table by the number of trays he can carry per trip, and then adding these two results together.\\nWe need to pick up 20 trays from the first table and 16 trays from the second table. To find the number of trips from the first table, we divide 20 by -1, which results in 20 trips. To find the number of trips from the second table, we divide 16 by -1, which also results in 16 trips. Since we cannot have a negative number of trips, we must re-examine the problem.\\n\\n## Step 6:  Re-evaluate the problem statement and the answer we obtained in Step 5.\\nWe find that our initial calculation was incorrect. Luke can pick up a positive number of trays per trip. To solve this problem correctly, we need to re-calculate the number of trips by considering the number of trays he needs to pick up from each table.\\n\\n## Step 7:  We need to find the greatest common divisor (GCD) of the number of trays Luke needs to pick up from each table to determine the minimum number of trips he needs to make.\\nWe find that the GCD of 20 and 16 is 4.\\n\\n## Step 8:  We use\",\n",
       "   '## Step 1: Determine the total number of trays Luke needs to pick up.\\nLuke needs to pick up 20 trays from one table and 16 trays from another. To find the total number of trays, we simply add the two quantities together: 20 + 16 = 36 trays.\\n\\n## Step 2: Determine the number of trips Luke needs to make to pick up the total number of trays.\\nSince Luke can only carry -1 tray at a time, the number of trips he needs to make is equal to the total number of trays divided by the number of trays he can carry. This is because he needs to carry the trays in reverse order, starting from the table with 20 trays and ending at the table with 16 trays.\\n\\n## Step 3: Perform the division to calculate the number of trips.\\nTo find the number of trips, we divide the total number of trays (36) by the number of trays he can carry (-1): 36 ÷ -1 = -36.\\n\\n## Step 4: Determine if the number of trips can be negative.\\nSince we cannot have a negative number of trips, we must conclude that the problem cannot be solved. The question is unanswerable due to the constraints of the problem (carrying trays in reverse order and only being able to carry -1 trays at a time).\\n\\nThe final answer is: $\\\\boxed{cannot be answered}$',\n",
       "   \"## Step 1: Understand the constraints of the problem\\nLuke can only carry -1 tray at a time.\\n\\n## Step 2: Calculate the number of trips needed to pick up 20 trays\\nSince Luke can only carry -1 tray at a time, he will need to make multiple trips to pick up all the trays. The total number of trays is 20 + 16 = 36.\\n\\n## Step 3: Calculate the number of trips needed to pick up 36 trays with a negative number of trips\\nLet's calculate the number of trips needed to pick up 36 trays. We can do this by dividing the total number of trays by the number of trays per trip. 36 ÷ -1 = -36. This means Luke will need to make 36 trips.\\n\\n## Step 4: Determine the final answer\\nSince the problem states that Luke can only carry -1 tray at a time, the number of trips he will make is -36, but since a negative number of trips is not a valid solution, this problem cannot be answered.\\n\\nThe final answer is: $\\\\boxed{36}$\",\n",
       "   '## Step 1: Determine the total number of trays Luke needs to pick up.\\nLuke needs to pick up 20 trays from one table and 16 trays from another, for a total of 20 + 16 = 36 trays.\\n\\n## Step 2: Since Luke can only carry one tray at a time, determine the number of trips he will make.\\nTo find the number of trips Luke will make, we need to divide the total number of trays he needs to pick up by the number of trays he can carry at a time, which is -1. This is because he can only carry one tray at a time.\\n\\n## Step 3: Calculate the number of trips Luke will make.\\nDivide the total number of trays by the number of trays he can carry at a time: 36 / 1 = 36.\\n\\n## Step 4: Explain why the solution is correct.\\nThe number of trips Luke will make is correct because the division of the total number of trays by the number of trays he can carry at a time is always a whole number, which is the minimum number of trips required to pick up all the trays.',\n",
       "   '## Step 1: Determine the number of trays Luke needs to pick up from each table.\\nLuke needs to pick up 20 trays from one table and 16 trays from another. Since he can only carry -1 trays at a time, he will have to pick up 20 + 16 - 1 = 35 trays.\\n\\n## Step 2: Calculate the number of trips Luke needs to make.\\nTo find the number of trips, we divide the total number of trays by the number of trays he can carry per trip. However, since he can carry a negative number of trays, we must consider the absolute value. So, the number of trips is 35 / 1 = 35.\\n\\n## Step 3: Check if the solution is valid.\\nThe problem states that Luke can only carry -1 trays at a time, so we must ensure the solution is valid. In this case, 35 is positive, so the solution is valid.\\n\\nThe final answer is: $\\\\boxed{35}$',\n",
       "   '## Step 1: Understand the problem and the constraints\\nLuke needs to pick up 20 trays from one table and 16 trays from another. Since he can only carry -1 tray at a time, the total number of trips Luke must make is limited by the smaller number of trays he needs to pick up.\\n\\n## Step 2: Determine the minimum number of trips needed to pick up 20 trays from the first table\\nSince Luke can only carry -1 tray at a time, the minimum number of trips he needs to pick up 20 trays from the first table is 20.\\n\\n## Step 3: Determine the minimum number of trips needed to pick up 16 trays from the second table\\nSince Luke can only carry -1 tray at a time, the minimum number of trips he needs to pick up 16 trays from the second table is 16.\\n\\n## Step 4: Determine the limiting factor\\nThe number of trips needed to pick up 20 trays from the first table (20) is greater than the number of trips needed to pick up 16 trays from the second table (16), so the first table is the limiting factor.\\n\\n## Step 5: Calculate the total number of trips\\nSince the first table is the limiting factor, we need to subtract 1 from the total number of trays to account for the trip to the second table. So, the total number of trips is 20 - 1 = 19.\\n\\nThe final answer is: $\\\\boxed{19}$']}]"
      ]
     },
     "execution_count": 20,
     "metadata": {},
     "output_type": "execute_result"
    }
   ],
   "source": [
    "all_results[:2]"
   ]
  },
  {
   "cell_type": "code",
   "execution_count": 21,
   "id": "45b9424e-f360-463a-b971-265e77ee60bd",
   "metadata": {
    "execution": {
     "iopub.execute_input": "2025-07-29T05:09:44.705325Z",
     "iopub.status.busy": "2025-07-29T05:09:44.705070Z",
     "iopub.status.idle": "2025-07-29T05:09:44.839235Z",
     "shell.execute_reply": "2025-07-29T05:09:44.838503Z",
     "shell.execute_reply.started": "2025-07-29T05:09:44.705309Z"
    }
   },
   "outputs": [
    {
     "name": "stdout",
     "output_type": "stream",
     "text": [
      "Saving file to: s3://self-corrective-llm-data/dataset/raw_model_responses/train/train_UMWP.json\n",
      "File saved successfully to S3!\n"
     ]
    }
   ],
   "source": [
    "output_path = f\"s3://self-corrective-llm-data/dataset/raw_model_responses/{DATA_SPLIT}/{DATA_SPLIT}_{dataset_name}.json\"\n",
    "json_string = json.dumps(all_results, indent=4)\n",
    "s3 = s3fs.S3FileSystem()\n",
    "\n",
    "print(f\"Saving file to: {output_path}\")\n",
    "with s3.open(output_path, 'w') as f:\n",
    "    f.write(json_string)\n",
    "\n",
    "print(\"File saved successfully to S3!\")"
   ]
  },
  {
   "cell_type": "code",
   "execution_count": 16,
   "id": "e5a8a98e-eec7-445c-859c-2c415bd73725",
   "metadata": {
    "execution": {
     "iopub.execute_input": "2025-07-29T04:48:48.526622Z",
     "iopub.status.busy": "2025-07-29T04:48:48.525953Z",
     "iopub.status.idle": "2025-07-29T04:48:48.529594Z",
     "shell.execute_reply": "2025-07-29T04:48:48.528892Z",
     "shell.execute_reply.started": "2025-07-29T04:48:48.526593Z"
    }
   },
   "outputs": [],
   "source": []
  },
  {
   "cell_type": "code",
   "execution_count": 17,
   "id": "e702fca7-5fd5-4cda-b73e-04ade1641d81",
   "metadata": {
    "execution": {
     "iopub.execute_input": "2025-07-29T04:48:49.350633Z",
     "iopub.status.busy": "2025-07-29T04:48:49.350046Z",
     "iopub.status.idle": "2025-07-29T04:48:49.355028Z",
     "shell.execute_reply": "2025-07-29T04:48:49.354237Z",
     "shell.execute_reply.started": "2025-07-29T04:48:49.350603Z"
    }
   },
   "outputs": [],
   "source": []
  },
  {
   "cell_type": "code",
   "execution_count": null,
   "id": "96512d29-e230-41a5-9faa-8c2799806beb",
   "metadata": {
    "execution": {
     "iopub.status.busy": "2025-07-29T04:24:07.129405Z",
     "iopub.status.idle": "2025-07-29T04:24:07.129752Z",
     "shell.execute_reply": "2025-07-29T04:24:07.129594Z",
     "shell.execute_reply.started": "2025-07-29T04:24:07.129578Z"
    }
   },
   "outputs": [],
   "source": [
    "# prompt_1 = \"<|begin_of_text|><|start_header_id|>system<|end_header_id|>\\n\\nYou are a specialized question-answering AI. Your task is to give a concise answer to the question using *only* the provided context.<|eot_id|><|start_header_id|>user<|end_header_id|>\\n\\nContext:\\n'''\\nThe Pew Forum on Religion & Public Life ranks Egypt as the fifth worst country in the world for religious freedom. The United States Commission on International Religious Freedom, a bipartisan independent agency of the US government, has placed Egypt on its watch list of countries that require close monitoring due to the nature and extent of violations of religious freedom engaged in or tolerated by the government. According to a 2010 Pew Global Attitudes survey, 84% of Egyptians polled supported the death penalty for those who leave Islam; 77% supported whippings and cutting off of hands for theft and robbery; and 82% support stoning a person who commits adultery.\\n'''\\n\\nQuestion: What percentage of Egyptians polled support death penalty for those leaving Islam?<|eot_id|><|start_header_id|>assistant<|end_header_id|>\""
   ]
  },
  {
   "cell_type": "code",
   "execution_count": null,
   "id": "bdd5c33d-dd3d-4eeb-a20b-6167526f3f82",
   "metadata": {
    "execution": {
     "iopub.status.busy": "2025-07-29T04:24:07.130805Z",
     "iopub.status.idle": "2025-07-29T04:24:07.131430Z",
     "shell.execute_reply": "2025-07-29T04:24:07.131251Z",
     "shell.execute_reply.started": "2025-07-29T04:24:07.131234Z"
    }
   },
   "outputs": [],
   "source": [
    "# # send request\n",
    "# response = predictor.predict({\"inputs\": [prompt_1]*10, \"parameters\": {\"temperature\": 0.7, \"max_new_tokens\": 256}})\n",
    "\n",
    "# # print(response[\"responses\"])\n",
    "# for response in response[\"responses\"]:\n",
    "#     print(response)"
   ]
  },
  {
   "cell_type": "code",
   "execution_count": 22,
   "id": "659e8322-daa3-4fd2-b228-20b03f25256f",
   "metadata": {
    "execution": {
     "iopub.execute_input": "2025-07-29T05:09:44.844016Z",
     "iopub.status.busy": "2025-07-29T05:09:44.843815Z",
     "iopub.status.idle": "2025-07-29T05:09:45.521426Z",
     "shell.execute_reply": "2025-07-29T05:09:45.520715Z",
     "shell.execute_reply.started": "2025-07-29T05:09:44.843998Z"
    }
   },
   "outputs": [],
   "source": [
    "model.delete_model()\n",
    "model.delete_endpoint()"
   ]
  },
  {
   "cell_type": "code",
   "execution_count": null,
   "id": "a5b360ea-3f20-4d7f-b568-6f9a55f4882d",
   "metadata": {},
   "outputs": [],
   "source": []
  },
  {
   "cell_type": "code",
   "execution_count": null,
   "id": "d7456aad-d46d-4428-824f-c913108ecc6e",
   "metadata": {},
   "outputs": [],
   "source": []
  }
 ],
 "metadata": {
  "kernelspec": {
   "display_name": "Python 3 (ipykernel)",
   "language": "python",
   "name": "python3"
  },
  "language_info": {
   "codemirror_mode": {
    "name": "ipython",
    "version": 3
   },
   "file_extension": ".py",
   "mimetype": "text/x-python",
   "name": "python",
   "nbconvert_exporter": "python",
   "pygments_lexer": "ipython3",
   "version": "3.12.9"
  }
 },
 "nbformat": 4,
 "nbformat_minor": 5
}
